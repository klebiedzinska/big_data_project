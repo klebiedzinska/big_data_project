{
 "cells": [
  {
   "cell_type": "code",
   "execution_count": 1,
   "id": "fc9730eb",
   "metadata": {
    "pycharm": {
     "name": "#%%\n"
    }
   },
   "outputs": [
    {
     "name": "stdout",
     "output_type": "stream",
     "text": [
      "odict_keys([None])\n"
     ]
    }
   ],
   "source": [
    "import numpy as np\n",
    "\n",
    "import pyreadr\n",
    "import pandas as pd\n",
    "\n",
    "result = pyreadr.read_r('pollution/chicago.rds')\n",
    "\n",
    "# done! let's see what we got\n",
    "print(result.keys()) # let's check what objects we got: there is only None\n",
    "pollution = result[None] # extract the pandas data frame for the only object available"
   ]
  },
  {
   "cell_type": "code",
   "execution_count": 2,
   "id": "65c72b25",
   "metadata": {
    "pycharm": {
     "name": "#%%\n"
    }
   },
   "outputs": [
    {
     "data": {
      "text/plain": "      city  tmpd    dptp        date  pm25tmean2  pm10tmean2  o3tmean2  \\\n0     chic  31.5  31.500  1987-01-01         NaN   34.000000  4.250000   \n1     chic  33.0  29.875  1987-01-02         NaN         NaN  3.304348   \n2     chic  33.0  27.375  1987-01-03         NaN   34.166667  3.333333   \n3     chic  29.0  28.625  1987-01-04         NaN   47.000000  4.375000   \n4     chic  32.0  28.875  1987-01-05         NaN         NaN  4.750000   \n...    ...   ...     ...         ...         ...         ...       ...   \n6935  chic  40.0  33.600  2005-12-27   23.560000   27.000000  4.468750   \n6936  chic  37.0  34.500  2005-12-28   17.750000   27.500000  3.260417   \n6937  chic  35.0  29.400  2005-12-29    7.450000   23.500000  6.794837   \n6938  chic  36.0  31.000  2005-12-30   15.057143   19.200000  3.034420   \n6939  chic  35.0  30.100  2005-12-31   15.000000   23.500000  2.531250   \n\n      no2tmean2  \n0     19.988095  \n1     23.190994  \n2     23.815476  \n3     30.434524  \n4     30.333333  \n...         ...  \n6935  23.500000  \n6936  19.285628  \n6937  19.972222  \n6938  22.805556  \n6939  13.250000  \n\n[6940 rows x 8 columns]",
      "text/html": "<div>\n<style scoped>\n    .dataframe tbody tr th:only-of-type {\n        vertical-align: middle;\n    }\n\n    .dataframe tbody tr th {\n        vertical-align: top;\n    }\n\n    .dataframe thead th {\n        text-align: right;\n    }\n</style>\n<table border=\"1\" class=\"dataframe\">\n  <thead>\n    <tr style=\"text-align: right;\">\n      <th></th>\n      <th>city</th>\n      <th>tmpd</th>\n      <th>dptp</th>\n      <th>date</th>\n      <th>pm25tmean2</th>\n      <th>pm10tmean2</th>\n      <th>o3tmean2</th>\n      <th>no2tmean2</th>\n    </tr>\n  </thead>\n  <tbody>\n    <tr>\n      <th>0</th>\n      <td>chic</td>\n      <td>31.5</td>\n      <td>31.500</td>\n      <td>1987-01-01</td>\n      <td>NaN</td>\n      <td>34.000000</td>\n      <td>4.250000</td>\n      <td>19.988095</td>\n    </tr>\n    <tr>\n      <th>1</th>\n      <td>chic</td>\n      <td>33.0</td>\n      <td>29.875</td>\n      <td>1987-01-02</td>\n      <td>NaN</td>\n      <td>NaN</td>\n      <td>3.304348</td>\n      <td>23.190994</td>\n    </tr>\n    <tr>\n      <th>2</th>\n      <td>chic</td>\n      <td>33.0</td>\n      <td>27.375</td>\n      <td>1987-01-03</td>\n      <td>NaN</td>\n      <td>34.166667</td>\n      <td>3.333333</td>\n      <td>23.815476</td>\n    </tr>\n    <tr>\n      <th>3</th>\n      <td>chic</td>\n      <td>29.0</td>\n      <td>28.625</td>\n      <td>1987-01-04</td>\n      <td>NaN</td>\n      <td>47.000000</td>\n      <td>4.375000</td>\n      <td>30.434524</td>\n    </tr>\n    <tr>\n      <th>4</th>\n      <td>chic</td>\n      <td>32.0</td>\n      <td>28.875</td>\n      <td>1987-01-05</td>\n      <td>NaN</td>\n      <td>NaN</td>\n      <td>4.750000</td>\n      <td>30.333333</td>\n    </tr>\n    <tr>\n      <th>...</th>\n      <td>...</td>\n      <td>...</td>\n      <td>...</td>\n      <td>...</td>\n      <td>...</td>\n      <td>...</td>\n      <td>...</td>\n      <td>...</td>\n    </tr>\n    <tr>\n      <th>6935</th>\n      <td>chic</td>\n      <td>40.0</td>\n      <td>33.600</td>\n      <td>2005-12-27</td>\n      <td>23.560000</td>\n      <td>27.000000</td>\n      <td>4.468750</td>\n      <td>23.500000</td>\n    </tr>\n    <tr>\n      <th>6936</th>\n      <td>chic</td>\n      <td>37.0</td>\n      <td>34.500</td>\n      <td>2005-12-28</td>\n      <td>17.750000</td>\n      <td>27.500000</td>\n      <td>3.260417</td>\n      <td>19.285628</td>\n    </tr>\n    <tr>\n      <th>6937</th>\n      <td>chic</td>\n      <td>35.0</td>\n      <td>29.400</td>\n      <td>2005-12-29</td>\n      <td>7.450000</td>\n      <td>23.500000</td>\n      <td>6.794837</td>\n      <td>19.972222</td>\n    </tr>\n    <tr>\n      <th>6938</th>\n      <td>chic</td>\n      <td>36.0</td>\n      <td>31.000</td>\n      <td>2005-12-30</td>\n      <td>15.057143</td>\n      <td>19.200000</td>\n      <td>3.034420</td>\n      <td>22.805556</td>\n    </tr>\n    <tr>\n      <th>6939</th>\n      <td>chic</td>\n      <td>35.0</td>\n      <td>30.100</td>\n      <td>2005-12-31</td>\n      <td>15.000000</td>\n      <td>23.500000</td>\n      <td>2.531250</td>\n      <td>13.250000</td>\n    </tr>\n  </tbody>\n</table>\n<p>6940 rows × 8 columns</p>\n</div>"
     },
     "execution_count": 2,
     "metadata": {},
     "output_type": "execute_result"
    }
   ],
   "source": [
    "pollution"
   ]
  },
  {
   "cell_type": "code",
   "execution_count": 3,
   "id": "cca266fe",
   "metadata": {
    "pycharm": {
     "name": "#%%\n"
    }
   },
   "outputs": [],
   "source": [
    "pollution['date'] = pd.to_datetime(pollution['date'], errors='coerce')\n"
   ]
  },
  {
   "cell_type": "code",
   "execution_count": 4,
   "id": "b44fb382",
   "metadata": {
    "pycharm": {
     "name": "#%%\n"
    }
   },
   "outputs": [
    {
     "data": {
      "text/plain": "      city  tmpd  dptp       date  pm25tmean2  pm10tmean2   o3tmean2  \\\n4748  chic  42.0  32.2 2000-01-01   25.700000   29.333333   4.621212   \n4749  chic  48.0  42.3 2000-01-02   30.600000   47.500000  16.527778   \n4750  chic  35.0  33.7 2000-01-03   12.450000   11.500000   9.099034   \n4751  chic  28.0  22.2 2000-01-04   11.550000   19.000000  11.059179   \n4752  chic  20.0  16.6 2000-01-05   18.600000   23.500000   4.352657   \n...    ...   ...   ...        ...         ...         ...        ...   \n6934  chic  35.0  29.6 2005-12-26    8.400000    8.500000  14.041667   \n6935  chic  40.0  33.6 2005-12-27   23.560000   27.000000   4.468750   \n6936  chic  37.0  34.5 2005-12-28   17.750000   27.500000   3.260417   \n6937  chic  35.0  29.4 2005-12-29    7.450000   23.500000   6.794837   \n6938  chic  36.0  31.0 2005-12-30   15.057143   19.200000   3.034420   \n\n      no2tmean2  \n4748  24.069444  \n4749  16.312500  \n4750  15.114583  \n4751  23.801786  \n4752  20.349802  \n...         ...  \n6934  16.819444  \n6935  23.500000  \n6936  19.285628  \n6937  19.972222  \n6938  22.805556  \n\n[2191 rows x 8 columns]",
      "text/html": "<div>\n<style scoped>\n    .dataframe tbody tr th:only-of-type {\n        vertical-align: middle;\n    }\n\n    .dataframe tbody tr th {\n        vertical-align: top;\n    }\n\n    .dataframe thead th {\n        text-align: right;\n    }\n</style>\n<table border=\"1\" class=\"dataframe\">\n  <thead>\n    <tr style=\"text-align: right;\">\n      <th></th>\n      <th>city</th>\n      <th>tmpd</th>\n      <th>dptp</th>\n      <th>date</th>\n      <th>pm25tmean2</th>\n      <th>pm10tmean2</th>\n      <th>o3tmean2</th>\n      <th>no2tmean2</th>\n    </tr>\n  </thead>\n  <tbody>\n    <tr>\n      <th>4748</th>\n      <td>chic</td>\n      <td>42.0</td>\n      <td>32.2</td>\n      <td>2000-01-01</td>\n      <td>25.700000</td>\n      <td>29.333333</td>\n      <td>4.621212</td>\n      <td>24.069444</td>\n    </tr>\n    <tr>\n      <th>4749</th>\n      <td>chic</td>\n      <td>48.0</td>\n      <td>42.3</td>\n      <td>2000-01-02</td>\n      <td>30.600000</td>\n      <td>47.500000</td>\n      <td>16.527778</td>\n      <td>16.312500</td>\n    </tr>\n    <tr>\n      <th>4750</th>\n      <td>chic</td>\n      <td>35.0</td>\n      <td>33.7</td>\n      <td>2000-01-03</td>\n      <td>12.450000</td>\n      <td>11.500000</td>\n      <td>9.099034</td>\n      <td>15.114583</td>\n    </tr>\n    <tr>\n      <th>4751</th>\n      <td>chic</td>\n      <td>28.0</td>\n      <td>22.2</td>\n      <td>2000-01-04</td>\n      <td>11.550000</td>\n      <td>19.000000</td>\n      <td>11.059179</td>\n      <td>23.801786</td>\n    </tr>\n    <tr>\n      <th>4752</th>\n      <td>chic</td>\n      <td>20.0</td>\n      <td>16.6</td>\n      <td>2000-01-05</td>\n      <td>18.600000</td>\n      <td>23.500000</td>\n      <td>4.352657</td>\n      <td>20.349802</td>\n    </tr>\n    <tr>\n      <th>...</th>\n      <td>...</td>\n      <td>...</td>\n      <td>...</td>\n      <td>...</td>\n      <td>...</td>\n      <td>...</td>\n      <td>...</td>\n      <td>...</td>\n    </tr>\n    <tr>\n      <th>6934</th>\n      <td>chic</td>\n      <td>35.0</td>\n      <td>29.6</td>\n      <td>2005-12-26</td>\n      <td>8.400000</td>\n      <td>8.500000</td>\n      <td>14.041667</td>\n      <td>16.819444</td>\n    </tr>\n    <tr>\n      <th>6935</th>\n      <td>chic</td>\n      <td>40.0</td>\n      <td>33.6</td>\n      <td>2005-12-27</td>\n      <td>23.560000</td>\n      <td>27.000000</td>\n      <td>4.468750</td>\n      <td>23.500000</td>\n    </tr>\n    <tr>\n      <th>6936</th>\n      <td>chic</td>\n      <td>37.0</td>\n      <td>34.5</td>\n      <td>2005-12-28</td>\n      <td>17.750000</td>\n      <td>27.500000</td>\n      <td>3.260417</td>\n      <td>19.285628</td>\n    </tr>\n    <tr>\n      <th>6937</th>\n      <td>chic</td>\n      <td>35.0</td>\n      <td>29.4</td>\n      <td>2005-12-29</td>\n      <td>7.450000</td>\n      <td>23.500000</td>\n      <td>6.794837</td>\n      <td>19.972222</td>\n    </tr>\n    <tr>\n      <th>6938</th>\n      <td>chic</td>\n      <td>36.0</td>\n      <td>31.0</td>\n      <td>2005-12-30</td>\n      <td>15.057143</td>\n      <td>19.200000</td>\n      <td>3.034420</td>\n      <td>22.805556</td>\n    </tr>\n  </tbody>\n</table>\n<p>2191 rows × 8 columns</p>\n</div>"
     },
     "execution_count": 4,
     "metadata": {},
     "output_type": "execute_result"
    }
   ],
   "source": [
    "#filtorwanie dat\n",
    "filtered_df = pollution.loc[(pollution['date'] >= '2000-01-01')\n",
    "                     & (pollution['date'] < '2005-12-31')]\n",
    "\n",
    "filtered_df"
   ]
  },
  {
   "cell_type": "code",
   "execution_count": 5,
   "id": "569e4b2b",
   "metadata": {
    "pycharm": {
     "name": "#%%\n"
    }
   },
   "outputs": [],
   "source": [
    "filtered_df = filtered_df.groupby(filtered_df['date'].map(lambda x: x.year))"
   ]
  },
  {
   "cell_type": "code",
   "execution_count": 6,
   "id": "9d55ff55",
   "metadata": {
    "pycharm": {
     "name": "#%%\n"
    }
   },
   "outputs": [
    {
     "data": {
      "text/plain": "           tmpd       dptp  pm25tmean2  pm10tmean2   o3tmean2  no2tmean2\ndate                                                                    \n2000  50.040984  40.251639   16.938059   30.483138  18.531011  24.073101\n2001  51.043836  41.312329   16.926319   32.430495  19.354205  25.389624\n2002  51.169863  41.450000   15.273349   29.353755  20.989783  23.667676\n2003  49.304945  38.341096   15.231826   27.505114  20.977644  25.244054\n2004  50.125683  39.988767   14.628638   27.864162  20.536332  23.444885\n2005  51.571429  39.753022   16.189046   28.661126  23.250160  23.192655",
      "text/html": "<div>\n<style scoped>\n    .dataframe tbody tr th:only-of-type {\n        vertical-align: middle;\n    }\n\n    .dataframe tbody tr th {\n        vertical-align: top;\n    }\n\n    .dataframe thead th {\n        text-align: right;\n    }\n</style>\n<table border=\"1\" class=\"dataframe\">\n  <thead>\n    <tr style=\"text-align: right;\">\n      <th></th>\n      <th>tmpd</th>\n      <th>dptp</th>\n      <th>pm25tmean2</th>\n      <th>pm10tmean2</th>\n      <th>o3tmean2</th>\n      <th>no2tmean2</th>\n    </tr>\n    <tr>\n      <th>date</th>\n      <th></th>\n      <th></th>\n      <th></th>\n      <th></th>\n      <th></th>\n      <th></th>\n    </tr>\n  </thead>\n  <tbody>\n    <tr>\n      <th>2000</th>\n      <td>50.040984</td>\n      <td>40.251639</td>\n      <td>16.938059</td>\n      <td>30.483138</td>\n      <td>18.531011</td>\n      <td>24.073101</td>\n    </tr>\n    <tr>\n      <th>2001</th>\n      <td>51.043836</td>\n      <td>41.312329</td>\n      <td>16.926319</td>\n      <td>32.430495</td>\n      <td>19.354205</td>\n      <td>25.389624</td>\n    </tr>\n    <tr>\n      <th>2002</th>\n      <td>51.169863</td>\n      <td>41.450000</td>\n      <td>15.273349</td>\n      <td>29.353755</td>\n      <td>20.989783</td>\n      <td>23.667676</td>\n    </tr>\n    <tr>\n      <th>2003</th>\n      <td>49.304945</td>\n      <td>38.341096</td>\n      <td>15.231826</td>\n      <td>27.505114</td>\n      <td>20.977644</td>\n      <td>25.244054</td>\n    </tr>\n    <tr>\n      <th>2004</th>\n      <td>50.125683</td>\n      <td>39.988767</td>\n      <td>14.628638</td>\n      <td>27.864162</td>\n      <td>20.536332</td>\n      <td>23.444885</td>\n    </tr>\n    <tr>\n      <th>2005</th>\n      <td>51.571429</td>\n      <td>39.753022</td>\n      <td>16.189046</td>\n      <td>28.661126</td>\n      <td>23.250160</td>\n      <td>23.192655</td>\n    </tr>\n  </tbody>\n</table>\n</div>"
     },
     "execution_count": 6,
     "metadata": {},
     "output_type": "execute_result"
    }
   ],
   "source": [
    "filtered_df_mean = filtered_df.mean()\n",
    "filtered_df_mean"
   ]
  },
  {
   "cell_type": "code",
   "execution_count": 7,
   "id": "e81177cd",
   "metadata": {
    "pycharm": {
     "name": "#%%\n"
    }
   },
   "outputs": [
    {
     "data": {
      "text/plain": "                      ZIP code (or aggregate)  Hospitalizations 2000  \\\n0                        60606, 60607 & 60661                   56.0   \n1   60601, 60602, 60603, 60604, 60605 & 60611                   60.0   \n2                                       60608                  258.0   \n3                                       60609                  386.0   \n4                               60610 & 60654                  160.0   \n5                                       60612                  302.0   \n6                                       60613                   63.0   \n7                                       60614                   60.0   \n8                                       60615                  200.0   \n9                                       60616                  144.0   \n10                                      60617                  358.0   \n11                                      60618                  199.0   \n12                                      60619                  358.0   \n13                                      60620                  471.0   \n14                                      60621                  336.0   \n15                              60622 & 60642                  293.0   \n16                                      60623                  461.0   \n17                                      60624                  511.0   \n18                                      60625                  144.0   \n19                                      60626                  183.0   \n20                                      60628                  581.0   \n21                                      60629                  265.0   \n22                                      60630                   72.0   \n23                                      60631                   29.0   \n24                                      60632                  109.0   \n25                                      60634                   93.0   \n26                                      60636                  360.0   \n27                                      60637                  309.0   \n28                                      60638                   97.0   \n29                                      60639                  296.0   \n30                                      60640                  193.0   \n31                                      60641                  114.0   \n32                                      60643                  191.0   \n33                                      60644                  450.0   \n34                                      60645                   78.0   \n35                                      60646                   40.0   \n36                                      60647                  390.0   \n37                                      60649                  303.0   \n38                                      60651                  475.0   \n39                                      60652                   79.0   \n40                                      60653                  257.0   \n41                                      60655                   45.0   \n42                                      60656                   33.0   \n43                                      60657                   55.0   \n44                                      60659                   59.0   \n45                                      60660                   71.0   \n46                              60707 & 60635                    NaN   \n47                              60827 & 60633                   22.0   \n48                                    CHICAGO                    NaN   \n\n    Crude Rate 2000  Crude Rate 2000 Lower CI  Crude Rate 2000 Upper CI  \\\n0              25.9                      19.6                      33.6   \n1              13.3                      10.2                      17.1   \n2              27.9                      24.5                      31.3   \n3              48.6                      43.7                      53.4   \n4              33.7                      28.5                      38.9   \n5              79.5                      70.5                      88.5   \n6              12.5                       9.6                      15.9   \n7               9.2                       7.0                      11.8   \n8              44.3                      38.2                      50.5   \n9              30.6                      25.6                      35.6   \n10             37.2                      33.3                      41.0   \n11             20.3                      17.5                      23.1   \n12             47.8                      42.8                      52.7   \n13             54.9                      50.0                      59.9   \n14             70.7                      63.2                      78.3   \n15             38.5                      34.1                      43.0   \n16             42.6                      38.7                      46.5   \n17            111.9                     102.2                     121.7   \n18             15.8                      13.2                      18.3   \n19             30.9                      26.4                      35.4   \n20             66.2                      60.8                      71.5   \n21             23.2                      20.4                      26.0   \n22             13.1                      10.3                      16.6   \n23             10.1                       6.7                      14.4   \n24             12.4                      10.1                      14.8   \n25             12.5                      10.1                      15.4   \n26             70.0                      62.7                      77.2   \n27             54.1                      48.1                      60.2   \n28             17.4                      14.1                      21.2   \n29             31.8                      28.2                      35.5   \n30             26.1                      22.4                      29.7   \n31             15.4                      12.6                      18.3   \n32             36.3                      31.2                      41.5   \n33             76.2                      69.2                      83.2   \n34             17.6                      14.0                      22.0   \n35             14.8                      10.6                      20.2   \n36             39.5                      35.6                      43.4   \n37             55.3                      49.0                      61.5   \n38             61.2                      55.7                      66.7   \n39             20.2                      16.0                      25.2   \n40             74.5                      65.4                      83.6   \n41             15.4                      11.3                      20.7   \n42             12.2                       8.4                      17.1   \n43              8.2                       6.2                      10.7   \n44             15.1                      11.5                      19.4   \n45             14.9                      11.6                      18.8   \n46              NaN                       NaN                       NaN   \n47              4.7                       3.0                       7.2   \n48             34.1                      33.4                      34.8   \n\n    Adjusted Rate 2000 (Ages 5-64 only)  Adjusted Rate 2000 Lower CI  \\\n0                                  21.5                         13.9   \n1                                  17.0                         10.0   \n2                                  25.3                         21.6   \n3                                  46.3                         40.8   \n4                                  33.3                         26.7   \n5                                  72.7                         63.3   \n6                                  13.8                          9.1   \n7                                   6.9                          4.2   \n8                                  36.9                         30.7   \n9                                  25.0                         20.1   \n10                                 30.9                         27.1   \n11                                 18.9                         15.9   \n12                                 44.3                         39.1   \n13                                 46.2                         41.2   \n14                                 65.7                         57.4   \n15                                 31.7                         27.0   \n16                                 33.4                         29.4   \n17                                 97.8                         87.6   \n18                                 13.5                         10.9   \n19                                 29.4                         24.5   \n20                                 60.2                         54.7   \n21                                 19.0                         16.2   \n22                                 11.5                          8.5   \n23                                  7.4                          4.2   \n24                                  7.7                          5.7   \n25                                 10.7                          8.2   \n26                                 62.2                         54.8   \n27                                 45.3                         39.2   \n28                                 14.8                         11.4   \n29                                 29.9                         26.0   \n30                                 23.0                         19.1   \n31                                 11.7                          9.2   \n32                                 27.5                         22.8   \n33                                 67.4                         60.1   \n34                                 14.1                         10.4   \n35                                 12.3                          7.7   \n36                                 41.1                         36.3   \n37                                 50.9                         44.5   \n38                                 53.9                         48.3   \n39                                 17.6                         13.4   \n40                                 70.7                         60.7   \n41                                 14.2                          9.8   \n42                                 10.2                          6.2   \n43                                 10.3                          6.1   \n44                                 11.6                          8.1   \n45                                 12.8                          8.9   \n46                                  NaN                          NaN   \n47                                  4.3                          2.5   \n48                                 29.4                         28.7   \n\n    Adjusted Rate 2000 Upper CI  Hospitalizations 2001  Crude Rate 2001  ...  \\\n0                          30.8                   46.0             20.1  ...   \n1                          25.7                   42.0              8.9  ...   \n2                          29.2                  206.0             22.5  ...   \n3                          52.1                  336.0             43.1  ...   \n4                          40.5                  172.0             35.8  ...   \n5                          82.7                  298.0             79.4  ...   \n6                          19.5                   45.0              8.9  ...   \n7                          10.2                   78.0             11.9  ...   \n8                          43.8                  130.0             29.1  ...   \n9                          30.4                   90.0             19.1  ...   \n10                         34.9                  359.0             37.8  ...   \n11                         22.1                  161.0             16.5  ...   \n12                         49.9                  352.0             47.7  ...   \n13                         51.4                  405.0             48.0  ...   \n14                         74.4                  293.0             63.2  ...   \n15                         36.6                  287.0             38.0  ...   \n16                         37.6                  405.0             38.0  ...   \n17                        108.5                  438.0             97.6  ...   \n18                         16.4                  126.0             14.0  ...   \n19                         34.9                  170.0             29.1  ...   \n20                         66.1                  408.0             47.3  ...   \n21                         21.9                  234.0             20.5  ...   \n22                         14.9                   72.0             13.2  ...   \n23                         11.4                   37.0             12.8  ...   \n24                         10.0                  126.0             14.3  ...   \n25                         13.5                  108.0             14.6  ...   \n26                         70.1                  340.0             67.5  ...   \n27                         51.8                  281.0             49.9  ...   \n28                         18.7                   85.0             15.3  ...   \n29                         34.1                  294.0             31.7  ...   \n30                         27.3                  165.0             22.5  ...   \n31                         14.6                  110.0             14.9  ...   \n32                         32.7                  177.0             33.8  ...   \n33                         75.0                  428.0             73.8  ...   \n34                         18.4                   70.0             15.8  ...   \n35                         17.9                   24.0              8.9  ...   \n36                         46.1                  357.0             36.6  ...   \n37                         57.7                  280.0             51.8  ...   \n38                         59.8                  410.0             53.8  ...   \n39                         22.4                   68.0             17.3  ...   \n40                         81.5                  196.0             57.6  ...   \n41                         19.4                   22.0              7.6  ...   \n42                         15.2                   36.0             13.2  ...   \n43                         15.5                   47.0              7.0  ...   \n44                         15.7                   48.0             12.3  ...   \n45                         17.2                   80.0             16.9  ...   \n46                          NaN                    NaN              NaN  ...   \n47                          6.7                   19.0              4.1  ...   \n48                         30.1                    NaN             30.6  ...   \n\n    Adjusted Rate 2010 (Ages 5-64 only)  Adjusted Rate 2010 Lower CI  \\\n0                                  15.1                          7.8   \n1                                   9.6                          5.3   \n2                                  13.6                         10.9   \n3                                  23.5                         19.5   \n4                                  21.6                         15.8   \n5                                  46.1                         38.1   \n6                                   8.3                          5.5   \n7                                   5.7                          3.5   \n8                                  18.0                         13.5   \n9                                   8.9                          6.2   \n10                                 34.1                         29.8   \n11                                 10.8                          8.5   \n12                                 49.8                         43.9   \n13                                 38.4                         33.6   \n14                                 68.9                         59.6   \n15                                 25.8                         21.0   \n16                                 36.9                         32.5   \n17                                 80.1                         70.4   \n18                                 12.2                          9.6   \n19                                 20.4                         15.9   \n20                                 40.0                         35.0   \n21                                 22.7                         19.7   \n22                                  5.6                          3.6   \n23                                  3.7                          1.6   \n24                                  6.8                          5.0   \n25                                  7.4                          5.4   \n26                                 67.1                         58.6   \n27                                 44.8                         38.5   \n28                                  7.4                          5.1   \n29                                 23.5                         20.1   \n30                                 20.8                         16.7   \n31                                 11.0                          8.5   \n32                                 33.6                         28.0   \n33                                 53.3                         46.4   \n34                                  9.6                          6.7   \n35                                  6.1                          3.1   \n36                                 29.2                         25.1   \n37                                 48.6                         42.0   \n38                                 43.3                         37.9   \n39                                 15.0                         11.3   \n40                                 39.0                         31.6   \n41                                  4.1                          1.9   \n42                                  5.5                          2.8   \n43                                  6.2                          3.7   \n44                                 10.1                          6.8   \n45                                  7.1                          4.2   \n46                                  8.5                          5.7   \n47                                 24.4                         19.4   \n48                                 23.1                         22.4   \n\n    Adjusted Rate 2010 Upper CI  Hospitalizations 2011  Crude Rate 2011  \\\n0                          24.7                   34.0             10.0   \n1                          15.2                   64.0              9.6   \n2                          16.6                  145.0             17.5   \n3                          27.9                  195.0             30.0   \n4                          28.3                   84.0             16.0   \n5                          54.8                  184.0             55.0   \n6                          11.8                   40.0              8.3   \n7                           8.4                   46.0              6.9   \n8                          23.0                  111.0             27.3   \n9                          12.1                   91.0             18.8   \n10                         38.6                  352.0             41.8   \n11                         13.4                  126.0             13.7   \n12                         56.1                  325.0             50.9   \n13                         43.6                  338.0             46.8   \n14                         78.7                  250.0             69.6   \n15                         31.1                  185.0             26.0   \n16                         41.5                  322.0             35.0   \n17                         90.3                  313.0             82.1   \n18                         15.2                  101.0             12.8   \n19                         25.4                   84.0             16.8   \n20                         45.3                  346.0             47.9   \n21                         26.0                  259.0             22.7   \n22                          8.0                   62.0             11.5   \n23                          6.5                   17.0              5.9   \n24                          8.9                  100.0             10.9   \n25                          9.8                   76.0             10.2   \n26                         76.2                  317.0             77.5   \n27                         51.6                  220.0             44.4   \n28                         10.1                   50.0              9.1   \n29                         27.1                  234.0             25.9   \n30                         25.4                  182.0             27.7   \n31                         13.9                  106.0             14.8   \n32                         39.6                  149.0             29.8   \n33                         60.6                  289.0             59.4   \n34                         12.9                   52.0             11.5   \n35                         10.0                   22.0              8.1   \n36                         33.6                  244.0             28.0   \n37                         55.6                  296.0             63.5   \n38                         49.0                  342.0             53.2   \n39                         19.3                   54.0             13.2   \n40                         47.2                  134.0             44.8   \n41                          7.0                   19.0              6.7   \n42                          9.2                   20.0              7.2   \n43                          9.2                   34.0              5.2   \n44                         13.9                   38.0             10.0   \n45                         10.8                   68.0             15.9   \n46                         11.8                   65.0             15.1   \n47                         30.0                  131.0             32.1   \n48                         23.7                    NaN             26.6   \n\n    Crude Rate 2011 Lower CI  Crude Rate 2011 Upper CI  \\\n0                        6.9                      14.0   \n1                        7.4                      12.2   \n2                       14.7                      20.4   \n3                       25.8                      34.3   \n4                       12.7                      19.8   \n5                       47.0                      62.9   \n6                        5.9                      11.3   \n7                        5.1                       9.2   \n8                       22.3                      32.4   \n9                       15.1                      23.1   \n10                      37.5                      46.2   \n11                      11.3                      16.1   \n12                      45.4                      56.5   \n13                      41.8                      51.8   \n14                      61.0                      78.2   \n15                      22.3                      29.8   \n16                      31.1                      38.8   \n17                      73.0                      91.2   \n18                      10.3                      15.3   \n19                      13.4                      20.7   \n20                      42.9                      53.0   \n21                      20.0                      25.5   \n22                       8.8                      14.7   \n23                       3.5                       9.5   \n24                       8.8                      13.1   \n25                       8.1                      12.8   \n26                      68.9                      86.0   \n27                      38.6                      50.3   \n28                       6.7                      12.0   \n29                      22.6                      29.2   \n30                      23.6                      31.7   \n31                      12.0                      17.6   \n32                      25.0                      34.6   \n33                      52.6                      66.3   \n34                       8.6                      15.1   \n35                       5.1                      12.3   \n36                      24.4                      31.5   \n37                      56.2                      70.7   \n38                      47.6                      58.9   \n39                       9.9                      17.2   \n40                      37.2                      52.4   \n41                       4.0                      10.4   \n42                       4.4                      11.2   \n43                       3.6                       7.2   \n44                       7.1                      13.7   \n45                      12.4                      20.2   \n46                      11.7                      19.3   \n47                      26.6                      37.5   \n48                      26.0                      27.2   \n\n    Adjusted Rate 2011 (Ages 5-64 only)  Adjusted Rate 2011 Lower CI  \\\n0                                  15.9                          8.9   \n1                                   8.6                          5.1   \n2                                  15.6                         12.7   \n3                                  27.7                         23.3   \n4                                  21.6                         15.2   \n5                                  49.7                         41.4   \n6                                   6.3                          4.0   \n7                                   6.6                          4.1   \n8                                  26.7                         21.2   \n9                                  14.1                         10.5   \n10                                 34.5                         30.3   \n11                                 10.1                          7.9   \n12                                 46.7                         41.0   \n13                                 42.1                         37.0   \n14                                 68.1                         58.9   \n15                                 24.5                         19.9   \n16                                 34.8                         30.5   \n17                                 74.5                         65.2   \n18                                 10.1                          7.7   \n19                                 15.1                         11.4   \n20                                 42.5                         37.4   \n21                                 20.6                         17.7   \n22                                  8.6                          6.0   \n23                                  2.8                          1.0   \n24                                  7.9                          5.9   \n25                                  8.8                          6.5   \n26                                 73.3                         64.3   \n27                                 41.9                         35.8   \n28                                  6.7                          4.5   \n29                                 21.8                         18.5   \n30                                 27.3                         22.3   \n31                                 10.0                          7.7   \n32                                 24.6                         19.9   \n33                                 55.0                         48.0   \n34                                  8.4                          5.7   \n35                                  4.1                          1.7   \n36                                 26.3                         22.2   \n37                                 59.9                         52.5   \n38                                 46.2                         40.6   \n39                                  9.1                          6.2   \n40                                 38.3                         31.0   \n41                                  5.1                          2.6   \n42                                  5.3                          2.8   \n43                                  7.1                          3.6   \n44                                  9.6                          6.5   \n45                                 13.7                          9.7   \n46                                 11.8                          8.4   \n47                                 28.8                         23.4   \n48                                 23.3                         22.7   \n\n    Adjusted Rate 2011 Upper CI  \n0                          24.9  \n1                          12.8  \n2                          18.8  \n3                          32.5  \n4                          29.2  \n5                          58.8  \n6                           9.2  \n7                           9.7  \n8                          32.8  \n9                          18.3  \n10                         39.1  \n11                         12.7  \n12                         52.7  \n13                         47.5  \n14                         77.9  \n15                         29.6  \n16                         39.3  \n17                         84.4  \n18                         12.8  \n19                         19.2  \n20                         47.9  \n21                         23.6  \n22                         11.7  \n23                          5.6  \n24                         10.1  \n25                         11.4  \n26                         82.9  \n27                         48.5  \n28                          9.3  \n29                         25.3  \n30                         32.7  \n31                         12.7  \n32                         29.8  \n33                         62.5  \n34                         11.6  \n35                          7.5  \n36                         30.6  \n37                         67.8  \n38                         52.1  \n39                         12.5  \n40                         46.5  \n41                          8.4  \n42                          8.6  \n43                         11.8  \n44                         13.3  \n45                         18.3  \n46                         15.7  \n47                         34.7  \n48                         23.9  \n\n[49 rows x 85 columns]",
      "text/html": "<div>\n<style scoped>\n    .dataframe tbody tr th:only-of-type {\n        vertical-align: middle;\n    }\n\n    .dataframe tbody tr th {\n        vertical-align: top;\n    }\n\n    .dataframe thead th {\n        text-align: right;\n    }\n</style>\n<table border=\"1\" class=\"dataframe\">\n  <thead>\n    <tr style=\"text-align: right;\">\n      <th></th>\n      <th>ZIP code (or aggregate)</th>\n      <th>Hospitalizations 2000</th>\n      <th>Crude Rate 2000</th>\n      <th>Crude Rate 2000 Lower CI</th>\n      <th>Crude Rate 2000 Upper CI</th>\n      <th>Adjusted Rate 2000 (Ages 5-64 only)</th>\n      <th>Adjusted Rate 2000 Lower CI</th>\n      <th>Adjusted Rate 2000 Upper CI</th>\n      <th>Hospitalizations 2001</th>\n      <th>Crude Rate 2001</th>\n      <th>...</th>\n      <th>Adjusted Rate 2010 (Ages 5-64 only)</th>\n      <th>Adjusted Rate 2010 Lower CI</th>\n      <th>Adjusted Rate 2010 Upper CI</th>\n      <th>Hospitalizations 2011</th>\n      <th>Crude Rate 2011</th>\n      <th>Crude Rate 2011 Lower CI</th>\n      <th>Crude Rate 2011 Upper CI</th>\n      <th>Adjusted Rate 2011 (Ages 5-64 only)</th>\n      <th>Adjusted Rate 2011 Lower CI</th>\n      <th>Adjusted Rate 2011 Upper CI</th>\n    </tr>\n  </thead>\n  <tbody>\n    <tr>\n      <th>0</th>\n      <td>60606, 60607 &amp; 60661</td>\n      <td>56.0</td>\n      <td>25.9</td>\n      <td>19.6</td>\n      <td>33.6</td>\n      <td>21.5</td>\n      <td>13.9</td>\n      <td>30.8</td>\n      <td>46.0</td>\n      <td>20.1</td>\n      <td>...</td>\n      <td>15.1</td>\n      <td>7.8</td>\n      <td>24.7</td>\n      <td>34.0</td>\n      <td>10.0</td>\n      <td>6.9</td>\n      <td>14.0</td>\n      <td>15.9</td>\n      <td>8.9</td>\n      <td>24.9</td>\n    </tr>\n    <tr>\n      <th>1</th>\n      <td>60601, 60602, 60603, 60604, 60605 &amp; 60611</td>\n      <td>60.0</td>\n      <td>13.3</td>\n      <td>10.2</td>\n      <td>17.1</td>\n      <td>17.0</td>\n      <td>10.0</td>\n      <td>25.7</td>\n      <td>42.0</td>\n      <td>8.9</td>\n      <td>...</td>\n      <td>9.6</td>\n      <td>5.3</td>\n      <td>15.2</td>\n      <td>64.0</td>\n      <td>9.6</td>\n      <td>7.4</td>\n      <td>12.2</td>\n      <td>8.6</td>\n      <td>5.1</td>\n      <td>12.8</td>\n    </tr>\n    <tr>\n      <th>2</th>\n      <td>60608</td>\n      <td>258.0</td>\n      <td>27.9</td>\n      <td>24.5</td>\n      <td>31.3</td>\n      <td>25.3</td>\n      <td>21.6</td>\n      <td>29.2</td>\n      <td>206.0</td>\n      <td>22.5</td>\n      <td>...</td>\n      <td>13.6</td>\n      <td>10.9</td>\n      <td>16.6</td>\n      <td>145.0</td>\n      <td>17.5</td>\n      <td>14.7</td>\n      <td>20.4</td>\n      <td>15.6</td>\n      <td>12.7</td>\n      <td>18.8</td>\n    </tr>\n    <tr>\n      <th>3</th>\n      <td>60609</td>\n      <td>386.0</td>\n      <td>48.6</td>\n      <td>43.7</td>\n      <td>53.4</td>\n      <td>46.3</td>\n      <td>40.8</td>\n      <td>52.1</td>\n      <td>336.0</td>\n      <td>43.1</td>\n      <td>...</td>\n      <td>23.5</td>\n      <td>19.5</td>\n      <td>27.9</td>\n      <td>195.0</td>\n      <td>30.0</td>\n      <td>25.8</td>\n      <td>34.3</td>\n      <td>27.7</td>\n      <td>23.3</td>\n      <td>32.5</td>\n    </tr>\n    <tr>\n      <th>4</th>\n      <td>60610 &amp; 60654</td>\n      <td>160.0</td>\n      <td>33.7</td>\n      <td>28.5</td>\n      <td>38.9</td>\n      <td>33.3</td>\n      <td>26.7</td>\n      <td>40.5</td>\n      <td>172.0</td>\n      <td>35.8</td>\n      <td>...</td>\n      <td>21.6</td>\n      <td>15.8</td>\n      <td>28.3</td>\n      <td>84.0</td>\n      <td>16.0</td>\n      <td>12.7</td>\n      <td>19.8</td>\n      <td>21.6</td>\n      <td>15.2</td>\n      <td>29.2</td>\n    </tr>\n    <tr>\n      <th>5</th>\n      <td>60612</td>\n      <td>302.0</td>\n      <td>79.5</td>\n      <td>70.5</td>\n      <td>88.5</td>\n      <td>72.7</td>\n      <td>63.3</td>\n      <td>82.7</td>\n      <td>298.0</td>\n      <td>79.4</td>\n      <td>...</td>\n      <td>46.1</td>\n      <td>38.1</td>\n      <td>54.8</td>\n      <td>184.0</td>\n      <td>55.0</td>\n      <td>47.0</td>\n      <td>62.9</td>\n      <td>49.7</td>\n      <td>41.4</td>\n      <td>58.8</td>\n    </tr>\n    <tr>\n      <th>6</th>\n      <td>60613</td>\n      <td>63.0</td>\n      <td>12.5</td>\n      <td>9.6</td>\n      <td>15.9</td>\n      <td>13.8</td>\n      <td>9.1</td>\n      <td>19.5</td>\n      <td>45.0</td>\n      <td>8.9</td>\n      <td>...</td>\n      <td>8.3</td>\n      <td>5.5</td>\n      <td>11.8</td>\n      <td>40.0</td>\n      <td>8.3</td>\n      <td>5.9</td>\n      <td>11.3</td>\n      <td>6.3</td>\n      <td>4.0</td>\n      <td>9.2</td>\n    </tr>\n    <tr>\n      <th>7</th>\n      <td>60614</td>\n      <td>60.0</td>\n      <td>9.2</td>\n      <td>7.0</td>\n      <td>11.8</td>\n      <td>6.9</td>\n      <td>4.2</td>\n      <td>10.2</td>\n      <td>78.0</td>\n      <td>11.9</td>\n      <td>...</td>\n      <td>5.7</td>\n      <td>3.5</td>\n      <td>8.4</td>\n      <td>46.0</td>\n      <td>6.9</td>\n      <td>5.1</td>\n      <td>9.2</td>\n      <td>6.6</td>\n      <td>4.1</td>\n      <td>9.7</td>\n    </tr>\n    <tr>\n      <th>8</th>\n      <td>60615</td>\n      <td>200.0</td>\n      <td>44.3</td>\n      <td>38.2</td>\n      <td>50.5</td>\n      <td>36.9</td>\n      <td>30.7</td>\n      <td>43.8</td>\n      <td>130.0</td>\n      <td>29.1</td>\n      <td>...</td>\n      <td>18.0</td>\n      <td>13.5</td>\n      <td>23.0</td>\n      <td>111.0</td>\n      <td>27.3</td>\n      <td>22.3</td>\n      <td>32.4</td>\n      <td>26.7</td>\n      <td>21.2</td>\n      <td>32.8</td>\n    </tr>\n    <tr>\n      <th>9</th>\n      <td>60616</td>\n      <td>144.0</td>\n      <td>30.6</td>\n      <td>25.6</td>\n      <td>35.6</td>\n      <td>25.0</td>\n      <td>20.1</td>\n      <td>30.4</td>\n      <td>90.0</td>\n      <td>19.1</td>\n      <td>...</td>\n      <td>8.9</td>\n      <td>6.2</td>\n      <td>12.1</td>\n      <td>91.0</td>\n      <td>18.8</td>\n      <td>15.1</td>\n      <td>23.1</td>\n      <td>14.1</td>\n      <td>10.5</td>\n      <td>18.3</td>\n    </tr>\n    <tr>\n      <th>10</th>\n      <td>60617</td>\n      <td>358.0</td>\n      <td>37.2</td>\n      <td>33.3</td>\n      <td>41.0</td>\n      <td>30.9</td>\n      <td>27.1</td>\n      <td>34.9</td>\n      <td>359.0</td>\n      <td>37.8</td>\n      <td>...</td>\n      <td>34.1</td>\n      <td>29.8</td>\n      <td>38.6</td>\n      <td>352.0</td>\n      <td>41.8</td>\n      <td>37.5</td>\n      <td>46.2</td>\n      <td>34.5</td>\n      <td>30.3</td>\n      <td>39.1</td>\n    </tr>\n    <tr>\n      <th>11</th>\n      <td>60618</td>\n      <td>199.0</td>\n      <td>20.3</td>\n      <td>17.5</td>\n      <td>23.1</td>\n      <td>18.9</td>\n      <td>15.9</td>\n      <td>22.1</td>\n      <td>161.0</td>\n      <td>16.5</td>\n      <td>...</td>\n      <td>10.8</td>\n      <td>8.5</td>\n      <td>13.4</td>\n      <td>126.0</td>\n      <td>13.7</td>\n      <td>11.3</td>\n      <td>16.1</td>\n      <td>10.1</td>\n      <td>7.9</td>\n      <td>12.7</td>\n    </tr>\n    <tr>\n      <th>12</th>\n      <td>60619</td>\n      <td>358.0</td>\n      <td>47.8</td>\n      <td>42.8</td>\n      <td>52.7</td>\n      <td>44.3</td>\n      <td>39.1</td>\n      <td>49.9</td>\n      <td>352.0</td>\n      <td>47.7</td>\n      <td>...</td>\n      <td>49.8</td>\n      <td>43.9</td>\n      <td>56.1</td>\n      <td>325.0</td>\n      <td>50.9</td>\n      <td>45.4</td>\n      <td>56.5</td>\n      <td>46.7</td>\n      <td>41.0</td>\n      <td>52.7</td>\n    </tr>\n    <tr>\n      <th>13</th>\n      <td>60620</td>\n      <td>471.0</td>\n      <td>54.9</td>\n      <td>50.0</td>\n      <td>59.9</td>\n      <td>46.2</td>\n      <td>41.2</td>\n      <td>51.4</td>\n      <td>405.0</td>\n      <td>48.0</td>\n      <td>...</td>\n      <td>38.4</td>\n      <td>33.6</td>\n      <td>43.6</td>\n      <td>338.0</td>\n      <td>46.8</td>\n      <td>41.8</td>\n      <td>51.8</td>\n      <td>42.1</td>\n      <td>37.0</td>\n      <td>47.5</td>\n    </tr>\n    <tr>\n      <th>14</th>\n      <td>60621</td>\n      <td>336.0</td>\n      <td>70.7</td>\n      <td>63.2</td>\n      <td>78.3</td>\n      <td>65.7</td>\n      <td>57.4</td>\n      <td>74.4</td>\n      <td>293.0</td>\n      <td>63.2</td>\n      <td>...</td>\n      <td>68.9</td>\n      <td>59.6</td>\n      <td>78.7</td>\n      <td>250.0</td>\n      <td>69.6</td>\n      <td>61.0</td>\n      <td>78.2</td>\n      <td>68.1</td>\n      <td>58.9</td>\n      <td>77.9</td>\n    </tr>\n    <tr>\n      <th>15</th>\n      <td>60622 &amp; 60642</td>\n      <td>293.0</td>\n      <td>38.5</td>\n      <td>34.1</td>\n      <td>43.0</td>\n      <td>31.7</td>\n      <td>27.0</td>\n      <td>36.6</td>\n      <td>287.0</td>\n      <td>38.0</td>\n      <td>...</td>\n      <td>25.8</td>\n      <td>21.0</td>\n      <td>31.1</td>\n      <td>185.0</td>\n      <td>26.0</td>\n      <td>22.3</td>\n      <td>29.8</td>\n      <td>24.5</td>\n      <td>19.9</td>\n      <td>29.6</td>\n    </tr>\n    <tr>\n      <th>16</th>\n      <td>60623</td>\n      <td>461.0</td>\n      <td>42.6</td>\n      <td>38.7</td>\n      <td>46.5</td>\n      <td>33.4</td>\n      <td>29.4</td>\n      <td>37.6</td>\n      <td>405.0</td>\n      <td>38.0</td>\n      <td>...</td>\n      <td>36.9</td>\n      <td>32.5</td>\n      <td>41.5</td>\n      <td>322.0</td>\n      <td>35.0</td>\n      <td>31.1</td>\n      <td>38.8</td>\n      <td>34.8</td>\n      <td>30.5</td>\n      <td>39.3</td>\n    </tr>\n    <tr>\n      <th>17</th>\n      <td>60624</td>\n      <td>511.0</td>\n      <td>111.9</td>\n      <td>102.2</td>\n      <td>121.7</td>\n      <td>97.8</td>\n      <td>87.6</td>\n      <td>108.5</td>\n      <td>438.0</td>\n      <td>97.6</td>\n      <td>...</td>\n      <td>80.1</td>\n      <td>70.4</td>\n      <td>90.3</td>\n      <td>313.0</td>\n      <td>82.1</td>\n      <td>73.0</td>\n      <td>91.2</td>\n      <td>74.5</td>\n      <td>65.2</td>\n      <td>84.4</td>\n    </tr>\n    <tr>\n      <th>18</th>\n      <td>60625</td>\n      <td>144.0</td>\n      <td>15.8</td>\n      <td>13.2</td>\n      <td>18.3</td>\n      <td>13.5</td>\n      <td>10.9</td>\n      <td>16.4</td>\n      <td>126.0</td>\n      <td>14.0</td>\n      <td>...</td>\n      <td>12.2</td>\n      <td>9.6</td>\n      <td>15.2</td>\n      <td>101.0</td>\n      <td>12.8</td>\n      <td>10.3</td>\n      <td>15.3</td>\n      <td>10.1</td>\n      <td>7.7</td>\n      <td>12.8</td>\n    </tr>\n    <tr>\n      <th>19</th>\n      <td>60626</td>\n      <td>183.0</td>\n      <td>30.9</td>\n      <td>26.4</td>\n      <td>35.4</td>\n      <td>29.4</td>\n      <td>24.5</td>\n      <td>34.9</td>\n      <td>170.0</td>\n      <td>29.1</td>\n      <td>...</td>\n      <td>20.4</td>\n      <td>15.9</td>\n      <td>25.4</td>\n      <td>84.0</td>\n      <td>16.8</td>\n      <td>13.4</td>\n      <td>20.7</td>\n      <td>15.1</td>\n      <td>11.4</td>\n      <td>19.2</td>\n    </tr>\n    <tr>\n      <th>20</th>\n      <td>60628</td>\n      <td>581.0</td>\n      <td>66.2</td>\n      <td>60.8</td>\n      <td>71.5</td>\n      <td>60.2</td>\n      <td>54.7</td>\n      <td>66.1</td>\n      <td>408.0</td>\n      <td>47.3</td>\n      <td>...</td>\n      <td>40.0</td>\n      <td>35.0</td>\n      <td>45.3</td>\n      <td>346.0</td>\n      <td>47.9</td>\n      <td>42.9</td>\n      <td>53.0</td>\n      <td>42.5</td>\n      <td>37.4</td>\n      <td>47.9</td>\n    </tr>\n    <tr>\n      <th>21</th>\n      <td>60629</td>\n      <td>265.0</td>\n      <td>23.2</td>\n      <td>20.4</td>\n      <td>26.0</td>\n      <td>19.0</td>\n      <td>16.2</td>\n      <td>21.9</td>\n      <td>234.0</td>\n      <td>20.5</td>\n      <td>...</td>\n      <td>22.7</td>\n      <td>19.7</td>\n      <td>26.0</td>\n      <td>259.0</td>\n      <td>22.7</td>\n      <td>20.0</td>\n      <td>25.5</td>\n      <td>20.6</td>\n      <td>17.7</td>\n      <td>23.6</td>\n    </tr>\n    <tr>\n      <th>22</th>\n      <td>60630</td>\n      <td>72.0</td>\n      <td>13.1</td>\n      <td>10.3</td>\n      <td>16.6</td>\n      <td>11.5</td>\n      <td>8.5</td>\n      <td>14.9</td>\n      <td>72.0</td>\n      <td>13.2</td>\n      <td>...</td>\n      <td>5.6</td>\n      <td>3.6</td>\n      <td>8.0</td>\n      <td>62.0</td>\n      <td>11.5</td>\n      <td>8.8</td>\n      <td>14.7</td>\n      <td>8.6</td>\n      <td>6.0</td>\n      <td>11.7</td>\n    </tr>\n    <tr>\n      <th>23</th>\n      <td>60631</td>\n      <td>29.0</td>\n      <td>10.1</td>\n      <td>6.7</td>\n      <td>14.4</td>\n      <td>7.4</td>\n      <td>4.2</td>\n      <td>11.4</td>\n      <td>37.0</td>\n      <td>12.8</td>\n      <td>...</td>\n      <td>3.7</td>\n      <td>1.6</td>\n      <td>6.5</td>\n      <td>17.0</td>\n      <td>5.9</td>\n      <td>3.5</td>\n      <td>9.5</td>\n      <td>2.8</td>\n      <td>1.0</td>\n      <td>5.6</td>\n    </tr>\n    <tr>\n      <th>24</th>\n      <td>60632</td>\n      <td>109.0</td>\n      <td>12.4</td>\n      <td>10.1</td>\n      <td>14.8</td>\n      <td>7.7</td>\n      <td>5.7</td>\n      <td>10.0</td>\n      <td>126.0</td>\n      <td>14.3</td>\n      <td>...</td>\n      <td>6.8</td>\n      <td>5.0</td>\n      <td>8.9</td>\n      <td>100.0</td>\n      <td>10.9</td>\n      <td>8.8</td>\n      <td>13.1</td>\n      <td>7.9</td>\n      <td>5.9</td>\n      <td>10.1</td>\n    </tr>\n    <tr>\n      <th>25</th>\n      <td>60634</td>\n      <td>93.0</td>\n      <td>12.5</td>\n      <td>10.1</td>\n      <td>15.4</td>\n      <td>10.7</td>\n      <td>8.2</td>\n      <td>13.5</td>\n      <td>108.0</td>\n      <td>14.6</td>\n      <td>...</td>\n      <td>7.4</td>\n      <td>5.4</td>\n      <td>9.8</td>\n      <td>76.0</td>\n      <td>10.2</td>\n      <td>8.1</td>\n      <td>12.8</td>\n      <td>8.8</td>\n      <td>6.5</td>\n      <td>11.4</td>\n    </tr>\n    <tr>\n      <th>26</th>\n      <td>60636</td>\n      <td>360.0</td>\n      <td>70.0</td>\n      <td>62.7</td>\n      <td>77.2</td>\n      <td>62.2</td>\n      <td>54.8</td>\n      <td>70.1</td>\n      <td>340.0</td>\n      <td>67.5</td>\n      <td>...</td>\n      <td>67.1</td>\n      <td>58.6</td>\n      <td>76.2</td>\n      <td>317.0</td>\n      <td>77.5</td>\n      <td>68.9</td>\n      <td>86.0</td>\n      <td>73.3</td>\n      <td>64.3</td>\n      <td>82.9</td>\n    </tr>\n    <tr>\n      <th>27</th>\n      <td>60637</td>\n      <td>309.0</td>\n      <td>54.1</td>\n      <td>48.1</td>\n      <td>60.2</td>\n      <td>45.3</td>\n      <td>39.2</td>\n      <td>51.8</td>\n      <td>281.0</td>\n      <td>49.9</td>\n      <td>...</td>\n      <td>44.8</td>\n      <td>38.5</td>\n      <td>51.6</td>\n      <td>220.0</td>\n      <td>44.4</td>\n      <td>38.6</td>\n      <td>50.3</td>\n      <td>41.9</td>\n      <td>35.8</td>\n      <td>48.5</td>\n    </tr>\n    <tr>\n      <th>28</th>\n      <td>60638</td>\n      <td>97.0</td>\n      <td>17.4</td>\n      <td>14.1</td>\n      <td>21.2</td>\n      <td>14.8</td>\n      <td>11.4</td>\n      <td>18.7</td>\n      <td>85.0</td>\n      <td>15.3</td>\n      <td>...</td>\n      <td>7.4</td>\n      <td>5.1</td>\n      <td>10.1</td>\n      <td>50.0</td>\n      <td>9.1</td>\n      <td>6.7</td>\n      <td>12.0</td>\n      <td>6.7</td>\n      <td>4.5</td>\n      <td>9.3</td>\n    </tr>\n    <tr>\n      <th>29</th>\n      <td>60639</td>\n      <td>296.0</td>\n      <td>31.8</td>\n      <td>28.2</td>\n      <td>35.5</td>\n      <td>29.9</td>\n      <td>26.0</td>\n      <td>34.1</td>\n      <td>294.0</td>\n      <td>31.7</td>\n      <td>...</td>\n      <td>23.5</td>\n      <td>20.1</td>\n      <td>27.1</td>\n      <td>234.0</td>\n      <td>25.9</td>\n      <td>22.6</td>\n      <td>29.2</td>\n      <td>21.8</td>\n      <td>18.5</td>\n      <td>25.3</td>\n    </tr>\n    <tr>\n      <th>30</th>\n      <td>60640</td>\n      <td>193.0</td>\n      <td>26.1</td>\n      <td>22.4</td>\n      <td>29.7</td>\n      <td>23.0</td>\n      <td>19.1</td>\n      <td>27.3</td>\n      <td>165.0</td>\n      <td>22.5</td>\n      <td>...</td>\n      <td>20.8</td>\n      <td>16.7</td>\n      <td>25.4</td>\n      <td>182.0</td>\n      <td>27.7</td>\n      <td>23.6</td>\n      <td>31.7</td>\n      <td>27.3</td>\n      <td>22.3</td>\n      <td>32.7</td>\n    </tr>\n    <tr>\n      <th>31</th>\n      <td>60641</td>\n      <td>114.0</td>\n      <td>15.4</td>\n      <td>12.6</td>\n      <td>18.3</td>\n      <td>11.7</td>\n      <td>9.2</td>\n      <td>14.6</td>\n      <td>110.0</td>\n      <td>14.9</td>\n      <td>...</td>\n      <td>11.0</td>\n      <td>8.5</td>\n      <td>13.9</td>\n      <td>106.0</td>\n      <td>14.8</td>\n      <td>12.0</td>\n      <td>17.6</td>\n      <td>10.0</td>\n      <td>7.7</td>\n      <td>12.7</td>\n    </tr>\n    <tr>\n      <th>32</th>\n      <td>60643</td>\n      <td>191.0</td>\n      <td>36.3</td>\n      <td>31.2</td>\n      <td>41.5</td>\n      <td>27.5</td>\n      <td>22.8</td>\n      <td>32.7</td>\n      <td>177.0</td>\n      <td>33.8</td>\n      <td>...</td>\n      <td>33.6</td>\n      <td>28.0</td>\n      <td>39.6</td>\n      <td>149.0</td>\n      <td>29.8</td>\n      <td>25.0</td>\n      <td>34.6</td>\n      <td>24.6</td>\n      <td>19.9</td>\n      <td>29.8</td>\n    </tr>\n    <tr>\n      <th>33</th>\n      <td>60644</td>\n      <td>450.0</td>\n      <td>76.2</td>\n      <td>69.2</td>\n      <td>83.2</td>\n      <td>67.4</td>\n      <td>60.1</td>\n      <td>75.0</td>\n      <td>428.0</td>\n      <td>73.8</td>\n      <td>...</td>\n      <td>53.3</td>\n      <td>46.4</td>\n      <td>60.6</td>\n      <td>289.0</td>\n      <td>59.4</td>\n      <td>52.6</td>\n      <td>66.3</td>\n      <td>55.0</td>\n      <td>48.0</td>\n      <td>62.5</td>\n    </tr>\n    <tr>\n      <th>34</th>\n      <td>60645</td>\n      <td>78.0</td>\n      <td>17.6</td>\n      <td>14.0</td>\n      <td>22.0</td>\n      <td>14.1</td>\n      <td>10.4</td>\n      <td>18.4</td>\n      <td>70.0</td>\n      <td>15.8</td>\n      <td>...</td>\n      <td>9.6</td>\n      <td>6.7</td>\n      <td>12.9</td>\n      <td>52.0</td>\n      <td>11.5</td>\n      <td>8.6</td>\n      <td>15.1</td>\n      <td>8.4</td>\n      <td>5.7</td>\n      <td>11.6</td>\n    </tr>\n    <tr>\n      <th>35</th>\n      <td>60646</td>\n      <td>40.0</td>\n      <td>14.8</td>\n      <td>10.6</td>\n      <td>20.2</td>\n      <td>12.3</td>\n      <td>7.7</td>\n      <td>17.9</td>\n      <td>24.0</td>\n      <td>8.9</td>\n      <td>...</td>\n      <td>6.1</td>\n      <td>3.1</td>\n      <td>10.0</td>\n      <td>22.0</td>\n      <td>8.1</td>\n      <td>5.1</td>\n      <td>12.3</td>\n      <td>4.1</td>\n      <td>1.7</td>\n      <td>7.5</td>\n    </tr>\n    <tr>\n      <th>36</th>\n      <td>60647</td>\n      <td>390.0</td>\n      <td>39.5</td>\n      <td>35.6</td>\n      <td>43.4</td>\n      <td>41.1</td>\n      <td>36.3</td>\n      <td>46.1</td>\n      <td>357.0</td>\n      <td>36.6</td>\n      <td>...</td>\n      <td>29.2</td>\n      <td>25.1</td>\n      <td>33.6</td>\n      <td>244.0</td>\n      <td>28.0</td>\n      <td>24.4</td>\n      <td>31.5</td>\n      <td>26.3</td>\n      <td>22.2</td>\n      <td>30.6</td>\n    </tr>\n    <tr>\n      <th>37</th>\n      <td>60649</td>\n      <td>303.0</td>\n      <td>55.3</td>\n      <td>49.0</td>\n      <td>61.5</td>\n      <td>50.9</td>\n      <td>44.5</td>\n      <td>57.7</td>\n      <td>280.0</td>\n      <td>51.8</td>\n      <td>...</td>\n      <td>48.6</td>\n      <td>42.0</td>\n      <td>55.6</td>\n      <td>296.0</td>\n      <td>63.5</td>\n      <td>56.2</td>\n      <td>70.7</td>\n      <td>59.9</td>\n      <td>52.5</td>\n      <td>67.8</td>\n    </tr>\n    <tr>\n      <th>38</th>\n      <td>60651</td>\n      <td>475.0</td>\n      <td>61.2</td>\n      <td>55.7</td>\n      <td>66.7</td>\n      <td>53.9</td>\n      <td>48.3</td>\n      <td>59.8</td>\n      <td>410.0</td>\n      <td>53.8</td>\n      <td>...</td>\n      <td>43.3</td>\n      <td>37.9</td>\n      <td>49.0</td>\n      <td>342.0</td>\n      <td>53.2</td>\n      <td>47.6</td>\n      <td>58.9</td>\n      <td>46.2</td>\n      <td>40.6</td>\n      <td>52.1</td>\n    </tr>\n    <tr>\n      <th>39</th>\n      <td>60652</td>\n      <td>79.0</td>\n      <td>20.2</td>\n      <td>16.0</td>\n      <td>25.2</td>\n      <td>17.6</td>\n      <td>13.4</td>\n      <td>22.4</td>\n      <td>68.0</td>\n      <td>17.3</td>\n      <td>...</td>\n      <td>15.0</td>\n      <td>11.3</td>\n      <td>19.3</td>\n      <td>54.0</td>\n      <td>13.2</td>\n      <td>9.9</td>\n      <td>17.2</td>\n      <td>9.1</td>\n      <td>6.2</td>\n      <td>12.5</td>\n    </tr>\n    <tr>\n      <th>40</th>\n      <td>60653</td>\n      <td>257.0</td>\n      <td>74.5</td>\n      <td>65.4</td>\n      <td>83.6</td>\n      <td>70.7</td>\n      <td>60.7</td>\n      <td>81.5</td>\n      <td>196.0</td>\n      <td>57.6</td>\n      <td>...</td>\n      <td>39.0</td>\n      <td>31.6</td>\n      <td>47.2</td>\n      <td>134.0</td>\n      <td>44.8</td>\n      <td>37.2</td>\n      <td>52.4</td>\n      <td>38.3</td>\n      <td>31.0</td>\n      <td>46.5</td>\n    </tr>\n    <tr>\n      <th>41</th>\n      <td>60655</td>\n      <td>45.0</td>\n      <td>15.4</td>\n      <td>11.3</td>\n      <td>20.7</td>\n      <td>14.2</td>\n      <td>9.8</td>\n      <td>19.4</td>\n      <td>22.0</td>\n      <td>7.6</td>\n      <td>...</td>\n      <td>4.1</td>\n      <td>1.9</td>\n      <td>7.0</td>\n      <td>19.0</td>\n      <td>6.7</td>\n      <td>4.0</td>\n      <td>10.4</td>\n      <td>5.1</td>\n      <td>2.6</td>\n      <td>8.4</td>\n    </tr>\n    <tr>\n      <th>42</th>\n      <td>60656</td>\n      <td>33.0</td>\n      <td>12.2</td>\n      <td>8.4</td>\n      <td>17.1</td>\n      <td>10.2</td>\n      <td>6.2</td>\n      <td>15.2</td>\n      <td>36.0</td>\n      <td>13.2</td>\n      <td>...</td>\n      <td>5.5</td>\n      <td>2.8</td>\n      <td>9.2</td>\n      <td>20.0</td>\n      <td>7.2</td>\n      <td>4.4</td>\n      <td>11.2</td>\n      <td>5.3</td>\n      <td>2.8</td>\n      <td>8.6</td>\n    </tr>\n    <tr>\n      <th>43</th>\n      <td>60657</td>\n      <td>55.0</td>\n      <td>8.2</td>\n      <td>6.2</td>\n      <td>10.7</td>\n      <td>10.3</td>\n      <td>6.1</td>\n      <td>15.5</td>\n      <td>47.0</td>\n      <td>7.0</td>\n      <td>...</td>\n      <td>6.2</td>\n      <td>3.7</td>\n      <td>9.2</td>\n      <td>34.0</td>\n      <td>5.2</td>\n      <td>3.6</td>\n      <td>7.2</td>\n      <td>7.1</td>\n      <td>3.6</td>\n      <td>11.8</td>\n    </tr>\n    <tr>\n      <th>44</th>\n      <td>60659</td>\n      <td>59.0</td>\n      <td>15.1</td>\n      <td>11.5</td>\n      <td>19.4</td>\n      <td>11.6</td>\n      <td>8.1</td>\n      <td>15.7</td>\n      <td>48.0</td>\n      <td>12.3</td>\n      <td>...</td>\n      <td>10.1</td>\n      <td>6.8</td>\n      <td>13.9</td>\n      <td>38.0</td>\n      <td>10.0</td>\n      <td>7.1</td>\n      <td>13.7</td>\n      <td>9.6</td>\n      <td>6.5</td>\n      <td>13.3</td>\n    </tr>\n    <tr>\n      <th>45</th>\n      <td>60660</td>\n      <td>71.0</td>\n      <td>14.9</td>\n      <td>11.6</td>\n      <td>18.8</td>\n      <td>12.8</td>\n      <td>8.9</td>\n      <td>17.2</td>\n      <td>80.0</td>\n      <td>16.9</td>\n      <td>...</td>\n      <td>7.1</td>\n      <td>4.2</td>\n      <td>10.8</td>\n      <td>68.0</td>\n      <td>15.9</td>\n      <td>12.4</td>\n      <td>20.2</td>\n      <td>13.7</td>\n      <td>9.7</td>\n      <td>18.3</td>\n    </tr>\n    <tr>\n      <th>46</th>\n      <td>60707 &amp; 60635</td>\n      <td>NaN</td>\n      <td>NaN</td>\n      <td>NaN</td>\n      <td>NaN</td>\n      <td>NaN</td>\n      <td>NaN</td>\n      <td>NaN</td>\n      <td>NaN</td>\n      <td>NaN</td>\n      <td>...</td>\n      <td>8.5</td>\n      <td>5.7</td>\n      <td>11.8</td>\n      <td>65.0</td>\n      <td>15.1</td>\n      <td>11.7</td>\n      <td>19.3</td>\n      <td>11.8</td>\n      <td>8.4</td>\n      <td>15.7</td>\n    </tr>\n    <tr>\n      <th>47</th>\n      <td>60827 &amp; 60633</td>\n      <td>22.0</td>\n      <td>4.7</td>\n      <td>3.0</td>\n      <td>7.2</td>\n      <td>4.3</td>\n      <td>2.5</td>\n      <td>6.7</td>\n      <td>19.0</td>\n      <td>4.1</td>\n      <td>...</td>\n      <td>24.4</td>\n      <td>19.4</td>\n      <td>30.0</td>\n      <td>131.0</td>\n      <td>32.1</td>\n      <td>26.6</td>\n      <td>37.5</td>\n      <td>28.8</td>\n      <td>23.4</td>\n      <td>34.7</td>\n    </tr>\n    <tr>\n      <th>48</th>\n      <td>CHICAGO</td>\n      <td>NaN</td>\n      <td>34.1</td>\n      <td>33.4</td>\n      <td>34.8</td>\n      <td>29.4</td>\n      <td>28.7</td>\n      <td>30.1</td>\n      <td>NaN</td>\n      <td>30.6</td>\n      <td>...</td>\n      <td>23.1</td>\n      <td>22.4</td>\n      <td>23.7</td>\n      <td>NaN</td>\n      <td>26.6</td>\n      <td>26.0</td>\n      <td>27.2</td>\n      <td>23.3</td>\n      <td>22.7</td>\n      <td>23.9</td>\n    </tr>\n  </tbody>\n</table>\n<p>49 rows × 85 columns</p>\n</div>"
     },
     "execution_count": 7,
     "metadata": {},
     "output_type": "execute_result"
    }
   ],
   "source": [
    "astma = pd.read_csv('health/asthma-hospitalizations-in-chicago-by-year-2000-2011.csv')\n",
    "\n",
    "astma"
   ]
  },
  {
   "cell_type": "code",
   "execution_count": 8,
   "id": "8a2a6dfc",
   "metadata": {
    "pycharm": {
     "name": "#%%\n"
    }
   },
   "outputs": [
    {
     "data": {
      "text/plain": "    Hospitalizations 2000  Hospitalizations 2001  Hospitalizations 2002  \\\n0                    56.0                   46.0                   45.0   \n1                    60.0                   42.0                   46.0   \n2                   258.0                  206.0                  191.0   \n3                   386.0                  336.0                  259.0   \n4                   160.0                  172.0                  146.0   \n5                   302.0                  298.0                  277.0   \n6                    63.0                   45.0                   60.0   \n7                    60.0                   78.0                   64.0   \n8                   200.0                  130.0                  139.0   \n9                   144.0                   90.0                  124.0   \n10                  358.0                  359.0                  365.0   \n11                  199.0                  161.0                  168.0   \n12                  358.0                  352.0                  369.0   \n13                  471.0                  405.0                  408.0   \n14                  336.0                  293.0                  333.0   \n15                  293.0                  287.0                  225.0   \n16                  461.0                  405.0                  427.0   \n17                  511.0                  438.0                  469.0   \n18                  144.0                  126.0                  125.0   \n19                  183.0                  170.0                  134.0   \n20                  581.0                  408.0                  485.0   \n21                  265.0                  234.0                  227.0   \n22                   72.0                   72.0                   59.0   \n23                   29.0                   37.0                   22.0   \n24                  109.0                  126.0                   90.0   \n25                   93.0                  108.0                  101.0   \n26                  360.0                  340.0                  353.0   \n27                  309.0                  281.0                  325.0   \n28                   97.0                   85.0                  102.0   \n29                  296.0                  294.0                  252.0   \n30                  193.0                  165.0                  166.0   \n31                  114.0                  110.0                  112.0   \n32                  191.0                  177.0                  182.0   \n33                  450.0                  428.0                  437.0   \n34                   78.0                   70.0                   58.0   \n35                   40.0                   24.0                   39.0   \n36                  390.0                  357.0                  328.0   \n37                  303.0                  280.0                  314.0   \n38                  475.0                  410.0                  428.0   \n39                   79.0                   68.0                   54.0   \n40                  257.0                  196.0                  194.0   \n41                   45.0                   22.0                   32.0   \n42                   33.0                   36.0                   22.0   \n43                   55.0                   47.0                   41.0   \n44                   59.0                   48.0                   44.0   \n45                   71.0                   80.0                   67.0   \n47                   22.0                   19.0                  143.0   \n\n    Hospitalizations 2003  Hospitalizations 2004  Hospitalizations 2005  \n0                    39.0                   30.0                   47.0  \n1                    33.0                   42.0                   48.0  \n2                   211.0                  177.0                  166.0  \n3                   248.0                  210.0                  230.0  \n4                   130.0                  105.0                  108.0  \n5                   220.0                  224.0                  212.0  \n6                    45.0                   46.0                   44.0  \n7                    65.0                   58.0                   82.0  \n8                   136.0                  110.0                  108.0  \n9                   112.0                   96.0                  109.0  \n10                  345.0                  285.0                  306.0  \n11                  171.0                  127.0                  150.0  \n12                  337.0                  305.0                  314.0  \n13                  371.0                  369.0                  401.0  \n14                  279.0                  294.0                  308.0  \n15                  218.0                  252.0                  262.0  \n16                  413.0                  257.0                  280.0  \n17                  353.0                  315.0                  298.0  \n18                  116.0                   97.0                  101.0  \n19                  122.0                  109.0                  113.0  \n20                  482.0                  417.0                  393.0  \n21                  267.0                  232.0                  217.0  \n22                   62.0                   64.0                   60.0  \n23                   33.0                   28.0                   25.0  \n24                   84.0                   77.0                   86.0  \n25                   78.0                   58.0                   87.0  \n26                  366.0                  306.0                  321.0  \n27                  347.0                  296.0                  288.0  \n28                   86.0                   82.0                   82.0  \n29                  269.0                  211.0                  235.0  \n30                  189.0                  142.0                  142.0  \n31                  114.0                  126.0                  113.0  \n32                  229.0                  155.0                  199.0  \n33                  347.0                  350.0                  299.0  \n34                   71.0                   64.0                   87.0  \n35                   24.0                   28.0                   25.0  \n36                  342.0                  328.0                  289.0  \n37                  311.0                  286.0                  284.0  \n38                  423.0                  360.0                  373.0  \n39                   86.0                   79.0                   77.0  \n40                  192.0                  146.0                  130.0  \n41                   27.0                   29.0                   47.0  \n42                   33.0                   25.0                   26.0  \n43                   40.0                   57.0                   70.0  \n44                   35.0                   44.0                   40.0  \n45                   52.0                   53.0                   52.0  \n47                  163.0                  197.0                  159.0  ",
      "text/html": "<div>\n<style scoped>\n    .dataframe tbody tr th:only-of-type {\n        vertical-align: middle;\n    }\n\n    .dataframe tbody tr th {\n        vertical-align: top;\n    }\n\n    .dataframe thead th {\n        text-align: right;\n    }\n</style>\n<table border=\"1\" class=\"dataframe\">\n  <thead>\n    <tr style=\"text-align: right;\">\n      <th></th>\n      <th>Hospitalizations 2000</th>\n      <th>Hospitalizations 2001</th>\n      <th>Hospitalizations 2002</th>\n      <th>Hospitalizations 2003</th>\n      <th>Hospitalizations 2004</th>\n      <th>Hospitalizations 2005</th>\n    </tr>\n  </thead>\n  <tbody>\n    <tr>\n      <th>0</th>\n      <td>56.0</td>\n      <td>46.0</td>\n      <td>45.0</td>\n      <td>39.0</td>\n      <td>30.0</td>\n      <td>47.0</td>\n    </tr>\n    <tr>\n      <th>1</th>\n      <td>60.0</td>\n      <td>42.0</td>\n      <td>46.0</td>\n      <td>33.0</td>\n      <td>42.0</td>\n      <td>48.0</td>\n    </tr>\n    <tr>\n      <th>2</th>\n      <td>258.0</td>\n      <td>206.0</td>\n      <td>191.0</td>\n      <td>211.0</td>\n      <td>177.0</td>\n      <td>166.0</td>\n    </tr>\n    <tr>\n      <th>3</th>\n      <td>386.0</td>\n      <td>336.0</td>\n      <td>259.0</td>\n      <td>248.0</td>\n      <td>210.0</td>\n      <td>230.0</td>\n    </tr>\n    <tr>\n      <th>4</th>\n      <td>160.0</td>\n      <td>172.0</td>\n      <td>146.0</td>\n      <td>130.0</td>\n      <td>105.0</td>\n      <td>108.0</td>\n    </tr>\n    <tr>\n      <th>5</th>\n      <td>302.0</td>\n      <td>298.0</td>\n      <td>277.0</td>\n      <td>220.0</td>\n      <td>224.0</td>\n      <td>212.0</td>\n    </tr>\n    <tr>\n      <th>6</th>\n      <td>63.0</td>\n      <td>45.0</td>\n      <td>60.0</td>\n      <td>45.0</td>\n      <td>46.0</td>\n      <td>44.0</td>\n    </tr>\n    <tr>\n      <th>7</th>\n      <td>60.0</td>\n      <td>78.0</td>\n      <td>64.0</td>\n      <td>65.0</td>\n      <td>58.0</td>\n      <td>82.0</td>\n    </tr>\n    <tr>\n      <th>8</th>\n      <td>200.0</td>\n      <td>130.0</td>\n      <td>139.0</td>\n      <td>136.0</td>\n      <td>110.0</td>\n      <td>108.0</td>\n    </tr>\n    <tr>\n      <th>9</th>\n      <td>144.0</td>\n      <td>90.0</td>\n      <td>124.0</td>\n      <td>112.0</td>\n      <td>96.0</td>\n      <td>109.0</td>\n    </tr>\n    <tr>\n      <th>10</th>\n      <td>358.0</td>\n      <td>359.0</td>\n      <td>365.0</td>\n      <td>345.0</td>\n      <td>285.0</td>\n      <td>306.0</td>\n    </tr>\n    <tr>\n      <th>11</th>\n      <td>199.0</td>\n      <td>161.0</td>\n      <td>168.0</td>\n      <td>171.0</td>\n      <td>127.0</td>\n      <td>150.0</td>\n    </tr>\n    <tr>\n      <th>12</th>\n      <td>358.0</td>\n      <td>352.0</td>\n      <td>369.0</td>\n      <td>337.0</td>\n      <td>305.0</td>\n      <td>314.0</td>\n    </tr>\n    <tr>\n      <th>13</th>\n      <td>471.0</td>\n      <td>405.0</td>\n      <td>408.0</td>\n      <td>371.0</td>\n      <td>369.0</td>\n      <td>401.0</td>\n    </tr>\n    <tr>\n      <th>14</th>\n      <td>336.0</td>\n      <td>293.0</td>\n      <td>333.0</td>\n      <td>279.0</td>\n      <td>294.0</td>\n      <td>308.0</td>\n    </tr>\n    <tr>\n      <th>15</th>\n      <td>293.0</td>\n      <td>287.0</td>\n      <td>225.0</td>\n      <td>218.0</td>\n      <td>252.0</td>\n      <td>262.0</td>\n    </tr>\n    <tr>\n      <th>16</th>\n      <td>461.0</td>\n      <td>405.0</td>\n      <td>427.0</td>\n      <td>413.0</td>\n      <td>257.0</td>\n      <td>280.0</td>\n    </tr>\n    <tr>\n      <th>17</th>\n      <td>511.0</td>\n      <td>438.0</td>\n      <td>469.0</td>\n      <td>353.0</td>\n      <td>315.0</td>\n      <td>298.0</td>\n    </tr>\n    <tr>\n      <th>18</th>\n      <td>144.0</td>\n      <td>126.0</td>\n      <td>125.0</td>\n      <td>116.0</td>\n      <td>97.0</td>\n      <td>101.0</td>\n    </tr>\n    <tr>\n      <th>19</th>\n      <td>183.0</td>\n      <td>170.0</td>\n      <td>134.0</td>\n      <td>122.0</td>\n      <td>109.0</td>\n      <td>113.0</td>\n    </tr>\n    <tr>\n      <th>20</th>\n      <td>581.0</td>\n      <td>408.0</td>\n      <td>485.0</td>\n      <td>482.0</td>\n      <td>417.0</td>\n      <td>393.0</td>\n    </tr>\n    <tr>\n      <th>21</th>\n      <td>265.0</td>\n      <td>234.0</td>\n      <td>227.0</td>\n      <td>267.0</td>\n      <td>232.0</td>\n      <td>217.0</td>\n    </tr>\n    <tr>\n      <th>22</th>\n      <td>72.0</td>\n      <td>72.0</td>\n      <td>59.0</td>\n      <td>62.0</td>\n      <td>64.0</td>\n      <td>60.0</td>\n    </tr>\n    <tr>\n      <th>23</th>\n      <td>29.0</td>\n      <td>37.0</td>\n      <td>22.0</td>\n      <td>33.0</td>\n      <td>28.0</td>\n      <td>25.0</td>\n    </tr>\n    <tr>\n      <th>24</th>\n      <td>109.0</td>\n      <td>126.0</td>\n      <td>90.0</td>\n      <td>84.0</td>\n      <td>77.0</td>\n      <td>86.0</td>\n    </tr>\n    <tr>\n      <th>25</th>\n      <td>93.0</td>\n      <td>108.0</td>\n      <td>101.0</td>\n      <td>78.0</td>\n      <td>58.0</td>\n      <td>87.0</td>\n    </tr>\n    <tr>\n      <th>26</th>\n      <td>360.0</td>\n      <td>340.0</td>\n      <td>353.0</td>\n      <td>366.0</td>\n      <td>306.0</td>\n      <td>321.0</td>\n    </tr>\n    <tr>\n      <th>27</th>\n      <td>309.0</td>\n      <td>281.0</td>\n      <td>325.0</td>\n      <td>347.0</td>\n      <td>296.0</td>\n      <td>288.0</td>\n    </tr>\n    <tr>\n      <th>28</th>\n      <td>97.0</td>\n      <td>85.0</td>\n      <td>102.0</td>\n      <td>86.0</td>\n      <td>82.0</td>\n      <td>82.0</td>\n    </tr>\n    <tr>\n      <th>29</th>\n      <td>296.0</td>\n      <td>294.0</td>\n      <td>252.0</td>\n      <td>269.0</td>\n      <td>211.0</td>\n      <td>235.0</td>\n    </tr>\n    <tr>\n      <th>30</th>\n      <td>193.0</td>\n      <td>165.0</td>\n      <td>166.0</td>\n      <td>189.0</td>\n      <td>142.0</td>\n      <td>142.0</td>\n    </tr>\n    <tr>\n      <th>31</th>\n      <td>114.0</td>\n      <td>110.0</td>\n      <td>112.0</td>\n      <td>114.0</td>\n      <td>126.0</td>\n      <td>113.0</td>\n    </tr>\n    <tr>\n      <th>32</th>\n      <td>191.0</td>\n      <td>177.0</td>\n      <td>182.0</td>\n      <td>229.0</td>\n      <td>155.0</td>\n      <td>199.0</td>\n    </tr>\n    <tr>\n      <th>33</th>\n      <td>450.0</td>\n      <td>428.0</td>\n      <td>437.0</td>\n      <td>347.0</td>\n      <td>350.0</td>\n      <td>299.0</td>\n    </tr>\n    <tr>\n      <th>34</th>\n      <td>78.0</td>\n      <td>70.0</td>\n      <td>58.0</td>\n      <td>71.0</td>\n      <td>64.0</td>\n      <td>87.0</td>\n    </tr>\n    <tr>\n      <th>35</th>\n      <td>40.0</td>\n      <td>24.0</td>\n      <td>39.0</td>\n      <td>24.0</td>\n      <td>28.0</td>\n      <td>25.0</td>\n    </tr>\n    <tr>\n      <th>36</th>\n      <td>390.0</td>\n      <td>357.0</td>\n      <td>328.0</td>\n      <td>342.0</td>\n      <td>328.0</td>\n      <td>289.0</td>\n    </tr>\n    <tr>\n      <th>37</th>\n      <td>303.0</td>\n      <td>280.0</td>\n      <td>314.0</td>\n      <td>311.0</td>\n      <td>286.0</td>\n      <td>284.0</td>\n    </tr>\n    <tr>\n      <th>38</th>\n      <td>475.0</td>\n      <td>410.0</td>\n      <td>428.0</td>\n      <td>423.0</td>\n      <td>360.0</td>\n      <td>373.0</td>\n    </tr>\n    <tr>\n      <th>39</th>\n      <td>79.0</td>\n      <td>68.0</td>\n      <td>54.0</td>\n      <td>86.0</td>\n      <td>79.0</td>\n      <td>77.0</td>\n    </tr>\n    <tr>\n      <th>40</th>\n      <td>257.0</td>\n      <td>196.0</td>\n      <td>194.0</td>\n      <td>192.0</td>\n      <td>146.0</td>\n      <td>130.0</td>\n    </tr>\n    <tr>\n      <th>41</th>\n      <td>45.0</td>\n      <td>22.0</td>\n      <td>32.0</td>\n      <td>27.0</td>\n      <td>29.0</td>\n      <td>47.0</td>\n    </tr>\n    <tr>\n      <th>42</th>\n      <td>33.0</td>\n      <td>36.0</td>\n      <td>22.0</td>\n      <td>33.0</td>\n      <td>25.0</td>\n      <td>26.0</td>\n    </tr>\n    <tr>\n      <th>43</th>\n      <td>55.0</td>\n      <td>47.0</td>\n      <td>41.0</td>\n      <td>40.0</td>\n      <td>57.0</td>\n      <td>70.0</td>\n    </tr>\n    <tr>\n      <th>44</th>\n      <td>59.0</td>\n      <td>48.0</td>\n      <td>44.0</td>\n      <td>35.0</td>\n      <td>44.0</td>\n      <td>40.0</td>\n    </tr>\n    <tr>\n      <th>45</th>\n      <td>71.0</td>\n      <td>80.0</td>\n      <td>67.0</td>\n      <td>52.0</td>\n      <td>53.0</td>\n      <td>52.0</td>\n    </tr>\n    <tr>\n      <th>47</th>\n      <td>22.0</td>\n      <td>19.0</td>\n      <td>143.0</td>\n      <td>163.0</td>\n      <td>197.0</td>\n      <td>159.0</td>\n    </tr>\n  </tbody>\n</table>\n</div>"
     },
     "execution_count": 8,
     "metadata": {},
     "output_type": "execute_result"
    }
   ],
   "source": [
    "astma_hospital = astma[['Hospitalizations 2000', 'Hospitalizations 2001', 'Hospitalizations 2002', \\\n",
    "                        'Hospitalizations 2003', 'Hospitalizations 2004', 'Hospitalizations 2005']]\n",
    "astma_hospital =  astma_hospital.dropna(axis=0)\n",
    "\n",
    "astma_hospital"
   ]
  },
  {
   "cell_type": "code",
   "execution_count": 9,
   "id": "a57283bb",
   "metadata": {
    "pycharm": {
     "name": "#%%\n"
    }
   },
   "outputs": [
    {
     "data": {
      "text/plain": "2000    10069.0\n2001     8961.0\n2002     9051.0\n2003     8716.0\n2004     7748.0\n2005     7893.0\ndtype: float64"
     },
     "execution_count": 9,
     "metadata": {},
     "output_type": "execute_result"
    }
   ],
   "source": [
    "astma_hospital.columns = ['2000', '2001', '2002', '2003', '2004', '2005']\n",
    "\n",
    "astma_hospital_sum = astma_hospital.sum()\n",
    "\n",
    "astma_hospital_sum"
   ]
  },
  {
   "cell_type": "code",
   "execution_count": 10,
   "outputs": [
    {
     "data": {
      "text/plain": "      pm25tmean2  pm10tmean2  hospitalizations\ndate                                          \n2000   16.938059   30.483138           10069.0\n2001   16.926319   32.430495            8961.0\n2002   15.273349   29.353755            9051.0\n2003   15.231826   27.505114            8716.0\n2004   14.628638   27.864162            7748.0\n2005   16.189046   28.661126            7893.0",
      "text/html": "<div>\n<style scoped>\n    .dataframe tbody tr th:only-of-type {\n        vertical-align: middle;\n    }\n\n    .dataframe tbody tr th {\n        vertical-align: top;\n    }\n\n    .dataframe thead th {\n        text-align: right;\n    }\n</style>\n<table border=\"1\" class=\"dataframe\">\n  <thead>\n    <tr style=\"text-align: right;\">\n      <th></th>\n      <th>pm25tmean2</th>\n      <th>pm10tmean2</th>\n      <th>hospitalizations</th>\n    </tr>\n    <tr>\n      <th>date</th>\n      <th></th>\n      <th></th>\n      <th></th>\n    </tr>\n  </thead>\n  <tbody>\n    <tr>\n      <th>2000</th>\n      <td>16.938059</td>\n      <td>30.483138</td>\n      <td>10069.0</td>\n    </tr>\n    <tr>\n      <th>2001</th>\n      <td>16.926319</td>\n      <td>32.430495</td>\n      <td>8961.0</td>\n    </tr>\n    <tr>\n      <th>2002</th>\n      <td>15.273349</td>\n      <td>29.353755</td>\n      <td>9051.0</td>\n    </tr>\n    <tr>\n      <th>2003</th>\n      <td>15.231826</td>\n      <td>27.505114</td>\n      <td>8716.0</td>\n    </tr>\n    <tr>\n      <th>2004</th>\n      <td>14.628638</td>\n      <td>27.864162</td>\n      <td>7748.0</td>\n    </tr>\n    <tr>\n      <th>2005</th>\n      <td>16.189046</td>\n      <td>28.661126</td>\n      <td>7893.0</td>\n    </tr>\n  </tbody>\n</table>\n</div>"
     },
     "execution_count": 10,
     "metadata": {},
     "output_type": "execute_result"
    }
   ],
   "source": [
    "astma_hospital_sum.index = astma_hospital_sum.index.astype('int64')\n",
    "result_1 = filtered_df_mean.merge(astma_hospital_sum.rename('hospitalizations'), how='outer', left_index=True, right_index=True)\n",
    "result_1[['pm25tmean2', 'pm10tmean2', 'hospitalizations']]"
   ],
   "metadata": {
    "collapsed": false,
    "pycharm": {
     "name": "#%%\n"
    }
   }
  },
  {
   "cell_type": "code",
   "execution_count": 11,
   "outputs": [
    {
     "data": {
      "text/plain": "      city  tmpd  dptp       date  pm25tmean2  pm10tmean2   o3tmean2  \\\n4383  chic  14.0   7.7 1999-01-01         NaN        21.5  15.611111   \n4384  chic  22.0  21.0 1999-01-02         NaN         NaN  25.763889   \n4385  chic  16.0   8.4 1999-01-03         NaN        29.5  19.388889   \n4386  chic  -2.0  -6.9 1999-01-04         NaN        16.5   8.597222   \n4387  chic   1.0  -6.1 1999-01-05         NaN        28.0   4.819444   \n...    ...   ...   ...        ...         ...         ...        ...   \n6934  chic  35.0  29.6 2005-12-26    8.400000         8.5  14.041667   \n6935  chic  40.0  33.6 2005-12-27   23.560000        27.0   4.468750   \n6936  chic  37.0  34.5 2005-12-28   17.750000        27.5   3.260417   \n6937  chic  35.0  29.4 2005-12-29    7.450000        23.5   6.794837   \n6938  chic  36.0  31.0 2005-12-30   15.057143        19.2   3.034420   \n\n      no2tmean2  \n4383  21.491667  \n4384  12.641667  \n4385  19.041667  \n4386  28.450000  \n4387  35.125000  \n...         ...  \n6934  16.819444  \n6935  23.500000  \n6936  19.285628  \n6937  19.972222  \n6938  22.805556  \n\n[2556 rows x 8 columns]",
      "text/html": "<div>\n<style scoped>\n    .dataframe tbody tr th:only-of-type {\n        vertical-align: middle;\n    }\n\n    .dataframe tbody tr th {\n        vertical-align: top;\n    }\n\n    .dataframe thead th {\n        text-align: right;\n    }\n</style>\n<table border=\"1\" class=\"dataframe\">\n  <thead>\n    <tr style=\"text-align: right;\">\n      <th></th>\n      <th>city</th>\n      <th>tmpd</th>\n      <th>dptp</th>\n      <th>date</th>\n      <th>pm25tmean2</th>\n      <th>pm10tmean2</th>\n      <th>o3tmean2</th>\n      <th>no2tmean2</th>\n    </tr>\n  </thead>\n  <tbody>\n    <tr>\n      <th>4383</th>\n      <td>chic</td>\n      <td>14.0</td>\n      <td>7.7</td>\n      <td>1999-01-01</td>\n      <td>NaN</td>\n      <td>21.5</td>\n      <td>15.611111</td>\n      <td>21.491667</td>\n    </tr>\n    <tr>\n      <th>4384</th>\n      <td>chic</td>\n      <td>22.0</td>\n      <td>21.0</td>\n      <td>1999-01-02</td>\n      <td>NaN</td>\n      <td>NaN</td>\n      <td>25.763889</td>\n      <td>12.641667</td>\n    </tr>\n    <tr>\n      <th>4385</th>\n      <td>chic</td>\n      <td>16.0</td>\n      <td>8.4</td>\n      <td>1999-01-03</td>\n      <td>NaN</td>\n      <td>29.5</td>\n      <td>19.388889</td>\n      <td>19.041667</td>\n    </tr>\n    <tr>\n      <th>4386</th>\n      <td>chic</td>\n      <td>-2.0</td>\n      <td>-6.9</td>\n      <td>1999-01-04</td>\n      <td>NaN</td>\n      <td>16.5</td>\n      <td>8.597222</td>\n      <td>28.450000</td>\n    </tr>\n    <tr>\n      <th>4387</th>\n      <td>chic</td>\n      <td>1.0</td>\n      <td>-6.1</td>\n      <td>1999-01-05</td>\n      <td>NaN</td>\n      <td>28.0</td>\n      <td>4.819444</td>\n      <td>35.125000</td>\n    </tr>\n    <tr>\n      <th>...</th>\n      <td>...</td>\n      <td>...</td>\n      <td>...</td>\n      <td>...</td>\n      <td>...</td>\n      <td>...</td>\n      <td>...</td>\n      <td>...</td>\n    </tr>\n    <tr>\n      <th>6934</th>\n      <td>chic</td>\n      <td>35.0</td>\n      <td>29.6</td>\n      <td>2005-12-26</td>\n      <td>8.400000</td>\n      <td>8.5</td>\n      <td>14.041667</td>\n      <td>16.819444</td>\n    </tr>\n    <tr>\n      <th>6935</th>\n      <td>chic</td>\n      <td>40.0</td>\n      <td>33.6</td>\n      <td>2005-12-27</td>\n      <td>23.560000</td>\n      <td>27.0</td>\n      <td>4.468750</td>\n      <td>23.500000</td>\n    </tr>\n    <tr>\n      <th>6936</th>\n      <td>chic</td>\n      <td>37.0</td>\n      <td>34.5</td>\n      <td>2005-12-28</td>\n      <td>17.750000</td>\n      <td>27.5</td>\n      <td>3.260417</td>\n      <td>19.285628</td>\n    </tr>\n    <tr>\n      <th>6937</th>\n      <td>chic</td>\n      <td>35.0</td>\n      <td>29.4</td>\n      <td>2005-12-29</td>\n      <td>7.450000</td>\n      <td>23.5</td>\n      <td>6.794837</td>\n      <td>19.972222</td>\n    </tr>\n    <tr>\n      <th>6938</th>\n      <td>chic</td>\n      <td>36.0</td>\n      <td>31.0</td>\n      <td>2005-12-30</td>\n      <td>15.057143</td>\n      <td>19.2</td>\n      <td>3.034420</td>\n      <td>22.805556</td>\n    </tr>\n  </tbody>\n</table>\n<p>2556 rows × 8 columns</p>\n</div>"
     },
     "execution_count": 11,
     "metadata": {},
     "output_type": "execute_result"
    }
   ],
   "source": [
    "#filtorwanie dat\n",
    "pollution_1995_2005 = pollution.loc[(pollution['date'] >= '1999-01-01')\n",
    "                     & (pollution['date'] < '2005-12-31')]\n",
    "\n",
    "pollution_1995_2005"
   ],
   "metadata": {
    "collapsed": false,
    "pycharm": {
     "name": "#%%\n"
    }
   }
  },
  {
   "cell_type": "code",
   "execution_count": 12,
   "outputs": [],
   "source": [
    "pollution_1995_2005 = pollution_1995_2005.groupby(pollution_1995_2005['date'].map(lambda x: x.year))"
   ],
   "metadata": {
    "collapsed": false,
    "pycharm": {
     "name": "#%%\n"
    }
   }
  },
  {
   "cell_type": "code",
   "execution_count": 13,
   "outputs": [
    {
     "data": {
      "text/plain": "           tmpd       dptp  pm25tmean2  pm10tmean2   o3tmean2  no2tmean2\ndate                                                                    \n1999  51.463014  40.986301   18.496464   31.309802  20.465933  24.933394\n2000  50.040984  40.251639   16.938059   30.483138  18.531011  24.073101\n2001  51.043836  41.312329   16.926319   32.430495  19.354205  25.389624\n2002  51.169863  41.450000   15.273349   29.353755  20.989783  23.667676\n2003  49.304945  38.341096   15.231826   27.505114  20.977644  25.244054\n2004  50.125683  39.988767   14.628638   27.864162  20.536332  23.444885\n2005  51.571429  39.753022   16.189046   28.661126  23.250160  23.192655",
      "text/html": "<div>\n<style scoped>\n    .dataframe tbody tr th:only-of-type {\n        vertical-align: middle;\n    }\n\n    .dataframe tbody tr th {\n        vertical-align: top;\n    }\n\n    .dataframe thead th {\n        text-align: right;\n    }\n</style>\n<table border=\"1\" class=\"dataframe\">\n  <thead>\n    <tr style=\"text-align: right;\">\n      <th></th>\n      <th>tmpd</th>\n      <th>dptp</th>\n      <th>pm25tmean2</th>\n      <th>pm10tmean2</th>\n      <th>o3tmean2</th>\n      <th>no2tmean2</th>\n    </tr>\n    <tr>\n      <th>date</th>\n      <th></th>\n      <th></th>\n      <th></th>\n      <th></th>\n      <th></th>\n      <th></th>\n    </tr>\n  </thead>\n  <tbody>\n    <tr>\n      <th>1999</th>\n      <td>51.463014</td>\n      <td>40.986301</td>\n      <td>18.496464</td>\n      <td>31.309802</td>\n      <td>20.465933</td>\n      <td>24.933394</td>\n    </tr>\n    <tr>\n      <th>2000</th>\n      <td>50.040984</td>\n      <td>40.251639</td>\n      <td>16.938059</td>\n      <td>30.483138</td>\n      <td>18.531011</td>\n      <td>24.073101</td>\n    </tr>\n    <tr>\n      <th>2001</th>\n      <td>51.043836</td>\n      <td>41.312329</td>\n      <td>16.926319</td>\n      <td>32.430495</td>\n      <td>19.354205</td>\n      <td>25.389624</td>\n    </tr>\n    <tr>\n      <th>2002</th>\n      <td>51.169863</td>\n      <td>41.450000</td>\n      <td>15.273349</td>\n      <td>29.353755</td>\n      <td>20.989783</td>\n      <td>23.667676</td>\n    </tr>\n    <tr>\n      <th>2003</th>\n      <td>49.304945</td>\n      <td>38.341096</td>\n      <td>15.231826</td>\n      <td>27.505114</td>\n      <td>20.977644</td>\n      <td>25.244054</td>\n    </tr>\n    <tr>\n      <th>2004</th>\n      <td>50.125683</td>\n      <td>39.988767</td>\n      <td>14.628638</td>\n      <td>27.864162</td>\n      <td>20.536332</td>\n      <td>23.444885</td>\n    </tr>\n    <tr>\n      <th>2005</th>\n      <td>51.571429</td>\n      <td>39.753022</td>\n      <td>16.189046</td>\n      <td>28.661126</td>\n      <td>23.250160</td>\n      <td>23.192655</td>\n    </tr>\n  </tbody>\n</table>\n</div>"
     },
     "execution_count": 13,
     "metadata": {},
     "output_type": "execute_result"
    }
   ],
   "source": [
    "pollution_1995_2005 = pollution_1995_2005.mean()\n",
    "\n",
    "pollution_1995_2005"
   ],
   "metadata": {
    "collapsed": false,
    "pycharm": {
     "name": "#%%\n"
    }
   }
  },
  {
   "cell_type": "code",
   "execution_count": 14,
   "outputs": [
    {
     "data": {
      "text/plain": "Births 1999    100456\nBirths 2000    100980\nBirths 2001     98631\nBirths 2002     95346\nBirths 2003     95412\nBirths 2004     92492\nBirths 2005     90305\ndtype: int64"
     },
     "execution_count": 14,
     "metadata": {},
     "output_type": "execute_result"
    }
   ],
   "source": [
    "births =  pd.read_csv('health/births-and-birth-rates-in-chicago-by-year-1999-2009.csv')\n",
    "births = births[['Births 1999', 'Births 2000', 'Births 2001', 'Births 2002', 'Births 2003', 'Births 2004','Births 2005']]\n",
    "births = births.sum()\n",
    "births"
   ],
   "metadata": {
    "collapsed": false,
    "pycharm": {
     "name": "#%%\n"
    }
   }
  },
  {
   "cell_type": "code",
   "execution_count": 15,
   "outputs": [
    {
     "data": {
      "text/plain": "           tmpd       dptp  pm25tmean2  pm10tmean2   o3tmean2  no2tmean2  \\\ndate                                                                       \n1999  51.463014  40.986301   18.496464   31.309802  20.465933  24.933394   \n2000  50.040984  40.251639   16.938059   30.483138  18.531011  24.073101   \n2001  51.043836  41.312329   16.926319   32.430495  19.354205  25.389624   \n2002  51.169863  41.450000   15.273349   29.353755  20.989783  23.667676   \n2003  49.304945  38.341096   15.231826   27.505114  20.977644  25.244054   \n2004  50.125683  39.988767   14.628638   27.864162  20.536332  23.444885   \n2005  51.571429  39.753022   16.189046   28.661126  23.250160  23.192655   \n\n      Births  \ndate          \n1999  100456  \n2000  100980  \n2001   98631  \n2002   95346  \n2003   95412  \n2004   92492  \n2005   90305  ",
      "text/html": "<div>\n<style scoped>\n    .dataframe tbody tr th:only-of-type {\n        vertical-align: middle;\n    }\n\n    .dataframe tbody tr th {\n        vertical-align: top;\n    }\n\n    .dataframe thead th {\n        text-align: right;\n    }\n</style>\n<table border=\"1\" class=\"dataframe\">\n  <thead>\n    <tr style=\"text-align: right;\">\n      <th></th>\n      <th>tmpd</th>\n      <th>dptp</th>\n      <th>pm25tmean2</th>\n      <th>pm10tmean2</th>\n      <th>o3tmean2</th>\n      <th>no2tmean2</th>\n      <th>Births</th>\n    </tr>\n    <tr>\n      <th>date</th>\n      <th></th>\n      <th></th>\n      <th></th>\n      <th></th>\n      <th></th>\n      <th></th>\n      <th></th>\n    </tr>\n  </thead>\n  <tbody>\n    <tr>\n      <th>1999</th>\n      <td>51.463014</td>\n      <td>40.986301</td>\n      <td>18.496464</td>\n      <td>31.309802</td>\n      <td>20.465933</td>\n      <td>24.933394</td>\n      <td>100456</td>\n    </tr>\n    <tr>\n      <th>2000</th>\n      <td>50.040984</td>\n      <td>40.251639</td>\n      <td>16.938059</td>\n      <td>30.483138</td>\n      <td>18.531011</td>\n      <td>24.073101</td>\n      <td>100980</td>\n    </tr>\n    <tr>\n      <th>2001</th>\n      <td>51.043836</td>\n      <td>41.312329</td>\n      <td>16.926319</td>\n      <td>32.430495</td>\n      <td>19.354205</td>\n      <td>25.389624</td>\n      <td>98631</td>\n    </tr>\n    <tr>\n      <th>2002</th>\n      <td>51.169863</td>\n      <td>41.450000</td>\n      <td>15.273349</td>\n      <td>29.353755</td>\n      <td>20.989783</td>\n      <td>23.667676</td>\n      <td>95346</td>\n    </tr>\n    <tr>\n      <th>2003</th>\n      <td>49.304945</td>\n      <td>38.341096</td>\n      <td>15.231826</td>\n      <td>27.505114</td>\n      <td>20.977644</td>\n      <td>25.244054</td>\n      <td>95412</td>\n    </tr>\n    <tr>\n      <th>2004</th>\n      <td>50.125683</td>\n      <td>39.988767</td>\n      <td>14.628638</td>\n      <td>27.864162</td>\n      <td>20.536332</td>\n      <td>23.444885</td>\n      <td>92492</td>\n    </tr>\n    <tr>\n      <th>2005</th>\n      <td>51.571429</td>\n      <td>39.753022</td>\n      <td>16.189046</td>\n      <td>28.661126</td>\n      <td>23.250160</td>\n      <td>23.192655</td>\n      <td>90305</td>\n    </tr>\n  </tbody>\n</table>\n</div>"
     },
     "execution_count": 15,
     "metadata": {},
     "output_type": "execute_result"
    }
   ],
   "source": [
    "result_2 = pd.concat([pollution_1995_2005.reset_index(drop=True), births.reset_index(drop=True)], axis=1)\n",
    "result_2.index = pollution_1995_2005.index\n",
    "result_2 = result_2.rename(columns={0: \"Births\"})\n",
    "result_2"
   ],
   "metadata": {
    "collapsed": false,
    "pycharm": {
     "name": "#%%\n"
    }
   }
  },
  {
   "cell_type": "code",
   "execution_count": 16,
   "outputs": [
    {
     "data": {
      "text/plain": "0       7\n1       9\n2       2\n3       2\n4       1\n     ... \n73      1\n74      3\n75      0\n76      6\n77    387\nName: Deaths 2005, Length: 78, dtype: int64"
     },
     "execution_count": 16,
     "metadata": {},
     "output_type": "execute_result"
    }
   ],
   "source": [
    "infant_mortality = pd.read_csv('health/infant-mortality-in-chicago-2005-2009.csv')\n",
    "infant_mortality = infant_mortality['Deaths 2005']\n",
    "infant_mortality"
   ],
   "metadata": {
    "collapsed": false,
    "pycharm": {
     "name": "#%%\n"
    }
   }
  },
  {
   "cell_type": "code",
   "execution_count": 17,
   "outputs": [
    {
     "data": {
      "text/plain": "Births 1999    10104\nBirths 2000     9832\nBirths 2001     9903\nBirths 2002     9501\nBirths 2003     9655\nBirths 2004     9245\nBirths 2005     9196\ndtype: int64"
     },
     "execution_count": 17,
     "metadata": {},
     "output_type": "execute_result"
    }
   ],
   "source": [
    "low_birth_weigh = pd.read_csv('health/low-birth-weight-in-chicago-by-year-1999-2009.csv')\n",
    "low_birth_weigh = low_birth_weigh[['Births 1999', 'Births 2000', 'Births 2001', \\\n",
    "                                  'Births 2002', 'Births 2003', 'Births 2004',\\\n",
    "                                  'Births 2005']]\n",
    "low_birth_weigh = low_birth_weigh.sum()\n",
    "low_birth_weigh"
   ],
   "metadata": {
    "collapsed": false,
    "pycharm": {
     "name": "#%%\n"
    }
   }
  },
  {
   "cell_type": "code",
   "execution_count": 18,
   "outputs": [
    {
     "data": {
      "text/plain": "           tmpd       dptp  pm25tmean2  pm10tmean2   o3tmean2  no2tmean2  \\\ndate                                                                       \n1999  51.463014  40.986301   18.496464   31.309802  20.465933  24.933394   \n2000  50.040984  40.251639   16.938059   30.483138  18.531011  24.073101   \n2001  51.043836  41.312329   16.926319   32.430495  19.354205  25.389624   \n2002  51.169863  41.450000   15.273349   29.353755  20.989783  23.667676   \n2003  49.304945  38.341096   15.231826   27.505114  20.977644  25.244054   \n2004  50.125683  39.988767   14.628638   27.864162  20.536332  23.444885   \n2005  51.571429  39.753022   16.189046   28.661126  23.250160  23.192655   \n\n      Births  Low Weight Births  \ndate                             \n1999  100456              10104  \n2000  100980               9832  \n2001   98631               9903  \n2002   95346               9501  \n2003   95412               9655  \n2004   92492               9245  \n2005   90305               9196  ",
      "text/html": "<div>\n<style scoped>\n    .dataframe tbody tr th:only-of-type {\n        vertical-align: middle;\n    }\n\n    .dataframe tbody tr th {\n        vertical-align: top;\n    }\n\n    .dataframe thead th {\n        text-align: right;\n    }\n</style>\n<table border=\"1\" class=\"dataframe\">\n  <thead>\n    <tr style=\"text-align: right;\">\n      <th></th>\n      <th>tmpd</th>\n      <th>dptp</th>\n      <th>pm25tmean2</th>\n      <th>pm10tmean2</th>\n      <th>o3tmean2</th>\n      <th>no2tmean2</th>\n      <th>Births</th>\n      <th>Low Weight Births</th>\n    </tr>\n    <tr>\n      <th>date</th>\n      <th></th>\n      <th></th>\n      <th></th>\n      <th></th>\n      <th></th>\n      <th></th>\n      <th></th>\n      <th></th>\n    </tr>\n  </thead>\n  <tbody>\n    <tr>\n      <th>1999</th>\n      <td>51.463014</td>\n      <td>40.986301</td>\n      <td>18.496464</td>\n      <td>31.309802</td>\n      <td>20.465933</td>\n      <td>24.933394</td>\n      <td>100456</td>\n      <td>10104</td>\n    </tr>\n    <tr>\n      <th>2000</th>\n      <td>50.040984</td>\n      <td>40.251639</td>\n      <td>16.938059</td>\n      <td>30.483138</td>\n      <td>18.531011</td>\n      <td>24.073101</td>\n      <td>100980</td>\n      <td>9832</td>\n    </tr>\n    <tr>\n      <th>2001</th>\n      <td>51.043836</td>\n      <td>41.312329</td>\n      <td>16.926319</td>\n      <td>32.430495</td>\n      <td>19.354205</td>\n      <td>25.389624</td>\n      <td>98631</td>\n      <td>9903</td>\n    </tr>\n    <tr>\n      <th>2002</th>\n      <td>51.169863</td>\n      <td>41.450000</td>\n      <td>15.273349</td>\n      <td>29.353755</td>\n      <td>20.989783</td>\n      <td>23.667676</td>\n      <td>95346</td>\n      <td>9501</td>\n    </tr>\n    <tr>\n      <th>2003</th>\n      <td>49.304945</td>\n      <td>38.341096</td>\n      <td>15.231826</td>\n      <td>27.505114</td>\n      <td>20.977644</td>\n      <td>25.244054</td>\n      <td>95412</td>\n      <td>9655</td>\n    </tr>\n    <tr>\n      <th>2004</th>\n      <td>50.125683</td>\n      <td>39.988767</td>\n      <td>14.628638</td>\n      <td>27.864162</td>\n      <td>20.536332</td>\n      <td>23.444885</td>\n      <td>92492</td>\n      <td>9245</td>\n    </tr>\n    <tr>\n      <th>2005</th>\n      <td>51.571429</td>\n      <td>39.753022</td>\n      <td>16.189046</td>\n      <td>28.661126</td>\n      <td>23.250160</td>\n      <td>23.192655</td>\n      <td>90305</td>\n      <td>9196</td>\n    </tr>\n  </tbody>\n</table>\n</div>"
     },
     "execution_count": 18,
     "metadata": {},
     "output_type": "execute_result"
    }
   ],
   "source": [
    "result_2 = pd.concat([result_2.reset_index(drop=True), low_birth_weigh.reset_index(drop=True)], axis=1)\n",
    "result_2.index = pollution_1995_2005.index\n",
    "result_2 = result_2.rename(columns={0: \"Low Weight Births\"})\n",
    "result_2"
   ],
   "metadata": {
    "collapsed": false,
    "pycharm": {
     "name": "#%%\n"
    }
   }
  },
  {
   "cell_type": "code",
   "execution_count": 19,
   "outputs": [
    {
     "data": {
      "text/plain": "Pre-term Births 1999    11360\nPre-term Births 2000    11404\nPre-term Births 2001    11082\nPre-term Births 2002    10866\nPre-term Births 2003    10897\nPre-term Births 2004    10768\nPre-term Births 2005    10645\ndtype: int64"
     },
     "execution_count": 19,
     "metadata": {},
     "output_type": "execute_result"
    }
   ],
   "source": [
    "preterm_births = pd.read_csv('health/preterm-births-in-chicago-by-year-1999-2009.csv')\n",
    "preterm_births = preterm_births[['Pre-term Births 1999', 'Pre-term Births 2000', 'Pre-term Births 2001', \\\n",
    "                                  'Pre-term Births 2002', 'Pre-term Births 2003', 'Pre-term Births 2004', \\\n",
    "                                  'Pre-term Births 2005' ]]\n",
    "preterm_births = preterm_births.sum()\n",
    "preterm_births"
   ],
   "metadata": {
    "collapsed": false,
    "pycharm": {
     "name": "#%%\n"
    }
   }
  },
  {
   "cell_type": "code",
   "execution_count": 20,
   "outputs": [
    {
     "data": {
      "text/plain": "           tmpd       dptp  pm25tmean2  pm10tmean2   o3tmean2  no2tmean2  \\\ndate                                                                       \n1999  51.463014  40.986301   18.496464   31.309802  20.465933  24.933394   \n2000  50.040984  40.251639   16.938059   30.483138  18.531011  24.073101   \n2001  51.043836  41.312329   16.926319   32.430495  19.354205  25.389624   \n2002  51.169863  41.450000   15.273349   29.353755  20.989783  23.667676   \n2003  49.304945  38.341096   15.231826   27.505114  20.977644  25.244054   \n2004  50.125683  39.988767   14.628638   27.864162  20.536332  23.444885   \n2005  51.571429  39.753022   16.189046   28.661126  23.250160  23.192655   \n\n      Births  Low Weight Births  Pre-term Births  \ndate                                              \n1999  100456              10104            11360  \n2000  100980               9832            11404  \n2001   98631               9903            11082  \n2002   95346               9501            10866  \n2003   95412               9655            10897  \n2004   92492               9245            10768  \n2005   90305               9196            10645  ",
      "text/html": "<div>\n<style scoped>\n    .dataframe tbody tr th:only-of-type {\n        vertical-align: middle;\n    }\n\n    .dataframe tbody tr th {\n        vertical-align: top;\n    }\n\n    .dataframe thead th {\n        text-align: right;\n    }\n</style>\n<table border=\"1\" class=\"dataframe\">\n  <thead>\n    <tr style=\"text-align: right;\">\n      <th></th>\n      <th>tmpd</th>\n      <th>dptp</th>\n      <th>pm25tmean2</th>\n      <th>pm10tmean2</th>\n      <th>o3tmean2</th>\n      <th>no2tmean2</th>\n      <th>Births</th>\n      <th>Low Weight Births</th>\n      <th>Pre-term Births</th>\n    </tr>\n    <tr>\n      <th>date</th>\n      <th></th>\n      <th></th>\n      <th></th>\n      <th></th>\n      <th></th>\n      <th></th>\n      <th></th>\n      <th></th>\n      <th></th>\n    </tr>\n  </thead>\n  <tbody>\n    <tr>\n      <th>1999</th>\n      <td>51.463014</td>\n      <td>40.986301</td>\n      <td>18.496464</td>\n      <td>31.309802</td>\n      <td>20.465933</td>\n      <td>24.933394</td>\n      <td>100456</td>\n      <td>10104</td>\n      <td>11360</td>\n    </tr>\n    <tr>\n      <th>2000</th>\n      <td>50.040984</td>\n      <td>40.251639</td>\n      <td>16.938059</td>\n      <td>30.483138</td>\n      <td>18.531011</td>\n      <td>24.073101</td>\n      <td>100980</td>\n      <td>9832</td>\n      <td>11404</td>\n    </tr>\n    <tr>\n      <th>2001</th>\n      <td>51.043836</td>\n      <td>41.312329</td>\n      <td>16.926319</td>\n      <td>32.430495</td>\n      <td>19.354205</td>\n      <td>25.389624</td>\n      <td>98631</td>\n      <td>9903</td>\n      <td>11082</td>\n    </tr>\n    <tr>\n      <th>2002</th>\n      <td>51.169863</td>\n      <td>41.450000</td>\n      <td>15.273349</td>\n      <td>29.353755</td>\n      <td>20.989783</td>\n      <td>23.667676</td>\n      <td>95346</td>\n      <td>9501</td>\n      <td>10866</td>\n    </tr>\n    <tr>\n      <th>2003</th>\n      <td>49.304945</td>\n      <td>38.341096</td>\n      <td>15.231826</td>\n      <td>27.505114</td>\n      <td>20.977644</td>\n      <td>25.244054</td>\n      <td>95412</td>\n      <td>9655</td>\n      <td>10897</td>\n    </tr>\n    <tr>\n      <th>2004</th>\n      <td>50.125683</td>\n      <td>39.988767</td>\n      <td>14.628638</td>\n      <td>27.864162</td>\n      <td>20.536332</td>\n      <td>23.444885</td>\n      <td>92492</td>\n      <td>9245</td>\n      <td>10768</td>\n    </tr>\n    <tr>\n      <th>2005</th>\n      <td>51.571429</td>\n      <td>39.753022</td>\n      <td>16.189046</td>\n      <td>28.661126</td>\n      <td>23.250160</td>\n      <td>23.192655</td>\n      <td>90305</td>\n      <td>9196</td>\n      <td>10645</td>\n    </tr>\n  </tbody>\n</table>\n</div>"
     },
     "execution_count": 20,
     "metadata": {},
     "output_type": "execute_result"
    }
   ],
   "source": [
    "result_2 = pd.concat([result_2.reset_index(drop=True), preterm_births.reset_index(drop=True)], axis=1)\n",
    "result_2.index = pollution_1995_2005.index\n",
    "result_2 = result_2.rename(columns={0: \"Pre-term Births\"})\n",
    "result_2"
   ],
   "metadata": {
    "collapsed": false,
    "pycharm": {
     "name": "#%%\n"
    }
   }
  },
  {
   "cell_type": "code",
   "execution_count": 21,
   "outputs": [],
   "source": [
    "blood_lead_levels = pd.read_csv('health/screening-for-elevated-blood-lead-levels-in-children-aged-0-6-years-by-year-chicago-1999-2013.csv')\n",
    "blood_lead_levels = blood_lead_levels[['Percent Elevated 1999', 'Percent Elevated 2000', 'Percent Elevated 2001', \\\n",
    "                                      'Percent Elevated 2002', 'Percent Elevated 2003', 'Percent Elevated 2004', \\\n",
    "                                      'Percent Elevated 2005']]\n",
    "blood_lead_levels = blood_lead_levels.mean()"
   ],
   "metadata": {
    "collapsed": false,
    "pycharm": {
     "name": "#%%\n"
    }
   }
  },
  {
   "cell_type": "code",
   "execution_count": 22,
   "outputs": [
    {
     "data": {
      "text/plain": "       o3tmean2  no2tmean2  Births  Low Weight Births  Pre-term Births  \\\ndate                                                                     \n1999  20.465933  24.933394  100456              10104            11360   \n2000  18.531011  24.073101  100980               9832            11404   \n2001  19.354205  25.389624   98631               9903            11082   \n2002  20.989783  23.667676   95346               9501            10866   \n2003  20.977644  25.244054   95412               9655            10897   \n2004  20.536332  23.444885   92492               9245            10768   \n2005  23.250160  23.192655   90305               9196            10645   \n\n      Blood Lead Level Elevated (%)  \ndate                                 \n1999                      12.710127  \n2000                      10.955696  \n2001                       8.674684  \n2002                       6.853165  \n2003                       4.745570  \n2004                       4.173418  \n2005                       3.688608  ",
      "text/html": "<div>\n<style scoped>\n    .dataframe tbody tr th:only-of-type {\n        vertical-align: middle;\n    }\n\n    .dataframe tbody tr th {\n        vertical-align: top;\n    }\n\n    .dataframe thead th {\n        text-align: right;\n    }\n</style>\n<table border=\"1\" class=\"dataframe\">\n  <thead>\n    <tr style=\"text-align: right;\">\n      <th></th>\n      <th>o3tmean2</th>\n      <th>no2tmean2</th>\n      <th>Births</th>\n      <th>Low Weight Births</th>\n      <th>Pre-term Births</th>\n      <th>Blood Lead Level Elevated (%)</th>\n    </tr>\n    <tr>\n      <th>date</th>\n      <th></th>\n      <th></th>\n      <th></th>\n      <th></th>\n      <th></th>\n      <th></th>\n    </tr>\n  </thead>\n  <tbody>\n    <tr>\n      <th>1999</th>\n      <td>20.465933</td>\n      <td>24.933394</td>\n      <td>100456</td>\n      <td>10104</td>\n      <td>11360</td>\n      <td>12.710127</td>\n    </tr>\n    <tr>\n      <th>2000</th>\n      <td>18.531011</td>\n      <td>24.073101</td>\n      <td>100980</td>\n      <td>9832</td>\n      <td>11404</td>\n      <td>10.955696</td>\n    </tr>\n    <tr>\n      <th>2001</th>\n      <td>19.354205</td>\n      <td>25.389624</td>\n      <td>98631</td>\n      <td>9903</td>\n      <td>11082</td>\n      <td>8.674684</td>\n    </tr>\n    <tr>\n      <th>2002</th>\n      <td>20.989783</td>\n      <td>23.667676</td>\n      <td>95346</td>\n      <td>9501</td>\n      <td>10866</td>\n      <td>6.853165</td>\n    </tr>\n    <tr>\n      <th>2003</th>\n      <td>20.977644</td>\n      <td>25.244054</td>\n      <td>95412</td>\n      <td>9655</td>\n      <td>10897</td>\n      <td>4.745570</td>\n    </tr>\n    <tr>\n      <th>2004</th>\n      <td>20.536332</td>\n      <td>23.444885</td>\n      <td>92492</td>\n      <td>9245</td>\n      <td>10768</td>\n      <td>4.173418</td>\n    </tr>\n    <tr>\n      <th>2005</th>\n      <td>23.250160</td>\n      <td>23.192655</td>\n      <td>90305</td>\n      <td>9196</td>\n      <td>10645</td>\n      <td>3.688608</td>\n    </tr>\n  </tbody>\n</table>\n</div>"
     },
     "execution_count": 22,
     "metadata": {},
     "output_type": "execute_result"
    }
   ],
   "source": [
    "result_2 = pd.concat([result_2.reset_index(drop=True), blood_lead_levels.reset_index(drop=True)], axis=1)\n",
    "result_2.index = pollution_1995_2005.index\n",
    "result_2 = result_2.rename(columns={0: \"Blood Lead Level Elevated (%)\"})\n",
    "result_2 = result_2.drop(columns=['tmpd', 'dptp', 'pm25tmean2', 'pm10tmean2'])\n",
    "result_2"
   ],
   "metadata": {
    "collapsed": false,
    "pycharm": {
     "name": "#%%\n"
    }
   }
  },
  {
   "cell_type": "code",
   "execution_count": 23,
   "outputs": [
    {
     "data": {
      "text/plain": "Index(['o3tmean2', 'no2tmean2', 'Births', 'Low Weight Births',\n       'Pre-term Births', 'Blood Lead Level Elevated (%)'],\n      dtype='object')"
     },
     "execution_count": 23,
     "metadata": {},
     "output_type": "execute_result"
    }
   ],
   "source": [
    "result_2.columns"
   ],
   "metadata": {
    "collapsed": false,
    "pycharm": {
     "name": "#%%\n"
    }
   }
  },
  {
   "cell_type": "code",
   "execution_count": 24,
   "id": "9524c0b5",
   "metadata": {
    "pycharm": {
     "name": "#%%\n"
    }
   },
   "outputs": [],
   "source": [
    "#3\n",
    "def percent_increase(df, name_from, name_to):\n",
    "    df[name_to] = None\n",
    "    for i in range(2001, 2006):\n",
    "        df.loc[i, name_to] = round((df.loc[i, name_from] - df.loc[i - 1, name_from]) /df.loc[i - 1, name_from] * 100, 2)"
   ]
  },
  {
   "cell_type": "code",
   "execution_count": 25,
   "outputs": [
    {
     "data": {
      "text/plain": "      pm25tmean2  pm10tmean2   o3tmean2  no2tmean2  Overall average pollution  \\\ndate                                                                            \n2000   16.938059   30.483138  18.531011  24.073101                  22.506327   \n2001   16.926319   32.430495  19.354205  25.389624                  23.525161   \n2002   15.273349   29.353755  20.989783  23.667676                  22.321140   \n2003   15.231826   27.505114  20.977644  25.244054                  22.239659   \n2004   14.628638   27.864162  20.536332  23.444885                  21.618505   \n2005   16.189046   28.661126  23.250160  23.192655                  22.823247   \n\n     Pollution increase to last year  \ndate                                  \n2000                            None  \n2001                            4.53  \n2002                           -5.12  \n2003                           -0.37  \n2004                           -2.79  \n2005                            5.57  ",
      "text/html": "<div>\n<style scoped>\n    .dataframe tbody tr th:only-of-type {\n        vertical-align: middle;\n    }\n\n    .dataframe tbody tr th {\n        vertical-align: top;\n    }\n\n    .dataframe thead th {\n        text-align: right;\n    }\n</style>\n<table border=\"1\" class=\"dataframe\">\n  <thead>\n    <tr style=\"text-align: right;\">\n      <th></th>\n      <th>pm25tmean2</th>\n      <th>pm10tmean2</th>\n      <th>o3tmean2</th>\n      <th>no2tmean2</th>\n      <th>Overall average pollution</th>\n      <th>Pollution increase to last year</th>\n    </tr>\n    <tr>\n      <th>date</th>\n      <th></th>\n      <th></th>\n      <th></th>\n      <th></th>\n      <th></th>\n      <th></th>\n    </tr>\n  </thead>\n  <tbody>\n    <tr>\n      <th>2000</th>\n      <td>16.938059</td>\n      <td>30.483138</td>\n      <td>18.531011</td>\n      <td>24.073101</td>\n      <td>22.506327</td>\n      <td>None</td>\n    </tr>\n    <tr>\n      <th>2001</th>\n      <td>16.926319</td>\n      <td>32.430495</td>\n      <td>19.354205</td>\n      <td>25.389624</td>\n      <td>23.525161</td>\n      <td>4.53</td>\n    </tr>\n    <tr>\n      <th>2002</th>\n      <td>15.273349</td>\n      <td>29.353755</td>\n      <td>20.989783</td>\n      <td>23.667676</td>\n      <td>22.321140</td>\n      <td>-5.12</td>\n    </tr>\n    <tr>\n      <th>2003</th>\n      <td>15.231826</td>\n      <td>27.505114</td>\n      <td>20.977644</td>\n      <td>25.244054</td>\n      <td>22.239659</td>\n      <td>-0.37</td>\n    </tr>\n    <tr>\n      <th>2004</th>\n      <td>14.628638</td>\n      <td>27.864162</td>\n      <td>20.536332</td>\n      <td>23.444885</td>\n      <td>21.618505</td>\n      <td>-2.79</td>\n    </tr>\n    <tr>\n      <th>2005</th>\n      <td>16.189046</td>\n      <td>28.661126</td>\n      <td>23.250160</td>\n      <td>23.192655</td>\n      <td>22.823247</td>\n      <td>5.57</td>\n    </tr>\n  </tbody>\n</table>\n</div>"
     },
     "execution_count": 25,
     "metadata": {},
     "output_type": "execute_result"
    }
   ],
   "source": [
    "pollution_t3 = filtered_df_mean.drop(columns=['tmpd', 'dptp'])\n",
    "pollution_t3['Overall average pollution'] = pollution_t3.mean(axis=1)\n",
    "percent_increase(pollution_t3, 'Overall average pollution', 'Pollution increase to last year')\n",
    "pollution_t3\n"
   ],
   "metadata": {
    "collapsed": false,
    "pycharm": {
     "name": "#%%\n"
    }
   }
  },
  {
   "cell_type": "code",
   "execution_count": 26,
   "outputs": [
    {
     "data": {
      "text/plain": "      asthma hospitalization  diabetes hospitalization\n2000                 10069.0                    7507.0\n2001                  8961.0                    7567.0\n2002                  9051.0                    7871.0\n2003                  8716.0                    7286.0\n2004                  7748.0                    7475.0\n2005                  7893.0                    7520.0",
      "text/html": "<div>\n<style scoped>\n    .dataframe tbody tr th:only-of-type {\n        vertical-align: middle;\n    }\n\n    .dataframe tbody tr th {\n        vertical-align: top;\n    }\n\n    .dataframe thead th {\n        text-align: right;\n    }\n</style>\n<table border=\"1\" class=\"dataframe\">\n  <thead>\n    <tr style=\"text-align: right;\">\n      <th></th>\n      <th>asthma hospitalization</th>\n      <th>diabetes hospitalization</th>\n    </tr>\n  </thead>\n  <tbody>\n    <tr>\n      <th>2000</th>\n      <td>10069.0</td>\n      <td>7507.0</td>\n    </tr>\n    <tr>\n      <th>2001</th>\n      <td>8961.0</td>\n      <td>7567.0</td>\n    </tr>\n    <tr>\n      <th>2002</th>\n      <td>9051.0</td>\n      <td>7871.0</td>\n    </tr>\n    <tr>\n      <th>2003</th>\n      <td>8716.0</td>\n      <td>7286.0</td>\n    </tr>\n    <tr>\n      <th>2004</th>\n      <td>7748.0</td>\n      <td>7475.0</td>\n    </tr>\n    <tr>\n      <th>2005</th>\n      <td>7893.0</td>\n      <td>7520.0</td>\n    </tr>\n  </tbody>\n</table>\n</div>"
     },
     "execution_count": 26,
     "metadata": {},
     "output_type": "execute_result"
    }
   ],
   "source": [
    "diabetes = pd.read_csv('health/diabetes-hospitalizations-in-chicago-2000-2011.csv')\n",
    "diabetes_hospital = diabetes[['Hospitalizations 2000', 'Hospitalizations 2001', 'Hospitalizations 2002', \\\n",
    "                        'Hospitalizations 2003', 'Hospitalizations 2004', 'Hospitalizations 2005']]\n",
    "diabetes_hospital =  diabetes_hospital.dropna(axis=0)\n",
    "diabetes_hospital.columns = ['2000', '2001', '2002', '2003', '2004', '2005']\n",
    "diabetes_hospital_sum = diabetes_hospital.sum()\n",
    "\n",
    "diabetes_hospital_sum.index = diabetes_hospital_sum.index.astype('int64')\n",
    "astma_hospital_sum.name = 'asthma hospitalization'\n",
    "diabetes_hospital_sum.name = 'diabetes hospitalization'\n",
    "diseases_summary = astma_hospital_sum.to_frame().merge(diabetes_hospital_sum, how='outer', left_index=True, right_index=True)\n",
    "diseases_summary"
   ],
   "metadata": {
    "collapsed": false,
    "pycharm": {
     "name": "#%%\n"
    }
   }
  },
  {
   "cell_type": "code",
   "execution_count": 27,
   "outputs": [
    {
     "data": {
      "text/plain": "      asthma hospitalization  diabetes hospitalization  \\\n2000                 10069.0                    7507.0   \n2001                  8961.0                    7567.0   \n2002                  9051.0                    7871.0   \n2003                  8716.0                    7286.0   \n2004                  7748.0                    7475.0   \n2005                  7893.0                    7520.0   \n\n     asthma hospitalization increase to last year  \\\n2000                                         None   \n2001                                        -11.0   \n2002                                          1.0   \n2003                                         -3.7   \n2004                                       -11.11   \n2005                                         1.87   \n\n     diabetes hospitalization increase to last year  \n2000                                           None  \n2001                                            0.8  \n2002                                           4.02  \n2003                                          -7.43  \n2004                                           2.59  \n2005                                            0.6  ",
      "text/html": "<div>\n<style scoped>\n    .dataframe tbody tr th:only-of-type {\n        vertical-align: middle;\n    }\n\n    .dataframe tbody tr th {\n        vertical-align: top;\n    }\n\n    .dataframe thead th {\n        text-align: right;\n    }\n</style>\n<table border=\"1\" class=\"dataframe\">\n  <thead>\n    <tr style=\"text-align: right;\">\n      <th></th>\n      <th>asthma hospitalization</th>\n      <th>diabetes hospitalization</th>\n      <th>asthma hospitalization increase to last year</th>\n      <th>diabetes hospitalization increase to last year</th>\n    </tr>\n  </thead>\n  <tbody>\n    <tr>\n      <th>2000</th>\n      <td>10069.0</td>\n      <td>7507.0</td>\n      <td>None</td>\n      <td>None</td>\n    </tr>\n    <tr>\n      <th>2001</th>\n      <td>8961.0</td>\n      <td>7567.0</td>\n      <td>-11.0</td>\n      <td>0.8</td>\n    </tr>\n    <tr>\n      <th>2002</th>\n      <td>9051.0</td>\n      <td>7871.0</td>\n      <td>1.0</td>\n      <td>4.02</td>\n    </tr>\n    <tr>\n      <th>2003</th>\n      <td>8716.0</td>\n      <td>7286.0</td>\n      <td>-3.7</td>\n      <td>-7.43</td>\n    </tr>\n    <tr>\n      <th>2004</th>\n      <td>7748.0</td>\n      <td>7475.0</td>\n      <td>-11.11</td>\n      <td>2.59</td>\n    </tr>\n    <tr>\n      <th>2005</th>\n      <td>7893.0</td>\n      <td>7520.0</td>\n      <td>1.87</td>\n      <td>0.6</td>\n    </tr>\n  </tbody>\n</table>\n</div>"
     },
     "execution_count": 27,
     "metadata": {},
     "output_type": "execute_result"
    }
   ],
   "source": [
    "percent_increase(diseases_summary, 'asthma hospitalization', 'asthma hospitalization increase to last year')\n",
    "percent_increase(diseases_summary, 'diabetes hospitalization', 'diabetes hospitalization increase to last year')\n",
    "diseases_summary"
   ],
   "metadata": {
    "collapsed": false,
    "pycharm": {
     "name": "#%%\n"
    }
   }
  },
  {
   "cell_type": "code",
   "execution_count": 28,
   "outputs": [
    {
     "data": {
      "text/plain": "     asthma hospitalization increase to last year  \\\n2000                                         None   \n2001                                        -11.0   \n2002                                          1.0   \n2003                                         -3.7   \n2004                                       -11.11   \n2005                                         1.87   \n\n     diabetes hospitalization increase to last year  \\\n2000                                           None   \n2001                                            0.8   \n2002                                           4.02   \n2003                                          -7.43   \n2004                                           2.59   \n2005                                            0.6   \n\n     Pollution increase to last year  \n2000                            None  \n2001                            4.53  \n2002                           -5.12  \n2003                           -0.37  \n2004                           -2.79  \n2005                            5.57  ",
      "text/html": "<div>\n<style scoped>\n    .dataframe tbody tr th:only-of-type {\n        vertical-align: middle;\n    }\n\n    .dataframe tbody tr th {\n        vertical-align: top;\n    }\n\n    .dataframe thead th {\n        text-align: right;\n    }\n</style>\n<table border=\"1\" class=\"dataframe\">\n  <thead>\n    <tr style=\"text-align: right;\">\n      <th></th>\n      <th>asthma hospitalization increase to last year</th>\n      <th>diabetes hospitalization increase to last year</th>\n      <th>Pollution increase to last year</th>\n    </tr>\n  </thead>\n  <tbody>\n    <tr>\n      <th>2000</th>\n      <td>None</td>\n      <td>None</td>\n      <td>None</td>\n    </tr>\n    <tr>\n      <th>2001</th>\n      <td>-11.0</td>\n      <td>0.8</td>\n      <td>4.53</td>\n    </tr>\n    <tr>\n      <th>2002</th>\n      <td>1.0</td>\n      <td>4.02</td>\n      <td>-5.12</td>\n    </tr>\n    <tr>\n      <th>2003</th>\n      <td>-3.7</td>\n      <td>-7.43</td>\n      <td>-0.37</td>\n    </tr>\n    <tr>\n      <th>2004</th>\n      <td>-11.11</td>\n      <td>2.59</td>\n      <td>-2.79</td>\n    </tr>\n    <tr>\n      <th>2005</th>\n      <td>1.87</td>\n      <td>0.6</td>\n      <td>5.57</td>\n    </tr>\n  </tbody>\n</table>\n</div>"
     },
     "execution_count": 28,
     "metadata": {},
     "output_type": "execute_result"
    }
   ],
   "source": [
    "result_3_merged = diseases_summary.merge(pollution_t3, how='outer', left_index=True, right_index=True)\n",
    "result_3 = result_3_merged[['asthma hospitalization increase to last year',\n",
    "                            'diabetes hospitalization increase to last year',\n",
    "                            'Pollution increase to last year']]\n",
    "result_3"
   ],
   "metadata": {
    "collapsed": false,
    "pycharm": {
     "name": "#%%\n"
    }
   }
  },
  {
   "cell_type": "code",
   "execution_count": 29,
   "outputs": [
    {
     "name": "stderr",
     "output_type": "stream",
     "text": [
      "C:\\Users\\Adrian\\AppData\\Local\\Temp\\ipykernel_16176\\269539565.py:4: FutureWarning: The error_bad_lines argument has been deprecated and will be removed in a future version. Use on_bad_lines in the future.\n",
      "\n",
      "\n",
      "  pd.read_csv('crime/Chicago_Crimes_2001_to_2004.csv', error_bad_lines=False),\n",
      "b'Skipping line 1513591: expected 23 fields, saw 24\\n'\n",
      "C:\\Users\\Adrian\\AppData\\Local\\Temp\\ipykernel_16176\\269539565.py:4: DtypeWarning: Columns (17,20) have mixed types. Specify dtype option on import or set low_memory=False.\n",
      "  pd.read_csv('crime/Chicago_Crimes_2001_to_2004.csv', error_bad_lines=False),\n",
      "C:\\Users\\Adrian\\AppData\\Local\\Temp\\ipykernel_16176\\269539565.py:5: FutureWarning: The error_bad_lines argument has been deprecated and will be removed in a future version. Use on_bad_lines in the future.\n",
      "\n",
      "\n",
      "  pd.read_csv('crime/Chicago_Crimes_2005_to_2007.csv', error_bad_lines=False)\n",
      "b'Skipping line 533719: expected 23 fields, saw 24\\n'\n"
     ]
    },
    {
     "name": "stdout",
     "output_type": "stream",
     "text": [
      "<class 'pandas.core.frame.DataFrame'>\n",
      "Int64Index: 3795858 entries, 0 to 1872342\n",
      "Data columns (total 23 columns):\n",
      " #   Column                Dtype  \n",
      "---  ------                -----  \n",
      " 0   Unnamed: 0            int64  \n",
      " 1   ID                    int64  \n",
      " 2   Case Number           object \n",
      " 3   Date                  object \n",
      " 4   Block                 object \n",
      " 5   IUCR                  object \n",
      " 6   Primary Type          object \n",
      " 7   Description           object \n",
      " 8   Location Description  object \n",
      " 9   Arrest                bool   \n",
      " 10  Domestic              bool   \n",
      " 11  Beat                  int64  \n",
      " 12  District              float64\n",
      " 13  Ward                  float64\n",
      " 14  Community Area        float64\n",
      " 15  FBI Code              object \n",
      " 16  X Coordinate          float64\n",
      " 17  Y Coordinate          object \n",
      " 18  Year                  float64\n",
      " 19  Updated On            object \n",
      " 20  Latitude              object \n",
      " 21  Longitude             float64\n",
      " 22  Location              object \n",
      "dtypes: bool(2), float64(6), int64(3), object(12)\n",
      "memory usage: 644.4+ MB\n"
     ]
    }
   ],
   "source": [
    "#4\n",
    "crime = pd.concat(\n",
    "    [\n",
    "        pd.read_csv('crime/Chicago_Crimes_2001_to_2004.csv', error_bad_lines=False),\n",
    "        pd.read_csv('crime/Chicago_Crimes_2005_to_2007.csv', error_bad_lines=False)\n",
    "    ]\n",
    ")\n",
    "crime.info()\n"
   ],
   "metadata": {
    "collapsed": false,
    "pycharm": {
     "name": "#%%\n"
    }
   }
  },
  {
   "cell_type": "code",
   "execution_count": 30,
   "id": "6934ffdf",
   "metadata": {},
   "outputs": [
    {
     "data": {
      "text/plain": "         Unnamed: 0       ID Case Number                    Date  \\\n0               879  4786321    HM399414  01/01/2004 12:01:00 AM   \n1              2544  4676906    HM278933  03/01/2003 12:00:00 AM   \n2              2919  4789749    HM402220  06/20/2004 11:00:00 AM   \n3              2927  4789765    HM402058  12/30/2004 08:00:00 PM   \n4              3302  4677901    HM275615  05/01/2003 01:00:00 AM   \n...             ...      ...         ...                     ...   \n1872016     6253939  4783773    HM392374  06/04/2005 01:25:00 AM   \n1872077     6254000  4783850    HM313513  01/01/2005 12:01:00 AM   \n1872273     6254198  4784178    HL816101  12/29/2005 06:42:56 PM   \n1872278     6254203  4673532    HM274361  06/01/2005 09:00:00 AM   \n1872309     6254234  4673578    HM275033  11/23/2005 07:30:00 PM   \n\n                          Block  IUCR                Primary Type  \\\n0             082XX S COLES AVE  0840                       THEFT   \n1               004XX W 42ND PL  2825               OTHER OFFENSE   \n2           025XX N KIMBALL AVE  1752  OFFENSE INVOLVING CHILDREN   \n3            045XX W MONTANA ST  0840                       THEFT   \n4            111XX S NORMAL AVE  0841                       THEFT   \n...                         ...   ...                         ...   \n1872016  015XX N MONTICELLO AVE  0486                     BATTERY   \n1872077    012XX N ARTESIAN AVE  0840                       THEFT   \n1872273         0000X W 24TH ST  0560                     ASSAULT   \n1872278     076XX S LOOMIS BLVD  0840                       THEFT   \n1872309         004XX W 95TH PL  2820               OTHER OFFENSE   \n\n                            Description     Location Description  Arrest  ...  \\\n0         FINANCIAL ID THEFT: OVER $300                RESIDENCE   False  ...   \n1               HARASSMENT BY TELEPHONE                RESIDENCE   False  ...   \n2         AGG CRIM SEX ABUSE FAM MEMBER                RESIDENCE   False  ...   \n3         FINANCIAL ID THEFT: OVER $300                    OTHER   False  ...   \n4        FINANCIAL ID THEFT:$300 &UNDER                RESIDENCE   False  ...   \n...                                 ...                      ...     ...  ...   \n1872016         DOMESTIC BATTERY SIMPLE                 SIDEWALK   False  ...   \n1872077   FINANCIAL ID THEFT: OVER $300                    OTHER   False  ...   \n1872273                          SIMPLE  CHA PARKING LOT/GROUNDS   False  ...   \n1872278   FINANCIAL ID THEFT: OVER $300                RESIDENCE   False  ...   \n1872309                TELEPHONE THREAT                RESIDENCE   False  ...   \n\n         Ward  Community Area  FBI Code  X Coordinate  Y Coordinate    Year  \\\n0         7.0            46.0        06           NaN           NaN  2004.0   \n1        11.0            61.0        26     1173974.0     1876757.0  2003.0   \n2        35.0            22.0        20           NaN           NaN  2004.0   \n3        31.0            20.0        06           NaN           NaN  2004.0   \n4        34.0            49.0        06     1174948.0     1831051.0  2003.0   \n...       ...             ...       ...           ...           ...     ...   \n1872016  26.0            23.0       08B           NaN           NaN  2005.0   \n1872077  26.0            24.0        06           NaN           NaN  2005.0   \n1872273   3.0            33.0       08A           NaN           NaN  2005.0   \n1872278  17.0            71.0        06     1168321.0     1854157.0  2005.0   \n1872309  21.0            73.0        26     1175025.0     1841577.0  2005.0   \n\n                     Updated On   Latitude  Longitude  \\\n0        08/17/2015 03:03:40 PM        NaN        NaN   \n1        04/15/2016 08:55:02 AM  41.817229 -87.637328   \n2        08/17/2015 03:03:40 PM        NaN        NaN   \n3        08/17/2015 03:03:40 PM        NaN        NaN   \n4        04/15/2016 08:55:02 AM  41.691785 -87.635116   \n...                         ...        ...        ...   \n1872016  08/17/2015 03:03:40 PM        NaN        NaN   \n1872077  08/17/2015 03:03:40 PM        NaN        NaN   \n1872273  08/17/2015 03:03:40 PM        NaN        NaN   \n1872278  04/15/2016 08:55:02 AM  41.755336 -87.658715   \n1872309  04/15/2016 08:55:02 AM  41.720668 -87.634521   \n\n                              Location  \n0                                  NaN  \n1        (41.817229156, -87.637328162)  \n2                                  NaN  \n3                                  NaN  \n4        (41.691784636, -87.635115968)  \n...                                ...  \n1872016                            NaN  \n1872077                            NaN  \n1872273                            NaN  \n1872278  (41.755335821, -87.658715338)  \n1872309  (41.720667791, -87.634521338)  \n\n[2379325 rows x 23 columns]",
      "text/html": "<div>\n<style scoped>\n    .dataframe tbody tr th:only-of-type {\n        vertical-align: middle;\n    }\n\n    .dataframe tbody tr th {\n        vertical-align: top;\n    }\n\n    .dataframe thead th {\n        text-align: right;\n    }\n</style>\n<table border=\"1\" class=\"dataframe\">\n  <thead>\n    <tr style=\"text-align: right;\">\n      <th></th>\n      <th>Unnamed: 0</th>\n      <th>ID</th>\n      <th>Case Number</th>\n      <th>Date</th>\n      <th>Block</th>\n      <th>IUCR</th>\n      <th>Primary Type</th>\n      <th>Description</th>\n      <th>Location Description</th>\n      <th>Arrest</th>\n      <th>...</th>\n      <th>Ward</th>\n      <th>Community Area</th>\n      <th>FBI Code</th>\n      <th>X Coordinate</th>\n      <th>Y Coordinate</th>\n      <th>Year</th>\n      <th>Updated On</th>\n      <th>Latitude</th>\n      <th>Longitude</th>\n      <th>Location</th>\n    </tr>\n  </thead>\n  <tbody>\n    <tr>\n      <th>0</th>\n      <td>879</td>\n      <td>4786321</td>\n      <td>HM399414</td>\n      <td>01/01/2004 12:01:00 AM</td>\n      <td>082XX S COLES AVE</td>\n      <td>0840</td>\n      <td>THEFT</td>\n      <td>FINANCIAL ID THEFT: OVER $300</td>\n      <td>RESIDENCE</td>\n      <td>False</td>\n      <td>...</td>\n      <td>7.0</td>\n      <td>46.0</td>\n      <td>06</td>\n      <td>NaN</td>\n      <td>NaN</td>\n      <td>2004.0</td>\n      <td>08/17/2015 03:03:40 PM</td>\n      <td>NaN</td>\n      <td>NaN</td>\n      <td>NaN</td>\n    </tr>\n    <tr>\n      <th>1</th>\n      <td>2544</td>\n      <td>4676906</td>\n      <td>HM278933</td>\n      <td>03/01/2003 12:00:00 AM</td>\n      <td>004XX W 42ND PL</td>\n      <td>2825</td>\n      <td>OTHER OFFENSE</td>\n      <td>HARASSMENT BY TELEPHONE</td>\n      <td>RESIDENCE</td>\n      <td>False</td>\n      <td>...</td>\n      <td>11.0</td>\n      <td>61.0</td>\n      <td>26</td>\n      <td>1173974.0</td>\n      <td>1876757.0</td>\n      <td>2003.0</td>\n      <td>04/15/2016 08:55:02 AM</td>\n      <td>41.817229</td>\n      <td>-87.637328</td>\n      <td>(41.817229156, -87.637328162)</td>\n    </tr>\n    <tr>\n      <th>2</th>\n      <td>2919</td>\n      <td>4789749</td>\n      <td>HM402220</td>\n      <td>06/20/2004 11:00:00 AM</td>\n      <td>025XX N KIMBALL AVE</td>\n      <td>1752</td>\n      <td>OFFENSE INVOLVING CHILDREN</td>\n      <td>AGG CRIM SEX ABUSE FAM MEMBER</td>\n      <td>RESIDENCE</td>\n      <td>False</td>\n      <td>...</td>\n      <td>35.0</td>\n      <td>22.0</td>\n      <td>20</td>\n      <td>NaN</td>\n      <td>NaN</td>\n      <td>2004.0</td>\n      <td>08/17/2015 03:03:40 PM</td>\n      <td>NaN</td>\n      <td>NaN</td>\n      <td>NaN</td>\n    </tr>\n    <tr>\n      <th>3</th>\n      <td>2927</td>\n      <td>4789765</td>\n      <td>HM402058</td>\n      <td>12/30/2004 08:00:00 PM</td>\n      <td>045XX W MONTANA ST</td>\n      <td>0840</td>\n      <td>THEFT</td>\n      <td>FINANCIAL ID THEFT: OVER $300</td>\n      <td>OTHER</td>\n      <td>False</td>\n      <td>...</td>\n      <td>31.0</td>\n      <td>20.0</td>\n      <td>06</td>\n      <td>NaN</td>\n      <td>NaN</td>\n      <td>2004.0</td>\n      <td>08/17/2015 03:03:40 PM</td>\n      <td>NaN</td>\n      <td>NaN</td>\n      <td>NaN</td>\n    </tr>\n    <tr>\n      <th>4</th>\n      <td>3302</td>\n      <td>4677901</td>\n      <td>HM275615</td>\n      <td>05/01/2003 01:00:00 AM</td>\n      <td>111XX S NORMAL AVE</td>\n      <td>0841</td>\n      <td>THEFT</td>\n      <td>FINANCIAL ID THEFT:$300 &amp;UNDER</td>\n      <td>RESIDENCE</td>\n      <td>False</td>\n      <td>...</td>\n      <td>34.0</td>\n      <td>49.0</td>\n      <td>06</td>\n      <td>1174948.0</td>\n      <td>1831051.0</td>\n      <td>2003.0</td>\n      <td>04/15/2016 08:55:02 AM</td>\n      <td>41.691785</td>\n      <td>-87.635116</td>\n      <td>(41.691784636, -87.635115968)</td>\n    </tr>\n    <tr>\n      <th>...</th>\n      <td>...</td>\n      <td>...</td>\n      <td>...</td>\n      <td>...</td>\n      <td>...</td>\n      <td>...</td>\n      <td>...</td>\n      <td>...</td>\n      <td>...</td>\n      <td>...</td>\n      <td>...</td>\n      <td>...</td>\n      <td>...</td>\n      <td>...</td>\n      <td>...</td>\n      <td>...</td>\n      <td>...</td>\n      <td>...</td>\n      <td>...</td>\n      <td>...</td>\n      <td>...</td>\n    </tr>\n    <tr>\n      <th>1872016</th>\n      <td>6253939</td>\n      <td>4783773</td>\n      <td>HM392374</td>\n      <td>06/04/2005 01:25:00 AM</td>\n      <td>015XX N MONTICELLO AVE</td>\n      <td>0486</td>\n      <td>BATTERY</td>\n      <td>DOMESTIC BATTERY SIMPLE</td>\n      <td>SIDEWALK</td>\n      <td>False</td>\n      <td>...</td>\n      <td>26.0</td>\n      <td>23.0</td>\n      <td>08B</td>\n      <td>NaN</td>\n      <td>NaN</td>\n      <td>2005.0</td>\n      <td>08/17/2015 03:03:40 PM</td>\n      <td>NaN</td>\n      <td>NaN</td>\n      <td>NaN</td>\n    </tr>\n    <tr>\n      <th>1872077</th>\n      <td>6254000</td>\n      <td>4783850</td>\n      <td>HM313513</td>\n      <td>01/01/2005 12:01:00 AM</td>\n      <td>012XX N ARTESIAN AVE</td>\n      <td>0840</td>\n      <td>THEFT</td>\n      <td>FINANCIAL ID THEFT: OVER $300</td>\n      <td>OTHER</td>\n      <td>False</td>\n      <td>...</td>\n      <td>26.0</td>\n      <td>24.0</td>\n      <td>06</td>\n      <td>NaN</td>\n      <td>NaN</td>\n      <td>2005.0</td>\n      <td>08/17/2015 03:03:40 PM</td>\n      <td>NaN</td>\n      <td>NaN</td>\n      <td>NaN</td>\n    </tr>\n    <tr>\n      <th>1872273</th>\n      <td>6254198</td>\n      <td>4784178</td>\n      <td>HL816101</td>\n      <td>12/29/2005 06:42:56 PM</td>\n      <td>0000X W 24TH ST</td>\n      <td>0560</td>\n      <td>ASSAULT</td>\n      <td>SIMPLE</td>\n      <td>CHA PARKING LOT/GROUNDS</td>\n      <td>False</td>\n      <td>...</td>\n      <td>3.0</td>\n      <td>33.0</td>\n      <td>08A</td>\n      <td>NaN</td>\n      <td>NaN</td>\n      <td>2005.0</td>\n      <td>08/17/2015 03:03:40 PM</td>\n      <td>NaN</td>\n      <td>NaN</td>\n      <td>NaN</td>\n    </tr>\n    <tr>\n      <th>1872278</th>\n      <td>6254203</td>\n      <td>4673532</td>\n      <td>HM274361</td>\n      <td>06/01/2005 09:00:00 AM</td>\n      <td>076XX S LOOMIS BLVD</td>\n      <td>0840</td>\n      <td>THEFT</td>\n      <td>FINANCIAL ID THEFT: OVER $300</td>\n      <td>RESIDENCE</td>\n      <td>False</td>\n      <td>...</td>\n      <td>17.0</td>\n      <td>71.0</td>\n      <td>06</td>\n      <td>1168321.0</td>\n      <td>1854157.0</td>\n      <td>2005.0</td>\n      <td>04/15/2016 08:55:02 AM</td>\n      <td>41.755336</td>\n      <td>-87.658715</td>\n      <td>(41.755335821, -87.658715338)</td>\n    </tr>\n    <tr>\n      <th>1872309</th>\n      <td>6254234</td>\n      <td>4673578</td>\n      <td>HM275033</td>\n      <td>11/23/2005 07:30:00 PM</td>\n      <td>004XX W 95TH PL</td>\n      <td>2820</td>\n      <td>OTHER OFFENSE</td>\n      <td>TELEPHONE THREAT</td>\n      <td>RESIDENCE</td>\n      <td>False</td>\n      <td>...</td>\n      <td>21.0</td>\n      <td>73.0</td>\n      <td>26</td>\n      <td>1175025.0</td>\n      <td>1841577.0</td>\n      <td>2005.0</td>\n      <td>04/15/2016 08:55:02 AM</td>\n      <td>41.720668</td>\n      <td>-87.634521</td>\n      <td>(41.720667791, -87.634521338)</td>\n    </tr>\n  </tbody>\n</table>\n<p>2379325 rows × 23 columns</p>\n</div>"
     },
     "execution_count": 30,
     "metadata": {},
     "output_type": "execute_result"
    }
   ],
   "source": [
    "pollution_1995_2005 = pollution_1995_2005.groupby(pollution_1995_2005['date'].map(lambda x: x.year))"
   ]
  },
  {
   "cell_type": "code",
   "execution_count": 31,
   "id": "08a77ee1",
   "metadata": {},
   "outputs": [
    {
     "data": {
      "text/plain": "         Unnamed: 0       ID Case Number                    Date  \\\n6              3756  4791194    HM403711  01/01/2001 11:00:00 AM   \n19            14820  4808626    HM413308  06/14/2002 04:00:00 PM   \n25            16594  4811727    HM402010  06/01/2001 08:00:00 AM   \n43            28961  4832512    HM442425  11/01/2004 12:01:00 AM   \n48            30648  4835260    HM447297  07/08/2004 12:01:00 AM   \n...             ...      ...         ...                     ...   \n1863104     6244957  4660377    HM260493  01/01/2005 12:00:00 AM   \n1863504     6245361  4660934    HM260432  12/26/2005 12:01:00 AM   \n1865482     6247358  4664029    HM264115  12/05/2005 12:01:00 AM   \n1865950     6247829  4773579    HM327640  10/01/2005 12:01:00 AM   \n1866789     6248676  4665625    HM265386  12/01/2005 03:00:00 PM   \n\n                           Block  IUCR         Primary Type  \\\n6        114XX S ST LAWRENCE AVE  0266  CRIM SEXUAL ASSAULT   \n19             032XX W BEACH AVE  0266  CRIM SEXUAL ASSAULT   \n25               054XX W IOWA ST  1563          SEX OFFENSE   \n43         001XX S RIVERSIDE PLZ  1562          SEX OFFENSE   \n48          022XX N LAVERGNE AVE  0263  CRIM SEXUAL ASSAULT   \n...                          ...   ...                  ...   \n1863104         091XX S GREEN ST  1562          SEX OFFENSE   \n1863504       060XX N NASSAU AVE  1562          SEX OFFENSE   \n1865482     023XX W JACKSON BLVD  1565          SEX OFFENSE   \n1865950        037XX N MOZART ST  0281  CRIM SEXUAL ASSAULT   \n1866789      016XX W JUNEWAY TER  0265  CRIM SEXUAL ASSAULT   \n\n                         Description Location Description  Arrest  ...  Ward  \\\n6                          PREDATORY            RESIDENCE    True  ...   9.0   \n19                         PREDATORY            APARTMENT   False  ...  26.0   \n25             CRIMINAL SEXUAL ABUSE            RESIDENCE   False  ...  37.0   \n43         AGG CRIMINAL SEXUAL ABUSE                OTHER   False  ...   2.0   \n48       AGGRAVATED: KNIFE/CUT INSTR            RESIDENCE    True  ...  31.0   \n...                              ...                  ...     ...  ...   ...   \n1863104    AGG CRIMINAL SEXUAL ABUSE            RESIDENCE   False  ...  21.0   \n1863504    AGG CRIMINAL SEXUAL ABUSE            RESIDENCE   False  ...  41.0   \n1865482  INDECENT SOLICITATION/CHILD            RESIDENCE   False  ...   2.0   \n1865950               NON-AGGRAVATED            RESIDENCE   False  ...  33.0   \n1866789            AGGRAVATED: OTHER            APARTMENT   False  ...  49.0   \n\n         Community Area  FBI Code  X Coordinate  Y Coordinate    Year  \\\n6                  50.0        02     1182247.0     1829375.0  2001.0   \n19                 23.0        02           NaN           NaN  2002.0   \n25                 25.0        17     1139668.0     1905504.0  2001.0   \n43                 28.0        17           NaN           NaN  2004.0   \n48                 19.0        02           NaN           NaN  2004.0   \n...                 ...       ...           ...           ...     ...   \n1863104            73.0        17     1172250.0     1844209.0  2005.0   \n1863504            10.0        17     1132113.0     1939856.0  2005.0   \n1865482            28.0        17     1160891.0     1898643.0  2005.0   \n1865950            16.0        02           NaN           NaN  2005.0   \n1866789             1.0        02     1163867.0     1951492.0  2005.0   \n\n                     Updated On   Latitude  Longitude  \\\n6        08/29/2006 03:46:28 AM   41.68702 -87.608445   \n19       08/17/2015 03:03:40 PM        NaN        NaN   \n25       06/22/2006 03:55:52 AM  41.896809 -87.762472   \n43       08/17/2015 03:03:40 PM        NaN        NaN   \n48       08/17/2015 03:03:40 PM        NaN        NaN   \n...                         ...        ...        ...   \n1863104  04/15/2016 08:55:02 AM  41.727952 -87.644608   \n1863504  04/15/2016 08:55:02 AM  41.991209 -87.789421   \n1865482  04/15/2016 08:55:02 AM  41.877567 -87.684714   \n1865950  08/17/2015 03:03:40 PM        NaN        NaN   \n1866789  04/15/2016 08:55:02 AM  42.022525 -87.672290   \n\n                              Location  \n6         (41.687020002, -87.60844523)  \n19                                 NaN  \n25       (41.896808547, -87.762472408)  \n43                                 NaN  \n48                                 NaN  \n...                                ...  \n1863104  (41.727951735, -87.644608368)  \n1863504  (41.991208854, -87.789420592)  \n1865482  (41.877567416, -87.684713886)  \n1865950                            NaN  \n1866789  (42.022525464, -87.672290154)  \n\n[19035 rows x 23 columns]",
      "text/html": "<div>\n<style scoped>\n    .dataframe tbody tr th:only-of-type {\n        vertical-align: middle;\n    }\n\n    .dataframe tbody tr th {\n        vertical-align: top;\n    }\n\n    .dataframe thead th {\n        text-align: right;\n    }\n</style>\n<table border=\"1\" class=\"dataframe\">\n  <thead>\n    <tr style=\"text-align: right;\">\n      <th></th>\n      <th>Unnamed: 0</th>\n      <th>ID</th>\n      <th>Case Number</th>\n      <th>Date</th>\n      <th>Block</th>\n      <th>IUCR</th>\n      <th>Primary Type</th>\n      <th>Description</th>\n      <th>Location Description</th>\n      <th>Arrest</th>\n      <th>...</th>\n      <th>Ward</th>\n      <th>Community Area</th>\n      <th>FBI Code</th>\n      <th>X Coordinate</th>\n      <th>Y Coordinate</th>\n      <th>Year</th>\n      <th>Updated On</th>\n      <th>Latitude</th>\n      <th>Longitude</th>\n      <th>Location</th>\n    </tr>\n  </thead>\n  <tbody>\n    <tr>\n      <th>6</th>\n      <td>3756</td>\n      <td>4791194</td>\n      <td>HM403711</td>\n      <td>01/01/2001 11:00:00 AM</td>\n      <td>114XX S ST LAWRENCE AVE</td>\n      <td>0266</td>\n      <td>CRIM SEXUAL ASSAULT</td>\n      <td>PREDATORY</td>\n      <td>RESIDENCE</td>\n      <td>True</td>\n      <td>...</td>\n      <td>9.0</td>\n      <td>50.0</td>\n      <td>02</td>\n      <td>1182247.0</td>\n      <td>1829375.0</td>\n      <td>2001.0</td>\n      <td>08/29/2006 03:46:28 AM</td>\n      <td>41.68702</td>\n      <td>-87.608445</td>\n      <td>(41.687020002, -87.60844523)</td>\n    </tr>\n    <tr>\n      <th>19</th>\n      <td>14820</td>\n      <td>4808626</td>\n      <td>HM413308</td>\n      <td>06/14/2002 04:00:00 PM</td>\n      <td>032XX W BEACH AVE</td>\n      <td>0266</td>\n      <td>CRIM SEXUAL ASSAULT</td>\n      <td>PREDATORY</td>\n      <td>APARTMENT</td>\n      <td>False</td>\n      <td>...</td>\n      <td>26.0</td>\n      <td>23.0</td>\n      <td>02</td>\n      <td>NaN</td>\n      <td>NaN</td>\n      <td>2002.0</td>\n      <td>08/17/2015 03:03:40 PM</td>\n      <td>NaN</td>\n      <td>NaN</td>\n      <td>NaN</td>\n    </tr>\n    <tr>\n      <th>25</th>\n      <td>16594</td>\n      <td>4811727</td>\n      <td>HM402010</td>\n      <td>06/01/2001 08:00:00 AM</td>\n      <td>054XX W IOWA ST</td>\n      <td>1563</td>\n      <td>SEX OFFENSE</td>\n      <td>CRIMINAL SEXUAL ABUSE</td>\n      <td>RESIDENCE</td>\n      <td>False</td>\n      <td>...</td>\n      <td>37.0</td>\n      <td>25.0</td>\n      <td>17</td>\n      <td>1139668.0</td>\n      <td>1905504.0</td>\n      <td>2001.0</td>\n      <td>06/22/2006 03:55:52 AM</td>\n      <td>41.896809</td>\n      <td>-87.762472</td>\n      <td>(41.896808547, -87.762472408)</td>\n    </tr>\n    <tr>\n      <th>43</th>\n      <td>28961</td>\n      <td>4832512</td>\n      <td>HM442425</td>\n      <td>11/01/2004 12:01:00 AM</td>\n      <td>001XX S RIVERSIDE PLZ</td>\n      <td>1562</td>\n      <td>SEX OFFENSE</td>\n      <td>AGG CRIMINAL SEXUAL ABUSE</td>\n      <td>OTHER</td>\n      <td>False</td>\n      <td>...</td>\n      <td>2.0</td>\n      <td>28.0</td>\n      <td>17</td>\n      <td>NaN</td>\n      <td>NaN</td>\n      <td>2004.0</td>\n      <td>08/17/2015 03:03:40 PM</td>\n      <td>NaN</td>\n      <td>NaN</td>\n      <td>NaN</td>\n    </tr>\n    <tr>\n      <th>48</th>\n      <td>30648</td>\n      <td>4835260</td>\n      <td>HM447297</td>\n      <td>07/08/2004 12:01:00 AM</td>\n      <td>022XX N LAVERGNE AVE</td>\n      <td>0263</td>\n      <td>CRIM SEXUAL ASSAULT</td>\n      <td>AGGRAVATED: KNIFE/CUT INSTR</td>\n      <td>RESIDENCE</td>\n      <td>True</td>\n      <td>...</td>\n      <td>31.0</td>\n      <td>19.0</td>\n      <td>02</td>\n      <td>NaN</td>\n      <td>NaN</td>\n      <td>2004.0</td>\n      <td>08/17/2015 03:03:40 PM</td>\n      <td>NaN</td>\n      <td>NaN</td>\n      <td>NaN</td>\n    </tr>\n    <tr>\n      <th>...</th>\n      <td>...</td>\n      <td>...</td>\n      <td>...</td>\n      <td>...</td>\n      <td>...</td>\n      <td>...</td>\n      <td>...</td>\n      <td>...</td>\n      <td>...</td>\n      <td>...</td>\n      <td>...</td>\n      <td>...</td>\n      <td>...</td>\n      <td>...</td>\n      <td>...</td>\n      <td>...</td>\n      <td>...</td>\n      <td>...</td>\n      <td>...</td>\n      <td>...</td>\n      <td>...</td>\n    </tr>\n    <tr>\n      <th>1863104</th>\n      <td>6244957</td>\n      <td>4660377</td>\n      <td>HM260493</td>\n      <td>01/01/2005 12:00:00 AM</td>\n      <td>091XX S GREEN ST</td>\n      <td>1562</td>\n      <td>SEX OFFENSE</td>\n      <td>AGG CRIMINAL SEXUAL ABUSE</td>\n      <td>RESIDENCE</td>\n      <td>False</td>\n      <td>...</td>\n      <td>21.0</td>\n      <td>73.0</td>\n      <td>17</td>\n      <td>1172250.0</td>\n      <td>1844209.0</td>\n      <td>2005.0</td>\n      <td>04/15/2016 08:55:02 AM</td>\n      <td>41.727952</td>\n      <td>-87.644608</td>\n      <td>(41.727951735, -87.644608368)</td>\n    </tr>\n    <tr>\n      <th>1863504</th>\n      <td>6245361</td>\n      <td>4660934</td>\n      <td>HM260432</td>\n      <td>12/26/2005 12:01:00 AM</td>\n      <td>060XX N NASSAU AVE</td>\n      <td>1562</td>\n      <td>SEX OFFENSE</td>\n      <td>AGG CRIMINAL SEXUAL ABUSE</td>\n      <td>RESIDENCE</td>\n      <td>False</td>\n      <td>...</td>\n      <td>41.0</td>\n      <td>10.0</td>\n      <td>17</td>\n      <td>1132113.0</td>\n      <td>1939856.0</td>\n      <td>2005.0</td>\n      <td>04/15/2016 08:55:02 AM</td>\n      <td>41.991209</td>\n      <td>-87.789421</td>\n      <td>(41.991208854, -87.789420592)</td>\n    </tr>\n    <tr>\n      <th>1865482</th>\n      <td>6247358</td>\n      <td>4664029</td>\n      <td>HM264115</td>\n      <td>12/05/2005 12:01:00 AM</td>\n      <td>023XX W JACKSON BLVD</td>\n      <td>1565</td>\n      <td>SEX OFFENSE</td>\n      <td>INDECENT SOLICITATION/CHILD</td>\n      <td>RESIDENCE</td>\n      <td>False</td>\n      <td>...</td>\n      <td>2.0</td>\n      <td>28.0</td>\n      <td>17</td>\n      <td>1160891.0</td>\n      <td>1898643.0</td>\n      <td>2005.0</td>\n      <td>04/15/2016 08:55:02 AM</td>\n      <td>41.877567</td>\n      <td>-87.684714</td>\n      <td>(41.877567416, -87.684713886)</td>\n    </tr>\n    <tr>\n      <th>1865950</th>\n      <td>6247829</td>\n      <td>4773579</td>\n      <td>HM327640</td>\n      <td>10/01/2005 12:01:00 AM</td>\n      <td>037XX N MOZART ST</td>\n      <td>0281</td>\n      <td>CRIM SEXUAL ASSAULT</td>\n      <td>NON-AGGRAVATED</td>\n      <td>RESIDENCE</td>\n      <td>False</td>\n      <td>...</td>\n      <td>33.0</td>\n      <td>16.0</td>\n      <td>02</td>\n      <td>NaN</td>\n      <td>NaN</td>\n      <td>2005.0</td>\n      <td>08/17/2015 03:03:40 PM</td>\n      <td>NaN</td>\n      <td>NaN</td>\n      <td>NaN</td>\n    </tr>\n    <tr>\n      <th>1866789</th>\n      <td>6248676</td>\n      <td>4665625</td>\n      <td>HM265386</td>\n      <td>12/01/2005 03:00:00 PM</td>\n      <td>016XX W JUNEWAY TER</td>\n      <td>0265</td>\n      <td>CRIM SEXUAL ASSAULT</td>\n      <td>AGGRAVATED: OTHER</td>\n      <td>APARTMENT</td>\n      <td>False</td>\n      <td>...</td>\n      <td>49.0</td>\n      <td>1.0</td>\n      <td>02</td>\n      <td>1163867.0</td>\n      <td>1951492.0</td>\n      <td>2005.0</td>\n      <td>04/15/2016 08:55:02 AM</td>\n      <td>42.022525</td>\n      <td>-87.672290</td>\n      <td>(42.022525464, -87.672290154)</td>\n    </tr>\n  </tbody>\n</table>\n<p>19035 rows × 23 columns</p>\n</div>"
     },
     "execution_count": 31,
     "metadata": {},
     "output_type": "execute_result"
    }
   ],
   "source": [
    "pollution_1995_2005 = pollution_1995_2005.mean()\n",
    "\n",
    "pollution_1995_2005"
   ]
  },
  {
   "cell_type": "code",
   "execution_count": 32,
   "id": "eb72da76",
   "metadata": {},
   "outputs": [
    {
     "name": "stderr",
     "output_type": "stream",
     "text": [
      "C:\\Users\\Adrian\\AppData\\Local\\Temp\\ipykernel_16176\\1874833045.py:1: SettingWithCopyWarning: \n",
      "A value is trying to be set on a copy of a slice from a DataFrame.\n",
      "Try using .loc[row_indexer,col_indexer] = value instead\n",
      "\n",
      "See the caveats in the documentation: https://pandas.pydata.org/pandas-docs/stable/user_guide/indexing.html#returning-a-view-versus-a-copy\n",
      "  sex_crime['Year'] = sex_crime['Year'].astype('int64')\n"
     ]
    }
   ],
   "source": [
    "births =  pd.read_csv('health/births-and-birth-rates-in-chicago-by-year-1999-2009.csv')\n",
    "births = births[['Births 1999', 'Births 2000', 'Births 2001', 'Births 2002', 'Births 2003', 'Births 2004','Births 2005']]\n",
    "births = births.sum()\n",
    "births"
   ]
  },
  {
   "cell_type": "code",
   "execution_count": 33,
   "id": "8f18832d",
   "metadata": {},
   "outputs": [
    {
     "data": {
      "text/plain": "Year\n2001    4016\n2002    3989\n2003    3616\n2004    2872\n2005    3341\nName: No. of sexual crimes, dtype: int64"
     },
     "execution_count": 33,
     "metadata": {},
     "output_type": "execute_result"
    }
   ],
   "source": [
    "result_2 = pd.concat([pollution_1995_2005.reset_index(drop=True), births.reset_index(drop=True)], axis=1)\n",
    "result_2.index = pollution_1995_2005.index\n",
    "result_2 = result_2.rename(columns={0: \"Births\"})\n",
    "result_2"
   ]
  },
  {
   "cell_type": "code",
   "execution_count": 34,
   "id": "d80138bf",
   "metadata": {},
   "outputs": [
    {
     "data": {
      "text/plain": "    Community Area Community Area Name  Cases 2000 Female 15-44  \\\n0                1         Rogers Park                    258.0   \n1                2          West Ridge                     69.0   \n2                3              Uptown                    169.0   \n3                4      Lincoln Square                     51.0   \n4                5        North Center                     26.0   \n..             ...                 ...                      ...   \n73              74     Mount Greenwood                      5.0   \n74              75         Morgan Park                    123.0   \n75              76              O'Hare                     10.0   \n76              77           Edgewater                    106.0   \n77              99             Unknown                     15.0   \n\n    Incidence Rate 2000  Incidence Rate 2000 Lower CI  \\\n0                1522.1                        1336.4   \n1                 439.9                         342.3   \n2                1079.7                         916.9   \n3                 431.3                         321.1   \n4                 277.1                         181.0   \n..                  ...                           ...   \n73                123.5                          40.1   \n74               2284.1                        1880.4   \n75                342.8                         164.4   \n76                673.8                         545.5   \n77                  NaN                           0.0   \n\n    Incidence Rate 2000 Upper CI  Cases 2001 Female 15-44  \\\n0                         1707.8                    217.0   \n1                          556.7                     66.0   \n2                         1242.5                    157.0   \n3                          567.1                     59.0   \n4                          406.0                     35.0   \n..                           ...                      ...   \n73                         288.2                     10.0   \n74                        2687.8                     91.0   \n75                         630.4                     11.0   \n76                         802.1                    102.0   \n77                           0.0                    197.0   \n\n    Incidence Rate 2001  Incidence Rate 2001 Lower CI  \\\n0                1298.5                        1125.7   \n1                 422.9                         327.1   \n2                1009.5                         851.6   \n3                 501.8                         382.0   \n4                 373.1                         259.9   \n..                  ...                           ...   \n73                247.2                         118.5   \n74               1722.2                        1386.6   \n75                378.0                         188.7   \n76                654.9                         527.8   \n77                  NaN                           0.0   \n\n    Incidence Rate 2001 Upper CI  ...  Incidence Rate 2012 Upper CI  \\\n0                         1471.3  ...                        1694.6   \n1                          538.0  ...                        1160.9   \n2                         1167.4  ...                        1262.4   \n3                          647.3  ...                         734.0   \n4                          518.9  ...                         532.2   \n..                           ...  ...                           ...   \n73                         454.6  ...                         884.7   \n74                        2114.5  ...                        4226.8   \n75                         676.3  ...                        1041.4   \n76                         782.0  ...                         852.7   \n77                           0.0  ...                           NaN   \n\n    Cases 2013 Female 15-44  Incidence Rate 2013  \\\n0                       203               1393.1   \n1                       164               1101.0   \n2                       135                922.2   \n3                        66                592.7   \n4                        36                384.4   \n..                      ...                  ...   \n73                       18                446.0   \n74                      156               3568.2   \n75                       12                421.2   \n76                       99                699.4   \n77                       35                  NaN   \n\n    Incidence Rate 2013 Lower CI  Incidence Rate 2013 Upper CI  \\\n0                         1201.5                        1584.7   \n1                          932.5                        1269.5   \n2                          766.6                        1077.8   \n3                          458.4                         754.1   \n4                          269.2                         532.2   \n..                           ...                           ...   \n73                         264.3                         704.9   \n74                        3008.3                        4128.1   \n75                         217.6                         735.8   \n76                         568.4                         851.5   \n77                           NaN                           NaN   \n\n    Cases 2014 Female 15-44  Incidence Rate 2014  \\\n0                       234               1605.8   \n1                       159               1067.5   \n2                       177               1209.1   \n3                        72                646.6   \n4                        39                416.4   \n..                      ...                  ...   \n73                       32                792.9   \n74                      138               3156.5   \n75                       18                631.8   \n76                       90                635.8   \n77                       27                  NaN   \n\n    Incidence Rate 2014 Lower CI  Incidence Rate 2014 Upper CI  \\\n0                         1400.1                        1811.5   \n1                          901.6                        1233.4   \n2                         1031.0                        1387.2   \n3                          505.9                         814.3   \n4                          296.1                         569.2   \n..                           ...                           ...   \n73                         542.3                        1119.3   \n74                        2629.8                        3683.2   \n75                         374.4                         998.5   \n76                         511.3                         781.5   \n77                           NaN                           NaN   \n\n                                              WARNING  \n0                                                 NaN  \n1                                                 NaN  \n2                                                 NaN  \n3                                                 NaN  \n4                                                 NaN  \n..                                                ...  \n73  Rate and confidence interval estimates for yea...  \n74                                                NaN  \n75  Rate and confidence interval estimates for yea...  \n76                                                NaN  \n77                                                NaN  \n\n[78 rows x 63 columns]",
      "text/html": "<div>\n<style scoped>\n    .dataframe tbody tr th:only-of-type {\n        vertical-align: middle;\n    }\n\n    .dataframe tbody tr th {\n        vertical-align: top;\n    }\n\n    .dataframe thead th {\n        text-align: right;\n    }\n</style>\n<table border=\"1\" class=\"dataframe\">\n  <thead>\n    <tr style=\"text-align: right;\">\n      <th></th>\n      <th>Community Area</th>\n      <th>Community Area Name</th>\n      <th>Cases 2000 Female 15-44</th>\n      <th>Incidence Rate 2000</th>\n      <th>Incidence Rate 2000 Lower CI</th>\n      <th>Incidence Rate 2000 Upper CI</th>\n      <th>Cases 2001 Female 15-44</th>\n      <th>Incidence Rate 2001</th>\n      <th>Incidence Rate 2001 Lower CI</th>\n      <th>Incidence Rate 2001 Upper CI</th>\n      <th>...</th>\n      <th>Incidence Rate 2012 Upper CI</th>\n      <th>Cases 2013 Female 15-44</th>\n      <th>Incidence Rate 2013</th>\n      <th>Incidence Rate 2013 Lower CI</th>\n      <th>Incidence Rate 2013 Upper CI</th>\n      <th>Cases 2014 Female 15-44</th>\n      <th>Incidence Rate 2014</th>\n      <th>Incidence Rate 2014 Lower CI</th>\n      <th>Incidence Rate 2014 Upper CI</th>\n      <th>WARNING</th>\n    </tr>\n  </thead>\n  <tbody>\n    <tr>\n      <th>0</th>\n      <td>1</td>\n      <td>Rogers Park</td>\n      <td>258.0</td>\n      <td>1522.1</td>\n      <td>1336.4</td>\n      <td>1707.8</td>\n      <td>217.0</td>\n      <td>1298.5</td>\n      <td>1125.7</td>\n      <td>1471.3</td>\n      <td>...</td>\n      <td>1694.6</td>\n      <td>203</td>\n      <td>1393.1</td>\n      <td>1201.5</td>\n      <td>1584.7</td>\n      <td>234</td>\n      <td>1605.8</td>\n      <td>1400.1</td>\n      <td>1811.5</td>\n      <td>NaN</td>\n    </tr>\n    <tr>\n      <th>1</th>\n      <td>2</td>\n      <td>West Ridge</td>\n      <td>69.0</td>\n      <td>439.9</td>\n      <td>342.3</td>\n      <td>556.7</td>\n      <td>66.0</td>\n      <td>422.9</td>\n      <td>327.1</td>\n      <td>538.0</td>\n      <td>...</td>\n      <td>1160.9</td>\n      <td>164</td>\n      <td>1101.0</td>\n      <td>932.5</td>\n      <td>1269.5</td>\n      <td>159</td>\n      <td>1067.5</td>\n      <td>901.6</td>\n      <td>1233.4</td>\n      <td>NaN</td>\n    </tr>\n    <tr>\n      <th>2</th>\n      <td>3</td>\n      <td>Uptown</td>\n      <td>169.0</td>\n      <td>1079.7</td>\n      <td>916.9</td>\n      <td>1242.5</td>\n      <td>157.0</td>\n      <td>1009.5</td>\n      <td>851.6</td>\n      <td>1167.4</td>\n      <td>...</td>\n      <td>1262.4</td>\n      <td>135</td>\n      <td>922.2</td>\n      <td>766.6</td>\n      <td>1077.8</td>\n      <td>177</td>\n      <td>1209.1</td>\n      <td>1031.0</td>\n      <td>1387.2</td>\n      <td>NaN</td>\n    </tr>\n    <tr>\n      <th>3</th>\n      <td>4</td>\n      <td>Lincoln Square</td>\n      <td>51.0</td>\n      <td>431.3</td>\n      <td>321.1</td>\n      <td>567.1</td>\n      <td>59.0</td>\n      <td>501.8</td>\n      <td>382.0</td>\n      <td>647.3</td>\n      <td>...</td>\n      <td>734.0</td>\n      <td>66</td>\n      <td>592.7</td>\n      <td>458.4</td>\n      <td>754.1</td>\n      <td>72</td>\n      <td>646.6</td>\n      <td>505.9</td>\n      <td>814.3</td>\n      <td>NaN</td>\n    </tr>\n    <tr>\n      <th>4</th>\n      <td>5</td>\n      <td>North Center</td>\n      <td>26.0</td>\n      <td>277.1</td>\n      <td>181.0</td>\n      <td>406.0</td>\n      <td>35.0</td>\n      <td>373.1</td>\n      <td>259.9</td>\n      <td>518.9</td>\n      <td>...</td>\n      <td>532.2</td>\n      <td>36</td>\n      <td>384.4</td>\n      <td>269.2</td>\n      <td>532.2</td>\n      <td>39</td>\n      <td>416.4</td>\n      <td>296.1</td>\n      <td>569.2</td>\n      <td>NaN</td>\n    </tr>\n    <tr>\n      <th>...</th>\n      <td>...</td>\n      <td>...</td>\n      <td>...</td>\n      <td>...</td>\n      <td>...</td>\n      <td>...</td>\n      <td>...</td>\n      <td>...</td>\n      <td>...</td>\n      <td>...</td>\n      <td>...</td>\n      <td>...</td>\n      <td>...</td>\n      <td>...</td>\n      <td>...</td>\n      <td>...</td>\n      <td>...</td>\n      <td>...</td>\n      <td>...</td>\n      <td>...</td>\n      <td>...</td>\n    </tr>\n    <tr>\n      <th>73</th>\n      <td>74</td>\n      <td>Mount Greenwood</td>\n      <td>5.0</td>\n      <td>123.5</td>\n      <td>40.1</td>\n      <td>288.2</td>\n      <td>10.0</td>\n      <td>247.2</td>\n      <td>118.5</td>\n      <td>454.6</td>\n      <td>...</td>\n      <td>884.7</td>\n      <td>18</td>\n      <td>446.0</td>\n      <td>264.3</td>\n      <td>704.9</td>\n      <td>32</td>\n      <td>792.9</td>\n      <td>542.3</td>\n      <td>1119.3</td>\n      <td>Rate and confidence interval estimates for yea...</td>\n    </tr>\n    <tr>\n      <th>74</th>\n      <td>75</td>\n      <td>Morgan Park</td>\n      <td>123.0</td>\n      <td>2284.1</td>\n      <td>1880.4</td>\n      <td>2687.8</td>\n      <td>91.0</td>\n      <td>1722.2</td>\n      <td>1386.6</td>\n      <td>2114.5</td>\n      <td>...</td>\n      <td>4226.8</td>\n      <td>156</td>\n      <td>3568.2</td>\n      <td>3008.3</td>\n      <td>4128.1</td>\n      <td>138</td>\n      <td>3156.5</td>\n      <td>2629.8</td>\n      <td>3683.2</td>\n      <td>NaN</td>\n    </tr>\n    <tr>\n      <th>75</th>\n      <td>76</td>\n      <td>O'Hare</td>\n      <td>10.0</td>\n      <td>342.8</td>\n      <td>164.4</td>\n      <td>630.4</td>\n      <td>11.0</td>\n      <td>378.0</td>\n      <td>188.7</td>\n      <td>676.3</td>\n      <td>...</td>\n      <td>1041.4</td>\n      <td>12</td>\n      <td>421.2</td>\n      <td>217.6</td>\n      <td>735.8</td>\n      <td>18</td>\n      <td>631.8</td>\n      <td>374.4</td>\n      <td>998.5</td>\n      <td>Rate and confidence interval estimates for yea...</td>\n    </tr>\n    <tr>\n      <th>76</th>\n      <td>77</td>\n      <td>Edgewater</td>\n      <td>106.0</td>\n      <td>673.8</td>\n      <td>545.5</td>\n      <td>802.1</td>\n      <td>102.0</td>\n      <td>654.9</td>\n      <td>527.8</td>\n      <td>782.0</td>\n      <td>...</td>\n      <td>852.7</td>\n      <td>99</td>\n      <td>699.4</td>\n      <td>568.4</td>\n      <td>851.5</td>\n      <td>90</td>\n      <td>635.8</td>\n      <td>511.3</td>\n      <td>781.5</td>\n      <td>NaN</td>\n    </tr>\n    <tr>\n      <th>77</th>\n      <td>99</td>\n      <td>Unknown</td>\n      <td>15.0</td>\n      <td>NaN</td>\n      <td>0.0</td>\n      <td>0.0</td>\n      <td>197.0</td>\n      <td>NaN</td>\n      <td>0.0</td>\n      <td>0.0</td>\n      <td>...</td>\n      <td>NaN</td>\n      <td>35</td>\n      <td>NaN</td>\n      <td>NaN</td>\n      <td>NaN</td>\n      <td>27</td>\n      <td>NaN</td>\n      <td>NaN</td>\n      <td>NaN</td>\n      <td>NaN</td>\n    </tr>\n  </tbody>\n</table>\n<p>78 rows × 63 columns</p>\n</div>"
     },
     "execution_count": 34,
     "metadata": {},
     "output_type": "execute_result"
    }
   ],
   "source": [
    "infant_mortality = pd.read_csv('health/infant-mortality-in-chicago-2005-2009.csv')\n",
    "infant_mortality = infant_mortality['Deaths 2005']\n",
    "infant_mortality"
   ]
  },
  {
   "cell_type": "code",
   "execution_count": 35,
   "id": "d0ac8af6",
   "metadata": {},
   "outputs": [
    {
     "data": {
      "text/plain": "    Cases 2001 Female 15-44  Cases 2002 Female 15-44  Cases 2003 Female 15-44  \\\n0                     217.0                    229.0                    224.0   \n1                      66.0                     71.0                     67.0   \n2                     157.0                    133.0                    127.0   \n3                      59.0                     45.0                     43.0   \n4                      35.0                     28.0                     30.0   \n..                      ...                      ...                      ...   \n73                     10.0                     10.0                     16.0   \n74                     91.0                    109.0                    148.0   \n75                     11.0                      NaN                      6.0   \n76                    102.0                    107.0                     97.0   \n77                    197.0                    129.0                     18.0   \n\n    Cases 2004 Female 15-44  Cases 2005 Female 15-44  \n0                     189.0                    184.0  \n1                     100.0                     95.0  \n2                     128.0                    147.0  \n3                      52.0                     67.0  \n4                      41.0                     32.0  \n..                      ...                      ...  \n73                     11.0                      8.0  \n74                    158.0                    143.0  \n75                      5.0                      6.0  \n76                     75.0                     83.0  \n77                   1483.0                   1224.0  \n\n[78 rows x 5 columns]",
      "text/html": "<div>\n<style scoped>\n    .dataframe tbody tr th:only-of-type {\n        vertical-align: middle;\n    }\n\n    .dataframe tbody tr th {\n        vertical-align: top;\n    }\n\n    .dataframe thead th {\n        text-align: right;\n    }\n</style>\n<table border=\"1\" class=\"dataframe\">\n  <thead>\n    <tr style=\"text-align: right;\">\n      <th></th>\n      <th>Cases 2001 Female 15-44</th>\n      <th>Cases 2002 Female 15-44</th>\n      <th>Cases 2003 Female 15-44</th>\n      <th>Cases 2004 Female 15-44</th>\n      <th>Cases 2005 Female 15-44</th>\n    </tr>\n  </thead>\n  <tbody>\n    <tr>\n      <th>0</th>\n      <td>217.0</td>\n      <td>229.0</td>\n      <td>224.0</td>\n      <td>189.0</td>\n      <td>184.0</td>\n    </tr>\n    <tr>\n      <th>1</th>\n      <td>66.0</td>\n      <td>71.0</td>\n      <td>67.0</td>\n      <td>100.0</td>\n      <td>95.0</td>\n    </tr>\n    <tr>\n      <th>2</th>\n      <td>157.0</td>\n      <td>133.0</td>\n      <td>127.0</td>\n      <td>128.0</td>\n      <td>147.0</td>\n    </tr>\n    <tr>\n      <th>3</th>\n      <td>59.0</td>\n      <td>45.0</td>\n      <td>43.0</td>\n      <td>52.0</td>\n      <td>67.0</td>\n    </tr>\n    <tr>\n      <th>4</th>\n      <td>35.0</td>\n      <td>28.0</td>\n      <td>30.0</td>\n      <td>41.0</td>\n      <td>32.0</td>\n    </tr>\n    <tr>\n      <th>...</th>\n      <td>...</td>\n      <td>...</td>\n      <td>...</td>\n      <td>...</td>\n      <td>...</td>\n    </tr>\n    <tr>\n      <th>73</th>\n      <td>10.0</td>\n      <td>10.0</td>\n      <td>16.0</td>\n      <td>11.0</td>\n      <td>8.0</td>\n    </tr>\n    <tr>\n      <th>74</th>\n      <td>91.0</td>\n      <td>109.0</td>\n      <td>148.0</td>\n      <td>158.0</td>\n      <td>143.0</td>\n    </tr>\n    <tr>\n      <th>75</th>\n      <td>11.0</td>\n      <td>NaN</td>\n      <td>6.0</td>\n      <td>5.0</td>\n      <td>6.0</td>\n    </tr>\n    <tr>\n      <th>76</th>\n      <td>102.0</td>\n      <td>107.0</td>\n      <td>97.0</td>\n      <td>75.0</td>\n      <td>83.0</td>\n    </tr>\n    <tr>\n      <th>77</th>\n      <td>197.0</td>\n      <td>129.0</td>\n      <td>18.0</td>\n      <td>1483.0</td>\n      <td>1224.0</td>\n    </tr>\n  </tbody>\n</table>\n<p>78 rows × 5 columns</p>\n</div>"
     },
     "execution_count": 35,
     "metadata": {},
     "output_type": "execute_result"
    }
   ],
   "source": [
    "low_birth_weigh = pd.read_csv('health/low-birth-weight-in-chicago-by-year-1999-2009.csv')\n",
    "low_birth_weigh = low_birth_weigh[['Births 1999', 'Births 2000', 'Births 2001', \\\n",
    "                                  'Births 2002', 'Births 2003', 'Births 2004',\\\n",
    "                                  'Births 2005']]\n",
    "low_birth_weigh = low_birth_weigh.sum()\n",
    "low_birth_weigh"
   ]
  },
  {
   "cell_type": "code",
   "execution_count": 36,
   "id": "01f4cc6c",
   "metadata": {},
   "outputs": [],
   "source": [
    "result_2 = pd.concat([result_2.reset_index(drop=True), low_birth_weigh.reset_index(drop=True)], axis=1)\n",
    "result_2.index = pollution_1995_2005.index\n",
    "result_2 = result_2.rename(columns={0: \"Low Weight Births\"})\n",
    "result_2"
   ]
  },
  {
   "cell_type": "code",
   "execution_count": 37,
   "id": "df39f238",
   "metadata": {
    "pycharm": {
     "name": "#%%\n"
    }
   },
   "outputs": [
    {
     "data": {
      "text/plain": "      No. of sexual crimes  Chlamydia  Gonorrhea  Sum of diseases\n2001                  4016    14170.0     6216.0          20386.0\n2002                  3989    13747.0     5662.0          19409.0\n2003                  3616    14682.0     5305.0          19987.0\n2004                  2872    15912.0     5707.0          21619.0\n2005                  3341    16150.0     4976.0          21126.0",
      "text/html": "<div>\n<style scoped>\n    .dataframe tbody tr th:only-of-type {\n        vertical-align: middle;\n    }\n\n    .dataframe tbody tr th {\n        vertical-align: top;\n    }\n\n    .dataframe thead th {\n        text-align: right;\n    }\n</style>\n<table border=\"1\" class=\"dataframe\">\n  <thead>\n    <tr style=\"text-align: right;\">\n      <th></th>\n      <th>No. of sexual crimes</th>\n      <th>Chlamydia</th>\n      <th>Gonorrhea</th>\n      <th>Sum of diseases</th>\n    </tr>\n  </thead>\n  <tbody>\n    <tr>\n      <th>2001</th>\n      <td>4016</td>\n      <td>14170.0</td>\n      <td>6216.0</td>\n      <td>20386.0</td>\n    </tr>\n    <tr>\n      <th>2002</th>\n      <td>3989</td>\n      <td>13747.0</td>\n      <td>5662.0</td>\n      <td>19409.0</td>\n    </tr>\n    <tr>\n      <th>2003</th>\n      <td>3616</td>\n      <td>14682.0</td>\n      <td>5305.0</td>\n      <td>19987.0</td>\n    </tr>\n    <tr>\n      <th>2004</th>\n      <td>2872</td>\n      <td>15912.0</td>\n      <td>5707.0</td>\n      <td>21619.0</td>\n    </tr>\n    <tr>\n      <th>2005</th>\n      <td>3341</td>\n      <td>16150.0</td>\n      <td>4976.0</td>\n      <td>21126.0</td>\n    </tr>\n  </tbody>\n</table>\n</div>"
     },
     "execution_count": 37,
     "metadata": {},
     "output_type": "execute_result"
    }
   ],
   "source": [
    "sex_crime_disease = pd.concat([sex_crime_by_year, chlamydia_cases_sum,gonorrhea_cases_sum], axis=1)\n",
    "sex_crime_disease['Sum of diseases'] = sex_crime_disease['Chlamydia'] + sex_crime_disease['Gonorrhea']\n",
    "result_4 = sex_crime_disease\n",
    "result_4"
   ]
  },
  {
   "cell_type": "code",
   "execution_count": 37,
   "id": "1a9f8113",
   "metadata": {
    "pycharm": {
     "name": "#%%\n"
    }
   },
   "outputs": [],
   "source": []
  },
  {
   "cell_type": "code",
   "execution_count": 21,
   "id": "ce16b857",
   "metadata": {},
   "outputs": [],
   "source": [
    "blood_lead_levels = pd.read_csv('health/screening-for-elevated-blood-lead-levels-in-children-aged-0-6-years-by-year-chicago-1999-2013.csv')\n",
    "blood_lead_levels = blood_lead_levels[['Percent Elevated 1999', 'Percent Elevated 2000', 'Percent Elevated 2001', \\\n",
    "                                      'Percent Elevated 2002', 'Percent Elevated 2003', 'Percent Elevated 2004', \\\n",
    "                                      'Percent Elevated 2005']]\n",
    "blood_lead_levels = blood_lead_levels.mean()"
   ]
  },
  {
   "cell_type": "code",
   "execution_count": 22,
   "id": "9873d84d",
   "metadata": {},
   "outputs": [
    {
     "data": {
      "text/html": [
       "<div>\n",
       "<style scoped>\n",
       "    .dataframe tbody tr th:only-of-type {\n",
       "        vertical-align: middle;\n",
       "    }\n",
       "\n",
       "    .dataframe tbody tr th {\n",
       "        vertical-align: top;\n",
       "    }\n",
       "\n",
       "    .dataframe thead th {\n",
       "        text-align: right;\n",
       "    }\n",
       "</style>\n",
       "<table border=\"1\" class=\"dataframe\">\n",
       "  <thead>\n",
       "    <tr style=\"text-align: right;\">\n",
       "      <th></th>\n",
       "      <th>o3tmean2</th>\n",
       "      <th>no2tmean2</th>\n",
       "      <th>Births</th>\n",
       "      <th>Low Weight Births</th>\n",
       "      <th>Pre-term Births</th>\n",
       "      <th>Blood Lead Level Elevated (%)</th>\n",
       "    </tr>\n",
       "    <tr>\n",
       "      <th>date</th>\n",
       "      <th></th>\n",
       "      <th></th>\n",
       "      <th></th>\n",
       "      <th></th>\n",
       "      <th></th>\n",
       "      <th></th>\n",
       "    </tr>\n",
       "  </thead>\n",
       "  <tbody>\n",
       "    <tr>\n",
       "      <th>1999</th>\n",
       "      <td>20.465933</td>\n",
       "      <td>24.933394</td>\n",
       "      <td>100456</td>\n",
       "      <td>10104</td>\n",
       "      <td>11360</td>\n",
       "      <td>12.710127</td>\n",
       "    </tr>\n",
       "    <tr>\n",
       "      <th>2000</th>\n",
       "      <td>18.531011</td>\n",
       "      <td>24.073101</td>\n",
       "      <td>100980</td>\n",
       "      <td>9832</td>\n",
       "      <td>11404</td>\n",
       "      <td>10.955696</td>\n",
       "    </tr>\n",
       "    <tr>\n",
       "      <th>2001</th>\n",
       "      <td>19.354205</td>\n",
       "      <td>25.389624</td>\n",
       "      <td>98631</td>\n",
       "      <td>9903</td>\n",
       "      <td>11082</td>\n",
       "      <td>8.674684</td>\n",
       "    </tr>\n",
       "    <tr>\n",
       "      <th>2002</th>\n",
       "      <td>20.989783</td>\n",
       "      <td>23.667676</td>\n",
       "      <td>95346</td>\n",
       "      <td>9501</td>\n",
       "      <td>10866</td>\n",
       "      <td>6.853165</td>\n",
       "    </tr>\n",
       "    <tr>\n",
       "      <th>2003</th>\n",
       "      <td>20.977644</td>\n",
       "      <td>25.244054</td>\n",
       "      <td>95412</td>\n",
       "      <td>9655</td>\n",
       "      <td>10897</td>\n",
       "      <td>4.745570</td>\n",
       "    </tr>\n",
       "    <tr>\n",
       "      <th>2004</th>\n",
       "      <td>20.536332</td>\n",
       "      <td>23.444885</td>\n",
       "      <td>92492</td>\n",
       "      <td>9245</td>\n",
       "      <td>10768</td>\n",
       "      <td>4.173418</td>\n",
       "    </tr>\n",
       "    <tr>\n",
       "      <th>2005</th>\n",
       "      <td>23.250160</td>\n",
       "      <td>23.192655</td>\n",
       "      <td>90305</td>\n",
       "      <td>9196</td>\n",
       "      <td>10645</td>\n",
       "      <td>3.688608</td>\n",
       "    </tr>\n",
       "  </tbody>\n",
       "</table>\n",
       "</div>"
      ],
      "text/plain": [
       "       o3tmean2  no2tmean2  Births  Low Weight Births  Pre-term Births  \\\n",
       "date                                                                     \n",
       "1999  20.465933  24.933394  100456              10104            11360   \n",
       "2000  18.531011  24.073101  100980               9832            11404   \n",
       "2001  19.354205  25.389624   98631               9903            11082   \n",
       "2002  20.989783  23.667676   95346               9501            10866   \n",
       "2003  20.977644  25.244054   95412               9655            10897   \n",
       "2004  20.536332  23.444885   92492               9245            10768   \n",
       "2005  23.250160  23.192655   90305               9196            10645   \n",
       "\n",
       "      Blood Lead Level Elevated (%)  \n",
       "date                                 \n",
       "1999                      12.710127  \n",
       "2000                      10.955696  \n",
       "2001                       8.674684  \n",
       "2002                       6.853165  \n",
       "2003                       4.745570  \n",
       "2004                       4.173418  \n",
       "2005                       3.688608  "
      ]
     },
     "execution_count": 22,
     "metadata": {},
     "output_type": "execute_result"
    }
   ],
   "source": [
    "result_2 = pd.concat([result_2.reset_index(drop=True), blood_lead_levels.reset_index(drop=True)], axis=1)\n",
    "result_2.index = pollution_1995_2005.index\n",
    "result_2 = result_2.rename(columns={0: \"Blood Lead Level Elevated (%)\"})\n",
    "result_2 = result_2.drop(columns=['tmpd', 'dptp', 'pm25tmean2', 'pm10tmean2'])\n",
    "result_2"
   ]
  },
  {
   "cell_type": "code",
   "execution_count": 23,
   "id": "ab3c7130",
   "metadata": {},
   "outputs": [
    {
     "data": {
      "text/plain": [
       "Index(['o3tmean2', 'no2tmean2', 'Births', 'Low Weight Births',\n",
       "       'Pre-term Births', 'Blood Lead Level Elevated (%)'],\n",
       "      dtype='object')"
      ]
     },
     "execution_count": 23,
     "metadata": {},
     "output_type": "execute_result"
    }
   ],
   "source": [
    "result_2.columns"
   ]
  },
  {
   "cell_type": "code",
   "execution_count": 24,
   "id": "03238812",
   "metadata": {
    "pycharm": {
     "name": "#%%\n"
    }
   },
   "outputs": [
    {
     "ename": "FileNotFoundError",
     "evalue": "[Errno 2] No such file or directory: 'crime/Chicago_Crimes_2001_to_2004.csv'",
     "output_type": "error",
     "traceback": [
      "\u001B[1;31m---------------------------------------------------------------------------\u001B[0m",
      "\u001B[1;31mFileNotFoundError\u001B[0m                         Traceback (most recent call last)",
      "\u001B[1;32m<ipython-input-24-006a20a7547b>\u001B[0m in \u001B[0;36m<module>\u001B[1;34m\u001B[0m\n\u001B[0;32m      1\u001B[0m crime = pd.concat(\n\u001B[0;32m      2\u001B[0m     [\n\u001B[1;32m----> 3\u001B[1;33m         \u001B[0mpd\u001B[0m\u001B[1;33m.\u001B[0m\u001B[0mread_csv\u001B[0m\u001B[1;33m(\u001B[0m\u001B[1;34m'crime/Chicago_Crimes_2001_to_2004.csv'\u001B[0m\u001B[1;33m,\u001B[0m \u001B[0merror_bad_lines\u001B[0m\u001B[1;33m=\u001B[0m\u001B[1;32mFalse\u001B[0m\u001B[1;33m)\u001B[0m\u001B[1;33m,\u001B[0m\u001B[1;33m\u001B[0m\u001B[1;33m\u001B[0m\u001B[0m\n\u001B[0m\u001B[0;32m      4\u001B[0m         \u001B[0mpd\u001B[0m\u001B[1;33m.\u001B[0m\u001B[0mread_csv\u001B[0m\u001B[1;33m(\u001B[0m\u001B[1;34m'crime/Chicago_Crimes_2005_to_2007.csv'\u001B[0m\u001B[1;33m,\u001B[0m \u001B[0merror_bad_lines\u001B[0m\u001B[1;33m=\u001B[0m\u001B[1;32mFalse\u001B[0m\u001B[1;33m)\u001B[0m\u001B[1;33m\u001B[0m\u001B[1;33m\u001B[0m\u001B[0m\n\u001B[0;32m      5\u001B[0m     ]\n",
      "\u001B[1;32m~\\anaconda3\\lib\\site-packages\\pandas\\io\\parsers.py\u001B[0m in \u001B[0;36mread_csv\u001B[1;34m(filepath_or_buffer, sep, delimiter, header, names, index_col, usecols, squeeze, prefix, mangle_dupe_cols, dtype, engine, converters, true_values, false_values, skipinitialspace, skiprows, skipfooter, nrows, na_values, keep_default_na, na_filter, verbose, skip_blank_lines, parse_dates, infer_datetime_format, keep_date_col, date_parser, dayfirst, cache_dates, iterator, chunksize, compression, thousands, decimal, lineterminator, quotechar, quoting, doublequote, escapechar, comment, encoding, dialect, error_bad_lines, warn_bad_lines, delim_whitespace, low_memory, memory_map, float_precision, storage_options)\u001B[0m\n\u001B[0;32m    608\u001B[0m     \u001B[0mkwds\u001B[0m\u001B[1;33m.\u001B[0m\u001B[0mupdate\u001B[0m\u001B[1;33m(\u001B[0m\u001B[0mkwds_defaults\u001B[0m\u001B[1;33m)\u001B[0m\u001B[1;33m\u001B[0m\u001B[1;33m\u001B[0m\u001B[0m\n\u001B[0;32m    609\u001B[0m \u001B[1;33m\u001B[0m\u001B[0m\n\u001B[1;32m--> 610\u001B[1;33m     \u001B[1;32mreturn\u001B[0m \u001B[0m_read\u001B[0m\u001B[1;33m(\u001B[0m\u001B[0mfilepath_or_buffer\u001B[0m\u001B[1;33m,\u001B[0m \u001B[0mkwds\u001B[0m\u001B[1;33m)\u001B[0m\u001B[1;33m\u001B[0m\u001B[1;33m\u001B[0m\u001B[0m\n\u001B[0m\u001B[0;32m    611\u001B[0m \u001B[1;33m\u001B[0m\u001B[0m\n\u001B[0;32m    612\u001B[0m \u001B[1;33m\u001B[0m\u001B[0m\n",
      "\u001B[1;32m~\\anaconda3\\lib\\site-packages\\pandas\\io\\parsers.py\u001B[0m in \u001B[0;36m_read\u001B[1;34m(filepath_or_buffer, kwds)\u001B[0m\n\u001B[0;32m    460\u001B[0m \u001B[1;33m\u001B[0m\u001B[0m\n\u001B[0;32m    461\u001B[0m     \u001B[1;31m# Create the parser.\u001B[0m\u001B[1;33m\u001B[0m\u001B[1;33m\u001B[0m\u001B[1;33m\u001B[0m\u001B[0m\n\u001B[1;32m--> 462\u001B[1;33m     \u001B[0mparser\u001B[0m \u001B[1;33m=\u001B[0m \u001B[0mTextFileReader\u001B[0m\u001B[1;33m(\u001B[0m\u001B[0mfilepath_or_buffer\u001B[0m\u001B[1;33m,\u001B[0m \u001B[1;33m**\u001B[0m\u001B[0mkwds\u001B[0m\u001B[1;33m)\u001B[0m\u001B[1;33m\u001B[0m\u001B[1;33m\u001B[0m\u001B[0m\n\u001B[0m\u001B[0;32m    463\u001B[0m \u001B[1;33m\u001B[0m\u001B[0m\n\u001B[0;32m    464\u001B[0m     \u001B[1;32mif\u001B[0m \u001B[0mchunksize\u001B[0m \u001B[1;32mor\u001B[0m \u001B[0miterator\u001B[0m\u001B[1;33m:\u001B[0m\u001B[1;33m\u001B[0m\u001B[1;33m\u001B[0m\u001B[0m\n",
      "\u001B[1;32m~\\anaconda3\\lib\\site-packages\\pandas\\io\\parsers.py\u001B[0m in \u001B[0;36m__init__\u001B[1;34m(self, f, engine, **kwds)\u001B[0m\n\u001B[0;32m    817\u001B[0m             \u001B[0mself\u001B[0m\u001B[1;33m.\u001B[0m\u001B[0moptions\u001B[0m\u001B[1;33m[\u001B[0m\u001B[1;34m\"has_index_names\"\u001B[0m\u001B[1;33m]\u001B[0m \u001B[1;33m=\u001B[0m \u001B[0mkwds\u001B[0m\u001B[1;33m[\u001B[0m\u001B[1;34m\"has_index_names\"\u001B[0m\u001B[1;33m]\u001B[0m\u001B[1;33m\u001B[0m\u001B[1;33m\u001B[0m\u001B[0m\n\u001B[0;32m    818\u001B[0m \u001B[1;33m\u001B[0m\u001B[0m\n\u001B[1;32m--> 819\u001B[1;33m         \u001B[0mself\u001B[0m\u001B[1;33m.\u001B[0m\u001B[0m_engine\u001B[0m \u001B[1;33m=\u001B[0m \u001B[0mself\u001B[0m\u001B[1;33m.\u001B[0m\u001B[0m_make_engine\u001B[0m\u001B[1;33m(\u001B[0m\u001B[0mself\u001B[0m\u001B[1;33m.\u001B[0m\u001B[0mengine\u001B[0m\u001B[1;33m)\u001B[0m\u001B[1;33m\u001B[0m\u001B[1;33m\u001B[0m\u001B[0m\n\u001B[0m\u001B[0;32m    820\u001B[0m \u001B[1;33m\u001B[0m\u001B[0m\n\u001B[0;32m    821\u001B[0m     \u001B[1;32mdef\u001B[0m \u001B[0mclose\u001B[0m\u001B[1;33m(\u001B[0m\u001B[0mself\u001B[0m\u001B[1;33m)\u001B[0m\u001B[1;33m:\u001B[0m\u001B[1;33m\u001B[0m\u001B[1;33m\u001B[0m\u001B[0m\n",
      "\u001B[1;32m~\\anaconda3\\lib\\site-packages\\pandas\\io\\parsers.py\u001B[0m in \u001B[0;36m_make_engine\u001B[1;34m(self, engine)\u001B[0m\n\u001B[0;32m   1048\u001B[0m             )\n\u001B[0;32m   1049\u001B[0m         \u001B[1;31m# error: Too many arguments for \"ParserBase\"\u001B[0m\u001B[1;33m\u001B[0m\u001B[1;33m\u001B[0m\u001B[1;33m\u001B[0m\u001B[0m\n\u001B[1;32m-> 1050\u001B[1;33m         \u001B[1;32mreturn\u001B[0m \u001B[0mmapping\u001B[0m\u001B[1;33m[\u001B[0m\u001B[0mengine\u001B[0m\u001B[1;33m]\u001B[0m\u001B[1;33m(\u001B[0m\u001B[0mself\u001B[0m\u001B[1;33m.\u001B[0m\u001B[0mf\u001B[0m\u001B[1;33m,\u001B[0m \u001B[1;33m**\u001B[0m\u001B[0mself\u001B[0m\u001B[1;33m.\u001B[0m\u001B[0moptions\u001B[0m\u001B[1;33m)\u001B[0m  \u001B[1;31m# type: ignore[call-arg]\u001B[0m\u001B[1;33m\u001B[0m\u001B[1;33m\u001B[0m\u001B[0m\n\u001B[0m\u001B[0;32m   1051\u001B[0m \u001B[1;33m\u001B[0m\u001B[0m\n\u001B[0;32m   1052\u001B[0m     \u001B[1;32mdef\u001B[0m \u001B[0m_failover_to_python\u001B[0m\u001B[1;33m(\u001B[0m\u001B[0mself\u001B[0m\u001B[1;33m)\u001B[0m\u001B[1;33m:\u001B[0m\u001B[1;33m\u001B[0m\u001B[1;33m\u001B[0m\u001B[0m\n",
      "\u001B[1;32m~\\anaconda3\\lib\\site-packages\\pandas\\io\\parsers.py\u001B[0m in \u001B[0;36m__init__\u001B[1;34m(self, src, **kwds)\u001B[0m\n\u001B[0;32m   1865\u001B[0m \u001B[1;33m\u001B[0m\u001B[0m\n\u001B[0;32m   1866\u001B[0m         \u001B[1;31m# open handles\u001B[0m\u001B[1;33m\u001B[0m\u001B[1;33m\u001B[0m\u001B[1;33m\u001B[0m\u001B[0m\n\u001B[1;32m-> 1867\u001B[1;33m         \u001B[0mself\u001B[0m\u001B[1;33m.\u001B[0m\u001B[0m_open_handles\u001B[0m\u001B[1;33m(\u001B[0m\u001B[0msrc\u001B[0m\u001B[1;33m,\u001B[0m \u001B[0mkwds\u001B[0m\u001B[1;33m)\u001B[0m\u001B[1;33m\u001B[0m\u001B[1;33m\u001B[0m\u001B[0m\n\u001B[0m\u001B[0;32m   1868\u001B[0m         \u001B[1;32massert\u001B[0m \u001B[0mself\u001B[0m\u001B[1;33m.\u001B[0m\u001B[0mhandles\u001B[0m \u001B[1;32mis\u001B[0m \u001B[1;32mnot\u001B[0m \u001B[1;32mNone\u001B[0m\u001B[1;33m\u001B[0m\u001B[1;33m\u001B[0m\u001B[0m\n\u001B[0;32m   1869\u001B[0m         \u001B[1;32mfor\u001B[0m \u001B[0mkey\u001B[0m \u001B[1;32min\u001B[0m \u001B[1;33m(\u001B[0m\u001B[1;34m\"storage_options\"\u001B[0m\u001B[1;33m,\u001B[0m \u001B[1;34m\"encoding\"\u001B[0m\u001B[1;33m,\u001B[0m \u001B[1;34m\"memory_map\"\u001B[0m\u001B[1;33m,\u001B[0m \u001B[1;34m\"compression\"\u001B[0m\u001B[1;33m)\u001B[0m\u001B[1;33m:\u001B[0m\u001B[1;33m\u001B[0m\u001B[1;33m\u001B[0m\u001B[0m\n",
      "\u001B[1;32m~\\anaconda3\\lib\\site-packages\\pandas\\io\\parsers.py\u001B[0m in \u001B[0;36m_open_handles\u001B[1;34m(self, src, kwds)\u001B[0m\n\u001B[0;32m   1360\u001B[0m         \u001B[0mLet\u001B[0m \u001B[0mthe\u001B[0m \u001B[0mreaders\u001B[0m \u001B[0mopen\u001B[0m \u001B[0mIOHanldes\u001B[0m \u001B[0mafter\u001B[0m \u001B[0mthey\u001B[0m \u001B[0mare\u001B[0m \u001B[0mdone\u001B[0m \u001B[1;32mwith\u001B[0m \u001B[0mtheir\u001B[0m \u001B[0mpotential\u001B[0m \u001B[0mraises\u001B[0m\u001B[1;33m.\u001B[0m\u001B[1;33m\u001B[0m\u001B[1;33m\u001B[0m\u001B[0m\n\u001B[0;32m   1361\u001B[0m         \"\"\"\n\u001B[1;32m-> 1362\u001B[1;33m         self.handles = get_handle(\n\u001B[0m\u001B[0;32m   1363\u001B[0m             \u001B[0msrc\u001B[0m\u001B[1;33m,\u001B[0m\u001B[1;33m\u001B[0m\u001B[1;33m\u001B[0m\u001B[0m\n\u001B[0;32m   1364\u001B[0m             \u001B[1;34m\"r\"\u001B[0m\u001B[1;33m,\u001B[0m\u001B[1;33m\u001B[0m\u001B[1;33m\u001B[0m\u001B[0m\n",
      "\u001B[1;32m~\\anaconda3\\lib\\site-packages\\pandas\\io\\common.py\u001B[0m in \u001B[0;36mget_handle\u001B[1;34m(path_or_buf, mode, encoding, compression, memory_map, is_text, errors, storage_options)\u001B[0m\n\u001B[0;32m    640\u001B[0m                 \u001B[0merrors\u001B[0m \u001B[1;33m=\u001B[0m \u001B[1;34m\"replace\"\u001B[0m\u001B[1;33m\u001B[0m\u001B[1;33m\u001B[0m\u001B[0m\n\u001B[0;32m    641\u001B[0m             \u001B[1;31m# Encoding\u001B[0m\u001B[1;33m\u001B[0m\u001B[1;33m\u001B[0m\u001B[1;33m\u001B[0m\u001B[0m\n\u001B[1;32m--> 642\u001B[1;33m             handle = open(\n\u001B[0m\u001B[0;32m    643\u001B[0m                 \u001B[0mhandle\u001B[0m\u001B[1;33m,\u001B[0m\u001B[1;33m\u001B[0m\u001B[1;33m\u001B[0m\u001B[0m\n\u001B[0;32m    644\u001B[0m                 \u001B[0mioargs\u001B[0m\u001B[1;33m.\u001B[0m\u001B[0mmode\u001B[0m\u001B[1;33m,\u001B[0m\u001B[1;33m\u001B[0m\u001B[1;33m\u001B[0m\u001B[0m\n",
      "\u001B[1;31mFileNotFoundError\u001B[0m: [Errno 2] No such file or directory: 'crime/Chicago_Crimes_2001_to_2004.csv'"
     ]
    }
   ],
   "source": [
    "crime = pd.concat(\n",
    "    [\n",
    "        pd.read_csv('crime/Chicago_Crimes_2001_to_2004.csv', error_bad_lines=False),\n",
    "        pd.read_csv('crime/Chicago_Crimes_2005_to_2007.csv', error_bad_lines=False)\n",
    "    ]\n",
    ")\n",
    "crime.info()\n"
   ]
  },
  {
   "cell_type": "code",
   "execution_count": null,
   "id": "17c64d68",
   "metadata": {
    "pycharm": {
     "name": "#%%\n"
    }
   },
   "outputs": [],
   "source": [
    "crime_1_5 = crime[(crime['Year'] >= 2001) & (crime['Year'] < 2006)]\n",
    "crime_1_5"
   ]
  },
  {
   "cell_type": "code",
   "execution_count": null,
   "id": "84bb0b4e",
   "metadata": {
    "pycharm": {
     "name": "#%%\n"
    }
   },
   "outputs": [],
   "source": [
    "sex_crime = crime_1_5[crime_1_5['Primary Type'].isin(['CRIM SEXUAL ASSAULT','SEX OFFENSE'])]\n",
    "sex_crime"
   ]
  },
  {
   "cell_type": "code",
   "execution_count": null,
   "id": "1635b5d2",
   "metadata": {
    "pycharm": {
     "name": "#%%\n"
    }
   },
   "outputs": [],
   "source": [
    "sex_crime['Year'] = sex_crime['Year'].astype('int64')"
   ]
  },
  {
   "cell_type": "code",
   "execution_count": null,
   "id": "355b8f30",
   "metadata": {
    "pycharm": {
     "name": "#%%\n"
    }
   },
   "outputs": [],
   "source": [
    "sex_crime_by_year = sex_crime.groupby('Year')['ID'].nunique()\n",
    "sex_crime_by_year.name = 'No. of sexual crimes'\n",
    "sex_crime_by_year\n"
   ]
  },
  {
   "cell_type": "code",
   "execution_count": null,
   "id": "a8482bc0",
   "metadata": {
    "pycharm": {
     "name": "#%%\n"
    }
   },
   "outputs": [],
   "source": [
    "chlamydia = pd.read_csv('health/chlamydia-cases-among-females-aged-15-44-in-chicago-by-year-2000-2014..csv')\n",
    "gonorrhea = pd.read_csv('health/gonorrhea-cases-for-females-aged-15-44-in-chicago-by-year-2000-2014.csv')\n",
    "chlamydia"
   ]
  },
  {
   "cell_type": "code",
   "execution_count": null,
   "id": "12daa235",
   "metadata": {
    "pycharm": {
     "name": "#%%\n"
    }
   },
   "outputs": [],
   "source": [
    "chlamydia_cases = chlamydia[['Cases 2001 Female 15-44',\n",
    "                             'Cases 2002 Female 15-44',\n",
    "                             'Cases 2003 Female 15-44',\n",
    "                             'Cases 2004 Female 15-44',\n",
    "                             'Cases 2005 Female 15-44',\n",
    "                             ]]\n",
    "gonorrhea_cases = gonorrhea[['Cases 2001 Female 15-44',\n",
    "                             'Cases 2002 Female 15-44',\n",
    "                             'Cases 2003 Female 15-44',\n",
    "                             'Cases 2004 Female 15-44',\n",
    "                             'Cases 2005 Female 15-44',\n",
    "                             ]]\n",
    "chlamydia_cases"
   ]
  },
  {
   "cell_type": "code",
   "execution_count": null,
   "id": "5501591d",
   "metadata": {
    "pycharm": {
     "name": "#%%\n"
    }
   },
   "outputs": [],
   "source": [
    "chlamydia_cases.columns = [2001, 2002, 2003, 2004, 2005]\n",
    "gonorrhea_cases.columns = [2001, 2002, 2003, 2004, 2005]\n",
    "chlamydia_cases_sum = chlamydia_cases.sum()\n",
    "gonorrhea_cases_sum = gonorrhea_cases.sum()\n",
    "chlamydia_cases_sum.name = 'Chlamydia'\n",
    "gonorrhea_cases_sum.name = 'Gonorrhea'"
   ]
  },
  {
   "cell_type": "code",
   "execution_count": null,
   "id": "d97db852",
   "metadata": {
    "pycharm": {
     "name": "#%%\n"
    }
   },
   "outputs": [],
   "source": [
    "sex_crime_disease = pd.concat([sex_crime_by_year, chlamydia_cases_sum,gonorrhea_cases_sum], axis=1)\n",
    "sex_crime_disease"
   ]
  },
  {
   "cell_type": "code",
   "execution_count": null,
   "id": "e7a555c4",
   "metadata": {
    "pycharm": {
     "name": "#%%\n"
    }
   },
   "outputs": [],
   "source": []
  }
 ],
 "metadata": {
  "kernelspec": {
   "display_name": "Python 3",
   "language": "python",
   "name": "python3"
  },
  "language_info": {
   "codemirror_mode": {
    "name": "ipython",
    "version": 3
   },
   "file_extension": ".py",
   "mimetype": "text/x-python",
   "name": "python",
   "nbconvert_exporter": "python",
   "pygments_lexer": "ipython3",
   "version": "3.8.8"
  }
 },
 "nbformat": 4,
 "nbformat_minor": 5
}